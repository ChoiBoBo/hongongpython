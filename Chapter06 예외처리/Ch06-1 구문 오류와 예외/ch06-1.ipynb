{
 "cells": [
  {
   "cell_type": "markdown",
   "metadata": {},
   "source": [
    "### 06-1 구문 오류와 예외\n",
    "---\n",
    "***에러(error)***의 발생과 처리"
   ]
  },
  {
   "cell_type": "code",
   "execution_count": null,
   "metadata": {},
   "outputs": [],
   "source": [
    "# 1. 컴파일 에러(syntax error) : 실행 전에 발생하는 문법오류\n",
    "# 2. 런타임 에러(runtine eroor) : 실행 중에 발생하는 오류, 예외(Exception)\n",
    "# 3. 논리, 의미론적 에러(Logic, Semantic Error) :\n",
    "#               결과가 예상과 달리 의도한 작업을 수행하지 못함(에러 메시지가 없어 수정 시 어려움)"
   ]
  },
  {
   "cell_type": "markdown",
   "metadata": {},
   "source": [
    ">구문 오류"
   ]
  },
  {
   "cell_type": "code",
   "execution_count": null,
   "metadata": {},
   "outputs": [],
   "source": [
    "# SyntaxError\n",
    "int i = 0;\n",
    "if i > 0 #:\n",
    "    print(i)"
   ]
  },
  {
   "cell_type": "markdown",
   "metadata": {},
   "source": [
    ">예외(Exception)"
   ]
  },
  {
   "cell_type": "code",
   "execution_count": null,
   "metadata": {},
   "outputs": [],
   "source": [
    "# 중간에 틀려도, 맨 밑에 종료되었습니다는 찍어야 해!\n",
    "\n",
    "print(\"프로그램이 시작 되었습니다.\")\n",
    "\n",
    "# 런타임 오류\n",
    "text = \"abc\"\n",
    "# text[3]  # IndexError \n",
    "\n",
    "i = 0\n",
    "result = 3.14 / i  # ZeroDivisionError\n",
    "\n",
    "print(\"프로그램이 종료 되었습니다.\")"
   ]
  },
  {
   "cell_type": "markdown",
   "metadata": {},
   "source": [
    ">기본적인 예외처리(excepion handling)"
   ]
  },
  {
   "cell_type": "code",
   "execution_count": 9,
   "metadata": {},
   "outputs": [
    {
     "name": "stdout",
     "output_type": "stream",
     "text": [
      "프로그램 시작\n",
      "정수가 아닙니다. 프로그램을 종료합니다.\n",
      "프로그램 종료\n"
     ]
    }
   ],
   "source": [
    "print(\"프로그램 시작\")\n",
    "\n",
    "user_input = input(\"입력한 정수의 제곱을 구합니다: \")\n",
    "if user_input.isdigit():\n",
    "    print(f\"{user_input}의 제곱근은 {int(user_input) ** (1/2)}입니다.\")\n",
    "\n",
    "else:\n",
    "    print(\"정수가 아닙니다. 프로그램을 종료합니다.\")\n",
    "\n",
    "print(\"프로그램 종료\")"
   ]
  }
 ],
 "metadata": {
  "interpreter": {
   "hash": "054c0b5073ae8ed56926c5c67113945079b283bacf1a269ae7086b3d9eebd60c"
  },
  "kernelspec": {
   "display_name": "Python 3.10.1 64-bit",
   "language": "python",
   "name": "python3"
  },
  "language_info": {
   "codemirror_mode": {
    "name": "ipython",
    "version": 3
   },
   "file_extension": ".py",
   "mimetype": "text/x-python",
   "name": "python",
   "nbconvert_exporter": "python",
   "pygments_lexer": "ipython3",
   "version": "3.10.1"
  },
  "orig_nbformat": 4
 },
 "nbformat": 4,
 "nbformat_minor": 2
}
