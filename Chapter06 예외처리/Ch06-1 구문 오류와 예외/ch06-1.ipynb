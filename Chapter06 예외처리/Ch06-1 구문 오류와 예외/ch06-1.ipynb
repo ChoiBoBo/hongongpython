{
 "cells": [
  {
   "cell_type": "markdown",
   "metadata": {},
   "source": [
    "### 06-1 구문 오류와 예외\n",
    "---\n",
    "***에러(error)***의 발생과 처리"
   ]
  },
  {
   "cell_type": "code",
   "execution_count": null,
   "metadata": {},
   "outputs": [],
   "source": [
    "# 1. 컴파일 에러(syntax error) : 실행 전에 발생하는 문법오류\n",
    "# 2. 런타임 에러(runtine eroor) : 실행 중에 발생하는 오류, 예외(Exception)\n",
    "# 3. 논리, 의미론적 에러(Logic, Semantic Error) :\n",
    "#               결과가 예상과 달리 의도한 작업을 수행하지 못함(에러 메시지가 없어 수정 시 어려움)"
   ]
  },
  {
   "cell_type": "markdown",
   "metadata": {},
   "source": [
    ">구문 오류"
   ]
  },
  {
   "cell_type": "code",
   "execution_count": null,
   "metadata": {},
   "outputs": [],
   "source": [
    "# SyntaxError\n",
    "int i = 0;\n",
    "if i > 0 #:\n",
    "    print(i)"
   ]
  },
  {
   "cell_type": "markdown",
   "metadata": {},
   "source": [
    ">예외(Exception)"
   ]
  },
  {
   "cell_type": "code",
   "execution_count": null,
   "metadata": {},
   "outputs": [],
   "source": [
    "# 중간에 틀려도, 맨 밑에 종료되었습니다는 찍어야 해!\n",
    "\n",
    "print(\"프로그램이 시작 되었습니다.\")\n",
    "\n",
    "# 런타임 오류\n",
    "text = \"abc\"\n",
    "text[3]  # IndexError \n",
    "\n",
    "# i = 0\n",
    "# result = 3.14 / i  # ZeroDivisionError\n",
    "\n",
    "print(\"프로그램이 종료 되었습니다.\")"
   ]
  },
  {
   "cell_type": "markdown",
   "metadata": {},
   "source": [
    ">기본적인 예외처리(excepion handling)"
   ]
  },
  {
   "cell_type": "code",
   "execution_count": 9,
   "metadata": {},
   "outputs": [
    {
     "name": "stdout",
     "output_type": "stream",
     "text": [
      "프로그램 시작\n",
      "정수가 아닙니다. 프로그램을 종료합니다.\n",
      "프로그램 종료\n"
     ]
    }
   ],
   "source": [
    "print(\"프로그램 시작\")\n",
    "\n",
    "user_input = input(\"입력한 정수의 제곱을 구합니다: \")\n",
    "if user_input.isdigit():\n",
    "    print(f\"{user_input}의 제곱근은 {int(user_input) ** (1/2)}입니다.\")\n",
    "\n",
    "else:\n",
    "    print(\"정수가 아닙니다. 프로그램을 종료합니다.\")\n",
    "\n",
    "print(\"프로그램 종료\")"
   ]
  },
  {
   "cell_type": "markdown",
   "metadata": {},
   "source": [
    "> try ~ except"
   ]
  },
  {
   "cell_type": "code",
   "execution_count": 11,
   "metadata": {},
   "outputs": [
    {
     "name": "stdout",
     "output_type": "stream",
     "text": [
      "프로그램이 시작되었습니다.\n",
      "예외가 발생되었습니다. float division by zero\n",
      "프로그램이 정상적으로 종료되었습니다.\n"
     ]
    }
   ],
   "source": [
    "# 예외가 나왔다는 게 중요하지만 궁극적인 목적은 프로세스가 끝까지 실행했다! 이게 중요함\n",
    "\n",
    "print(\"프로그램이 시작되었습니다.\")\n",
    "\n",
    "i = 0\n",
    "PI = 3.141592\n",
    "\n",
    "try:\n",
    "    # 예외가 발생할 가능성이 있는 코드\n",
    "    result = PI / i\n",
    "except ZeroDivisionError as ex:\n",
    "    # 예외 해당되는 처리 코드\n",
    "    print(\"예외가 발생되었습니다.\", ex)\n",
    "\n",
    "\n",
    "print(\"프로그램이 정상적으로 종료되었습니다.\")"
   ]
  },
  {
   "cell_type": "code",
   "execution_count": null,
   "metadata": {},
   "outputs": [],
   "source": [
    "print(\"프로그램이 시작 되었습니다. ===================\")\n",
    "\n",
    "list_txt = [\"52\", \"273\", \"A\", \"파이썬\", \"103\"]\n",
    "numbers = []\n",
    "for item in list_txt:\n",
    "    try:\n",
    "        float(item)\n",
    "        numbers.append(item)\n",
    "    except Exception as ex: # 모든 오류 클래스의 부모! 조상!\n",
    "        print(\"에외발생!\", str(ex))\n",
    "        # pass\n",
    "    \n",
    "    \n",
    "\n",
    "print(numbers)\n",
    "\n",
    "print(\"프로그램이 종료 되었습니다. ===================\")"
   ]
  },
  {
   "cell_type": "markdown",
   "metadata": {},
   "source": [
    "> try ~ except ~ except ~ except~ ... "
   ]
  },
  {
   "cell_type": "code",
   "execution_count": null,
   "metadata": {},
   "outputs": [],
   "source": [
    "# 👍\n",
    "index = [0, 1, 2]\n",
    "\n",
    "try:\n",
    "    index[0] = 1\n",
    "    result = index[1] / index[0]\n",
    "    int(\"가\")\n",
    "except IndexError as ei :\n",
    "    print(\"인덱스 에러발생!\", str(ei))\n",
    "except ZeroDivisionError as ez:\n",
    "    print(\"0 으로 나눌 수 없습니다!\", str(ez))\n",
    "except ValueError as ev :\n",
    "    print(\"형변환 에러!\", str(ev))\n",
    "except Exception as ex :\n",
    "    print(type(ex), ex)\n"
   ]
  },
  {
   "cell_type": "markdown",
   "metadata": {},
   "source": [
    ">try ~except~ else"
   ]
  },
  {
   "cell_type": "code",
   "execution_count": 25,
   "metadata": {},
   "outputs": [
    {
     "name": "stdout",
     "output_type": "stream",
     "text": [
      "정수입력 예외발생! invalid literal for int() with base 10: 'ㅁ'\n"
     ]
    }
   ],
   "source": [
    "try:\n",
    "    number_input = int(input(\"정수입력: \"))\n",
    "except Exception as e:\n",
    "    print(\"정수입력 예외발생!\", str(e))\n",
    "else:\n",
    "    print(number_input * 100)"
   ]
  },
  {
   "cell_type": "markdown",
   "metadata": {},
   "source": [
    "> finally 구문"
   ]
  },
  {
   "cell_type": "code",
   "execution_count": null,
   "metadata": {},
   "outputs": [],
   "source": [
    "#pcr 검사 받으러"
   ]
  },
  {
   "cell_type": "code",
   "execution_count": 26,
   "metadata": {},
   "outputs": [
    {
     "name": "stdout",
     "output_type": "stream",
     "text": [
      "test()시작\n",
      "1....\n",
      "finally..\n"
     ]
    }
   ],
   "source": [
    "def test():\n",
    "    print(\"test()시작\")\n",
    "    try:\n",
    "        print(\"1....\")\n",
    "        return\n",
    "        print(\"2....\")\n",
    "    except: print(\"except...\")\n",
    "    else: print(\"else...\")\n",
    "    finally: print(\"finally..\")\n",
    "    print(\"test() 끝\")\n",
    "\n",
    "test()"
   ]
  },
  {
   "cell_type": "code",
   "execution_count": null,
   "metadata": {},
   "outputs": [],
   "source": [
    "# finally VS break\n",
    "while True:\n",
    "    try:\n",
    "        print(\"try 1...\")\n",
    "        print(\"try 2...\")\n",
    "        break\n",
    "        print(\"try 3...\")\n",
    "print(\"프로그램 종료/..\")"
   ]
  }
 ],
 "metadata": {
  "interpreter": {
   "hash": "054c0b5073ae8ed56926c5c67113945079b283bacf1a269ae7086b3d9eebd60c"
  },
  "kernelspec": {
   "display_name": "Python 3.10.1 64-bit",
   "language": "python",
   "name": "python3"
  },
  "language_info": {
   "codemirror_mode": {
    "name": "ipython",
    "version": 3
   },
   "file_extension": ".py",
   "mimetype": "text/x-python",
   "name": "python",
   "nbconvert_exporter": "python",
   "pygments_lexer": "ipython3",
   "version": "3.10.1"
  },
  "orig_nbformat": 4
 },
 "nbformat": 4,
 "nbformat_minor": 2
}
