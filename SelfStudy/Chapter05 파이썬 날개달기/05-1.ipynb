{
 "cells": [
  {
   "cell_type": "markdown",
   "metadata": {},
   "source": [
    "### 05-1 클래스\n",
    "---"
   ]
  },
  {
   "cell_type": "markdown",
   "metadata": {},
   "source": [
    "> 클래스는 왜 필요한가?"
   ]
  },
  {
   "cell_type": "markdown",
   "metadata": {},
   "source": [
    "1. 클래스는 굳이 필요하지 않다.\n",
    "2. 적재적소에 사용하면 상당한 편리함.\n",
    "3. 계산기를 예제를 통해 클래스의 유용성 파악."
   ]
  },
  {
   "cell_type": "code",
   "execution_count": 1,
   "metadata": {},
   "outputs": [
    {
     "name": "stdout",
     "output_type": "stream",
     "text": [
      "3\n",
      "7\n"
     ]
    }
   ],
   "source": [
    "# 계산기의 '더하기' 기능을 구현한 파이썬 코드하기ssssss\n",
    "result = 0\n",
    "def add(num):\n",
    "    global result\n",
    "    result += num\n",
    "    return result\n",
    "\n",
    "print(add(3))\n",
    "print(add(4))\n",
    "\n",
    "# 이전에 계산한 결괏값을 유지하기 위해 result 전역 변수(global)를 사용.\n",
    "# 그런데 한 프로그램에서 2대의 계산기가 필요한 상황이라면?\n",
    "# 위와 같이 add함수 하나만으로 결괏값을 유지할 수 없음\n",
    "# 다음과 같이 함수를 각각 따로 만들어야 함.ssss"
   ]
  },
  {
   "cell_type": "code",
   "execution_count": 3,
   "metadata": {},
   "outputs": [
    {
     "name": "stdout",
     "output_type": "stream",
     "text": [
      "3\n",
      "7\n",
      "3\n",
      "10\n"
     ]
    }
   ],
   "source": [
    "result1 = 0\n",
    "result2 = 0\n",
    "\n",
    "def add1(num):\n",
    "    global result1\n",
    "    result1 += num\n",
    "    return result1\n",
    "\n",
    "def add2(num):\n",
    "    global result2\n",
    "    result2 += num\n",
    "    return result2\n",
    "\n",
    "print(add1(3))\n",
    "print(add1(4))\n",
    "print(add2(3))\n",
    "print(add2(7))\n",
    "\n",
    "# 계산기 1의 결괏값이 2에 아무 영향을 주지 않음.\n",
    "# 하지만 점점 더 많이 필요한다면??????\n",
    "# 나아가 빼기와 곱하기 등 기능추가를 한다면???? 수정\n",
    "# 클래스를 배운다면 다음과 같이 쉽게 해결할 수 있음"
   ]
  },
  {
   "cell_type": "code",
   "execution_count": null,
   "metadata": {},
   "outputs": [],
   "source": [
    "class Calculator:\n",
    "    def __init__(self):\n",
    "        self.result = 0\n",
    "\n",
    "    def add(self, num):\n",
    "        self.result += num\n",
    "        return self.result\n",
    "\n",
    "    # 기능 추가\n",
    "    def sub(self, num):\n",
    "        self.result -= num\n",
    "        return self.result\n",
    "\n",
    "cal1 = Calculator()\n",
    "cal2 = Calculator()\n",
    "\n",
    "print(cal1.add(3))\n",
    "print(cal1.add(4))\n",
    "print(cal2.add(3))\n",
    "print(cal2.add(4))\n",
    "print(cal1.sub(4))\n",
    "print(cal1.sub(1))"
   ]
  },
  {
   "cell_type": "code",
   "execution_count": 26,
   "metadata": {},
   "outputs": [
    {
     "name": "stdout",
     "output_type": "stream",
     "text": [
      "5\n",
      "8\n",
      "====================\n",
      "0\n"
     ]
    }
   ],
   "source": [
    "#👀👀 사직연산 class 만들기 도전!!!\n",
    "\n",
    "# 0. FourCal 클래스 생성\n",
    "class FourCal():\n",
    "# 1. 생성자 생성sds\n",
    "    def __init__(self, first, second):\n",
    "        self.first = first\n",
    "        self.second = second\n",
    "        \n",
    "\n",
    "# 2. setdata 메서드 생성\n",
    "    def setdata(self, first, second):\n",
    "        self.first = first\n",
    "        self.second = second\n",
    "\n",
    "# 3. add 메서드 생성\n",
    "    def add(self):\n",
    "        result = self.first + self.second\n",
    "        return result\n",
    "\n",
    "# 4. sub 메서드 생성\n",
    "    def sub(self):\n",
    "        result = self.first - self.second\n",
    "        return result   \n",
    "\n",
    "# 5. div 메서드 생성\n",
    "    def div(self):\n",
    "        result = self.first / self.second\n",
    "        return result\n",
    "\n",
    "# 6. mul 메서드 생성 1\n",
    "    def mul(self):\n",
    "        result = self.first * self.second\n",
    "        return result\n",
    "\n",
    "# test1 = Fourcal(5, 3)\n",
    "\n",
    "\n",
    "# 객체 생성\n",
    "test1 = FourCal(2, 3)\n",
    "\n",
    "test1.setdata(2, 3)\n",
    "\n",
    "#add 메서드 호출ss\n",
    "print(test1.add())\n",
    "\n",
    "# 7. 상속하여 제곱근 만들기\n",
    "class UpFourCal(FourCal):\n",
    "    def double(self):\n",
    "        result = self.first ** self.second\n",
    "        return result\n",
    "\n",
    "# 객체 생성\n",
    "test2 = UpFourCal(2, 3)\n",
    "print(test2.double())\n",
    "\n",
    "# 8. 오버라이딩하여 0으로 나누면 0으로 결괏값 리턴하기\n",
    "\n",
    "class OverFourCal(FourCal):\n",
    "    def div(self):\n",
    "        if self.second == 0:\n",
    "            return 0\n",
    "        else:\n",
    "            result = self.first / self.second\n",
    "            return result\n",
    "\n",
    "print(\"====================\")\n",
    "# 객체 생성\n",
    "test3 = OverFourCal(1, 0)\n",
    "print(test3.div())\n",
    "\n"
   ]
  },
  {
   "cell_type": "code",
   "execution_count": 8,
   "metadata": {},
   "outputs": [
    {
     "ename": "SyntaxError",
     "evalue": "invalid syntax (3183535741.py, line 11)",
     "output_type": "error",
     "traceback": [
      "\u001b[1;36m  Input \u001b[1;32mIn [8]\u001b[1;36m\u001b[0m\n\u001b[1;33m    print(xa += 5)\u001b[0m\n\u001b[1;37m             ^\u001b[0m\n\u001b[1;31mSyntaxError\u001b[0m\u001b[1;31m:\u001b[0m invalid syntax\n"
     ]
    }
   ],
   "source": [
    "# 😢연습문제_죄수의 딜레마\n",
    "\n",
    "# 두 명의 범죄자 A,B\n",
    "# \n",
    "\n",
    "xa = 0\n",
    "xb = 0\n",
    "\n",
    "input()\n",
    "\n",
    "if xa == True: #a가 자백을 했다면\n",
    "    if xb == True: #b가 자백을 했다면\n",
    "        xa += 5\n",
    "        xb += 5 \n",
    "    else: # b가 자백하지 않았다면\n",
    "        xb += 10\n",
    "else:\n",
    "    xa += 1\n",
    "    xb += 1\n",
    "        "
   ]
  },
  {
   "cell_type": "code",
   "execution_count": 22,
   "metadata": {},
   "outputs": [
    {
     "name": "stdout",
     "output_type": "stream",
     "text": [
      "30\n"
     ]
    }
   ],
   "source": [
    "# 연도를 나타내는 숫자와 월을 나타내는 숫자를 입력하면 \n",
    "# 그 달의 날짜 수를 반환하는 함수 days2 를 만든다.\n",
    "# 사용 예는 다음과 같다.\n",
    "# days2(2015, 1) // 31\n",
    "\n",
    "def days2(year, month):\n",
    "    if month == (1, 3, 5, 7, 8 ,10, 12):\n",
    "        print(31)\n",
    "    elif month == 2:\n",
    "        print(28)\n",
    "    else:\n",
    "        print(30)\n",
    "\n",
    "days2(2020,5)"
   ]
  },
  {
   "cell_type": "code",
   "execution_count": 34,
   "metadata": {},
   "outputs": [
    {
     "name": "stdout",
     "output_type": "stream",
     "text": [
      "\n",
      "\n",
      "\n",
      "\n",
      "\n",
      "\n",
      "\n",
      "\n",
      "\n",
      "\n",
      "*\n",
      "*\n",
      "*\n",
      "*\n",
      "*\n",
      "*\n",
      "*\n",
      "*\n",
      "*\n",
      "*\n",
      "**\n",
      "**\n",
      "**\n",
      "**\n",
      "**\n",
      "**\n",
      "**\n",
      "**\n",
      "**\n",
      "**\n",
      "***\n",
      "***\n",
      "***\n",
      "***\n",
      "***\n",
      "***\n",
      "***\n",
      "***\n",
      "***\n",
      "***\n",
      "****\n",
      "****\n",
      "****\n",
      "****\n",
      "****\n",
      "****\n",
      "****\n",
      "****\n",
      "****\n",
      "****\n",
      "*****\n",
      "*****\n",
      "*****\n",
      "*****\n",
      "*****\n",
      "*****\n",
      "*****\n",
      "*****\n",
      "*****\n",
      "*****\n",
      "******\n",
      "******\n",
      "******\n",
      "******\n",
      "******\n",
      "******\n",
      "******\n",
      "******\n",
      "******\n",
      "******\n",
      "*******\n",
      "*******\n",
      "*******\n",
      "*******\n",
      "*******\n",
      "*******\n",
      "*******\n",
      "*******\n",
      "*******\n",
      "*******\n",
      "********\n",
      "********\n",
      "********\n",
      "********\n",
      "********\n",
      "********\n",
      "********\n",
      "********\n",
      "********\n",
      "********\n",
      "*********\n",
      "*********\n",
      "*********\n",
      "*********\n",
      "*********\n",
      "*********\n",
      "*********\n",
      "*********\n",
      "*********\n",
      "*********\n",
      "**********\n",
      "**********\n",
      "**********\n",
      "**********\n",
      "**********\n",
      "**********\n",
      "**********\n",
      "**********\n",
      "**********\n",
      "**********\n"
     ]
    }
   ],
   "source": [
    "# 😢 별찍기11\n",
    "\n",
    "# 연습문제\n",
    "\n",
    "# for i in range(10 + 1):\n",
    "#     print('*' * i)\n",
    "# for j in range(10, 0, -1):\n",
    "#     print('*' * j)\n",
    "\n",
    "for i in range(10 + 1):\n",
    "    for j in range(10, 0, -1):\n",
    "        if i < 11:\n",
    "            print('*' * i)\n",
    "        else:\n",
    "            print(\"*\" * j)\n"
   ]
  },
  {
   "cell_type": "markdown",
   "metadata": {},
   "source": [
    "> 클래스와 객체"
   ]
  },
  {
   "cell_type": "code",
   "execution_count": null,
   "metadata": {},
   "outputs": [],
   "source": [
    "# 과자 틀 -> 클래스(class)\n",
    "# 과자 틀에 의해서 만들어진 과자 -> 객체(bnject)\n",
    "\n",
    "# 클래스로 만든 객체에는 중요한 특징\n",
    "# * 객체마다 고유한 성격을 가진다.\n",
    "# * 과자 틀로 만든 과자에 구멍이 나더라도 다른 과자(object)에 아무 영향을 주지 않음"
   ]
  },
  {
   "cell_type": "code",
   "execution_count": 7,
   "metadata": {},
   "outputs": [],
   "source": [
    "# 파이썬 클래스의 간단한 예\n",
    "class Cookie:\n",
    "    pass\n",
    "\n",
    "# 위 클래스는 아무 기능을 하지 않는 클래스.\n",
    "# 하지만 이 역시도 객체 생성이 가능.(과자 틀로 과자를 만드는 것처럼)\n",
    "\n",
    "# 객체(object) 생성\n",
    "a = Cookie()\n",
    "b = Cookie()\n",
    "\n",
    "# 객체는 클래스로 만들며 1개의 클래스는 무수히 많은 객체를 만들 수 있음.\n",
    "# 👍 Cookie()의 결괏값을 돌려받은 a와b가 바로 객체이다.\n",
    "# 마치 함수를 사용해서 그 결괏값을 돌려받는 모습과 비슷"
   ]
  },
  {
   "cell_type": "markdown",
   "metadata": {},
   "source": [
    "> 객체와 인스턴스의 차이\n",
    "---\n",
    "1. 클래스로 만든 객체를 인스턴스라고 함.\n",
    "2. 그렇다면 객체와 인스턴스의 차이는?   \n",
    "a = Cookie()\n",
    "3. 이렇게 만든 a는 객체이다.\n",
    "4. 그리고 a객체는 Cooie의 인스턴스\n",
    "5. 즉 인스턴스라는 말은 특정 객체(a)가 어떤 클래스(Cookie)의 객체인지를 관계 위주로 설명할 때 사용함."
   ]
  },
  {
   "cell_type": "markdown",
   "metadata": {},
   "source": [
    "> 사칙연산 클래스 만들기"
   ]
  },
  {
   "cell_type": "markdown",
   "metadata": {},
   "source": [
    "> 클래스를 어떻게 만들지 먼저 구상하기\n",
    "---\n",
    "클래스는 무작정 만드는 것보다 클래스 만든 객체를 중심으로 어떤 식으로 동작할 것인지 미리 구상을 한 후에 하는 것을 추천!"
   ]
  },
  {
   "cell_type": "code",
   "execution_count": null,
   "metadata": {},
   "outputs": [],
   "source": [
    "# 사직연산을 가능하게 하는 FourCal 클래스가 다음처럼 동작한다고 가정.\n",
    "\n",
    "# 먼저 a = Fourcal()를 입력해서 a라는 객체를 만든다.\n",
    "a = Fourcal()\n",
    "\n",
    "# 그런 다음 a.setdata(4, 2)처럼 입력해서 숫자 4와 2를 a에 지정해 주고\n",
    "a.setdata(4, 2)\n",
    "\n",
    "# a.add()를 수행하면 두 수를 합한 결과 (4 + 2)를 돌려주고\n",
    "print(a.add())\n",
    "\n",
    "# a.mul()를 수행하면 두 수의 곱\n",
    "print(a.mul())\n",
    "\n",
    "# a.sub()를 수행하면 두 수의 빼기\n",
    "print(a.sub())\n",
    "\n",
    "# a.div()를 수행하면 두 수의 나누기\n",
    "print(a.div())"
   ]
  },
  {
   "cell_type": "markdown",
   "metadata": {},
   "source": [
    "> 클래스 구조 만들기"
   ]
  },
  {
   "cell_type": "code",
   "execution_count": 8,
   "metadata": {},
   "outputs": [
    {
     "data": {
      "text/plain": [
       "__main__.FourCal"
      ]
     },
     "execution_count": 8,
     "metadata": {},
     "output_type": "execute_result"
    }
   ],
   "source": [
    "# 제일 먼저 할 일은 a = FourCal()처럼 객체를 만드는 것.\n",
    "\n",
    "class FourCal:\n",
    "    pass\n",
    "# pass란 문장만을 포함한 FourCal 클래스 생성.\n",
    "\n",
    "# a 객체를 먼저 생성.\n",
    "# type(a)로 a객체가 어떤 타입인지 파악.\n",
    "# 역시 a가 FourCal 클래스의 객체임을 알 수 있음.\n",
    "a = FourCal()\n",
    "type(a)\n",
    "\n",
    "\n",
    "\n"
   ]
  },
  {
   "cell_type": "markdown",
   "metadata": {},
   "source": [
    "> 객체에 숫자 지정할 수 있게 만들기"
   ]
  },
  {
   "cell_type": "code",
   "execution_count": null,
   "metadata": {},
   "outputs": [],
   "source": [
    "# 하지만 아직 a객체에는 아무 기능이 없음.\n",
    "# 이제 여러기능을 하는 객체를 만들 예정\n",
    "# 그런데 이런 기능을 갖춘 객체를 만들려면 \n",
    "# 우선 a 객체에 사칙연산을 할 때 사용할 2개의 숫자를 먼저 알려주어야 함.\n",
    "# 다음과 같이 연산을 수행할 대상 (4, 2)을 객체에 지정할 수 있게 만들어보자\n",
    "\n",
    "# a.setdata(4, 2)\n",
    "# 위 문장을 수행하려면 다음과 같은 소스 코드를 작성해야 함.\n",
    "\n",
    "class FourCal:\n",
    "    def setdata(self, first, second):\n",
    "        self.first = first\n",
    "        self.second = second\n",
    "\n",
    "# 앞에서 만든 FourCal 클래스에서 pass 문장을 삭제하고 setdata 함수를 만듦.\n",
    "# 클래스 안에 구현된 함수는 다른 말로는 메서도(Method)라고 부름\n",
    "# 메서드도 클래스에 포함되어 있다는 점만 제외하면 일반적인 함수와 다를 것이 없음.\n",
    "\n",
    "# setdata 메서드를 자세히 보자\n",
    "def setdata(self, first, second): #1. 메서드의 매개변수\n",
    "    self.first = first            #2. 메서드의 수행문\n",
    "    self.second = second          #3. 메서드의 수행문\n"
   ]
  },
  {
   "cell_type": "markdown",
   "metadata": {},
   "source": [
    "> ① setdata 메서드 매개변수"
   ]
  },
  {
   "cell_type": "code",
   "execution_count": null,
   "metadata": {},
   "outputs": [],
   "source": [
    "# setdata 메서드는 매개변수로 self, first, second 3개의 입력값을 받음.\n",
    "# 일반함수와 달리 첫 번째 매개변수 self는 특별한 의미\n",
    "\n",
    "# 다음과 같이 a객체를 만들고 a객체를 통해 setdata 메서드 호출해 보자.\n",
    "a = FourCal()\n",
    "a.setdata(4, 2)\n",
    "# 👍객체를 통해 클래스의 메서드를 호출하려면 a.setdata(4, 2)와 같이\n",
    "#    도트(.)연산자를 사용해야 한다.\n",
    "\n",
    "# 그런데 좀 이상함.\n",
    "# setdata 메서드에는 self, first, second 총 3개의 매개변수가 필요한데\n",
    "# 실제로는 a.setdata(4, 2)처럼 2개 값만 전달함.\n",
    "# 그 이유는 a.setdata(4, 2)처럼 호출하면 setdata 메서드의\n",
    "# 첫 번째 매개변수 self에는 setdata메서드를 호출한 객체 a가 자동으로 전달되기 때문.\n"
   ]
  },
  {
   "cell_type": "markdown",
   "metadata": {},
   "source": [
    "> 메서드의 또 다른 호출 방법\n",
    "---\n",
    "잘 사용하지는 않지만 다음과 같이 클래스를 통해 메서드를 호출하는 것도 가능"
   ]
  },
  {
   "cell_type": "code",
   "execution_count": null,
   "metadata": {},
   "outputs": [],
   "source": [
    "a = FourCal()\n",
    "FourCal.setdata(a, 4, 2)\n",
    "# 위와 같이 클래스 이름.메서드 형태로 호출할 때는\n",
    "# 객체 a를 첫 번째 매개변수 self에 꼭 전달해 주어야 함.\n",
    "\n",
    "\n",
    "# 반면 다음처럼 객체.메서드 형태로 호출할 때는 self를 반드시 생략해서 호출\n",
    "a = FourCal()\n",
    "a.setdata(4, 2)"
   ]
  },
  {
   "cell_type": "markdown",
   "metadata": {},
   "source": [
    "> ② setdata 메서드의 수행문"
   ]
  },
  {
   "cell_type": "code",
   "execution_count": null,
   "metadata": {},
   "outputs": [],
   "source": [
    "# setdata 메서드의 수행문에 대해 알아보자\n",
    "def setdata(self, first, second):\n",
    "    self.first = first\n",
    "    self.second = second\n",
    "\n",
    "# a.setdata(4, 2)처럼 호출하면 setdata 메서드의 매개변수 first, second에는\n",
    "# 각각 값 4와2가 전달되어 setdata 메서드의 수행문은 다음과 같이 해석\n",
    "\n",
    "# self.first = 4\n",
    "# self.second = 2\n",
    "\n",
    "# self는 전달된 객체 a이므로 다시 다음과 같이 해석.\n",
    "# a.first = 4\n",
    "# a.second = 2\n",
    "\n",
    "# a.first = 4 문장이 수행되면 a객체에 객체변수 first가 생성되고 값 4가 저장\n",
    "# 마찬가지로 a.second = 2 문장이 수행되면 a 객체에 객체변수 second가 생성되고 값 2가 저장.\n",
    "\n",
    "# ※ 객체에 생성되는 객체만의 변수를 객체변수라고 부른다.\n",
    "\n",
    "# 다음과 같이 확인해보자\n",
    "class FourCal():\n",
    "    def setdata(self, first, second): #1. 메서드의 매개변수\n",
    "        self.first = first            #2. 메서드의 수행문\n",
    "        self.second = second          #3. 메서드의 수행문\n",
    "\n",
    "a = FourCal()\n",
    "a.setdata(4, 2)\n",
    "print(a.first)\n",
    "print(a.second)\n",
    "\n",
    "#a 객체에 객체변수 first와 second가 생성되었음을 확인할 수 있음.\n",
    "# 이번에는 다음과 같이 a,b 객체를 만들어보자\n",
    "\n",
    "a = FourCal()\n",
    "b = FourCal()\n",
    "\n",
    "# 그리고 a객체의 객체변수 first를 다음과 같이 생성한다.\n",
    "a.setdata(4, 2)\n",
    "print(a.first)\n",
    "# 4\n",
    "\n",
    "# 이번에는 b객체의 객체변수 first를 다음과 같이 생성.\n",
    "b.setdata(3, 7)\n",
    "print(b.first)\n",
    "# 3\n",
    "\n",
    "#👍a객체의 first값과 b객체의 first 값에 영향을 주지 않음.\n",
    "print(id(a.first))\n",
    "print(id(b.first))\n"
   ]
  },
  {
   "cell_type": "markdown",
   "metadata": {},
   "source": [
    "> 더하기 기능 만들기"
   ]
  },
  {
   "cell_type": "code",
   "execution_count": 23,
   "metadata": {},
   "outputs": [],
   "source": [
    "# 지금까지 2개의 숫자 값을 설정했음\n",
    "# 이제는 2개의 숫자를 더하는 기능을 클래스 만들 차례\n",
    "\n",
    "# a = FourCal()\n",
    "# a.setdata(4, 2)\n",
    "# print(a.add())\n",
    "\n",
    "# 이 연산이 가능하도록 다음과 같이 FourCal 클래스를 만들 예정.\n",
    "class FourCal:\n",
    "    def setdata(self, first, second):\n",
    "        self.first = first\n",
    "        self.second = second\n",
    "\n",
    "    def add(self):\n",
    "        result = self.first + self.second\n",
    "        return result"
   ]
  },
  {
   "cell_type": "code",
   "execution_count": 24,
   "metadata": {},
   "outputs": [
    {
     "name": "stdout",
     "output_type": "stream",
     "text": [
      "6\n"
     ]
    }
   ],
   "source": [
    "# 새롭게 추가된 것은 add메서드이다. 이제 클래스를 사용해보자!\n",
    "\n",
    "a =FourCal()\n",
    "a.setdata(4, 2)\n",
    "\n",
    "# 위와 같이 호출하면 앞에서 살펴보았듯이 a객체의 first,seond 객체변수에는\n",
    "# 각 각 값 4와 2가 저장될 것.\n",
    "\n",
    "# 이제 add메서드 호출\n",
    "\n",
    "print(a.add())\n",
    "# 6\n"
   ]
  },
  {
   "cell_type": "code",
   "execution_count": null,
   "metadata": {},
   "outputs": [],
   "source": [
    "# a.add()라고 호출하면 add메서드가 호출되어 값 6이 출력될 것.\n",
    "# 어떤 과정을 거쳐서 값 6이 출력되는지 add메서드를 따로 떼어 자세히 살펴보자\n",
    "\n",
    "def add(self):\n",
    "    result = self.first + self.second\n",
    "    return result\n",
    "\n",
    "# add 메서드의 매개변수는 self이고 반환값은 result이다.\n",
    "# 반환 겂인 result를 계산하는 부분은 다음과 같다.\n",
    "result = self.first + self.second\n",
    "\n",
    "# a.add()와 같이 a 객체에 의해 add메서드가 수행되면 \n",
    "# add 메서드의 self에는 객체 a가 자동으로 입력되므로 위 내용은 다음과 같이 해석\n",
    "result = a.first + a.second\n",
    "\n",
    "# 위 내용은 a.add() 메서드 호출 전에 a.setdata(4, 2)가 먼저 호출되어\n",
    "# a.first = 4, a.second = 2 라고 이미 설정되었기 때문에\n",
    "# 다시 다음과 같이 해석한다.\n",
    "result = 4 + 2\n",
    "# 따라서 다음과 같이 a.add()를 호출하면 6을 돌려준다.\n",
    "print(a.add())\n",
    "# 6\n"
   ]
  },
  {
   "cell_type": "markdown",
   "metadata": {},
   "source": [
    "> 곱하기, 빼기, 나누기 기능 만들기"
   ]
  },
  {
   "cell_type": "code",
   "execution_count": 34,
   "metadata": {},
   "outputs": [
    {
     "name": "stdout",
     "output_type": "stream",
     "text": [
      "add:  6\n",
      "mul:  8\n",
      "sub:  2\n",
      "div:  2.0\n"
     ]
    }
   ],
   "source": [
    "class FourCal:\n",
    "    def setdata(self, first, second):\n",
    "        self.first = first\n",
    "        self.second = second\n",
    "    \n",
    "    def add(self):\n",
    "        result  = self.first + self.second   \n",
    "        return result\n",
    "\n",
    "    def mul(self):\n",
    "        result = self.first * self.second\n",
    "        return result\n",
    "    \n",
    "    def sub(self):\n",
    "        result = self.first - self.second\n",
    "        return result\n",
    "    \n",
    "    def div(self):\n",
    "        result = self.first / self.second\n",
    "        return result\n",
    "\n",
    "a = FourCal()\n",
    "a.setdata(4, 2)\n",
    "print(\"add: \", a.add())\n",
    "print(\"mul: \", a.mul())\n",
    "print(\"sub: \", a.sub())\n",
    "print(\"div: \", a.div())"
   ]
  },
  {
   "cell_type": "markdown",
   "metadata": {},
   "source": [
    "> 생성자"
   ]
  },
  {
   "cell_type": "code",
   "execution_count": null,
   "metadata": {},
   "outputs": [],
   "source": [
    "# 이번에는 우리가 만든 FourCal 클래스를 다음과 같이 사용해보자\n",
    "a = FourCal()\n",
    "a.add()\n",
    "\n",
    "# FourCal 클래스의 인스턴스 a에 setdata 메서드를 수행하지 않고\n",
    "# add 메서드를 수행한다면 AttributeError: 'FourCal' object has no attribute 'first' 발생\n",
    "# setdata 메서드를 수행해야 객체 a의 객체변수 first와 second가 생성되기 때문!\n",
    "\n",
    "# 이렇게 객체에 초깃값을 설정해야 할 필요가 있을 떄는\n",
    "# setdata와 같은 메서드를 호출하여 초깃값을 설정하기보다는\n",
    "# 생성자를 구현하는 것이 안전한 방법!\n",
    "# 생성자(Constructor)란 객체가 생성될 때 자동으로 호출되는 메서드를 의미.\n",
    "\n",
    "# 파이썬 메서드 이름으로 __init__를 사용하면 이 메서드는 생성자가 된다.\n",
    "# 다음과 같이 FourCal 클래스에 생성자르 추가해 보자!"
   ]
  },
  {
   "cell_type": "code",
   "execution_count": 39,
   "metadata": {},
   "outputs": [],
   "source": [
    "class FourCal:\n",
    "    def __init__(self, first, second):\n",
    "        self.first = first\n",
    "        self.second = second\n",
    "    def setdata(self, first, second):\n",
    "        self.first = first\n",
    "        self.second = second\n",
    "        \n",
    "    def add(self):\n",
    "        result  = self.first + self.second   \n",
    "        return result\n",
    "\n",
    "    def mul(self):\n",
    "        result = self.first * self.second\n",
    "        return result\n",
    "    \n",
    "    def sub(self):\n",
    "        result = self.first - self.second\n",
    "        return result\n",
    "    \n",
    "    def div(self):\n",
    "        result = self.first / self.second\n",
    "        return result"
   ]
  },
  {
   "cell_type": "code",
   "execution_count": 40,
   "metadata": {},
   "outputs": [],
   "source": [
    "# 새롭게 추가된 생성자 __init__ 메서드만 따로 떼어 내서 살펴보자.\n",
    "\n",
    "def __init__(self, first, second):\n",
    "    self.first = first\n",
    "    self.second = second\n",
    "\n",
    "# __init__ 메서드는 setdata 메서드와 이름만 다르고 모든 게 동일.\n",
    "# 단 메서드 이름을 __init__으로 했기 때문에\n",
    "# 생성자로 인식되어 객체가 생성디는 시점에 자동으로 호출되는 차이"
   ]
  },
  {
   "cell_type": "code",
   "execution_count": null,
   "metadata": {},
   "outputs": [],
   "source": [
    "# 이제 다음처럼 예저를 수행해 보자!\n",
    "\n",
    "a = FourCal()\n",
    "\n",
    "# TypeError: __init__() missing 2 required positional arguments: 'first' and 'second'\n",
    "# a = FourCal()을 수행할 때 생성자 __init__이 호출되어 위와 같은 오류 발생\n",
    "# 그 이유는 생성자의 매개변수 first와 second에 해당하는 값을 전달하지 않음."
   ]
  },
  {
   "cell_type": "code",
   "execution_count": 42,
   "metadata": {},
   "outputs": [],
   "source": [
    "# 위 오류를 해결하려면 다음처럼 first와 second에 해당되는 값을 전달하여 객체를 생성\n",
    "\n",
    "a = FourCal(4, 2)\n",
    "\n",
    "# 위와 같이 수해하면 __init__ 메서드의 매개변수에는 각각 오른쪽과 같은 값이 대입\n",
    "\n",
    "# 매개변수  |  값\n",
    "# self      | 생성되는 객체\n",
    "# first     | 4\n",
    "# second    | 2\n",
    "\n",
    "# ※ __init__ 메서드도 다른 메서드와 마찬가지로 \n",
    "# 첫 번째 매개변수 self에 생성되는 객체가 자동으로 전달된다는 점을 기억하자!\n",
    "\n",
    "# 따라서 __init__ 메서드가 호출되면\n",
    "# setdata 메서드를 호출했을 때와 마찬가지로 \n",
    "# first와 second라는 객체변수가 생성"
   ]
  },
  {
   "cell_type": "code",
   "execution_count": 66,
   "metadata": {},
   "outputs": [
    {
     "name": "stdout",
     "output_type": "stream",
     "text": [
      "4\n",
      "2\n"
     ]
    },
    {
     "data": {
      "text/plain": [
       "2.0"
      ]
     },
     "execution_count": 66,
     "metadata": {},
     "output_type": "execute_result"
    }
   ],
   "source": [
    "# 다음과 같이 객체변수의 값을 확인해 보자!\n",
    "\n",
    "a = FourCal(4, 2)\n",
    "print(a.first)\n",
    "# 4\n",
    "print(a.second)\n",
    "# 2\n",
    "\n",
    "# 나머지 add,div 기능 확인!\n",
    "a.add()\n",
    "# 6\n",
    "a.div()\n",
    "# 2.0"
   ]
  },
  {
   "cell_type": "markdown",
   "metadata": {},
   "source": [
    "> 클래스의 상속"
   ]
  },
  {
   "cell_type": "markdown",
   "metadata": {},
   "source": [
    "1. 상속(Inheritance)이란 \"물려받다\"라는 뜻으로, \"재산을 상속받다\"라고 할때와 같은 의미   \n",
    "2. 어떤 클래스를 만들 때 다른 클래스의 기능을 물려받을 수 이게 만드는 것.\n",
    "3. 이번에는 상속 개념을 사용하여 우리가 만든 FourCal 클래스에 a의 b제곱을 구할 수 있는 기능을 추가할 예정"
   ]
  },
  {
   "cell_type": "code",
   "execution_count": 67,
   "metadata": {},
   "outputs": [],
   "source": [
    "# 앞에서 FourCal 클래스는 이미 만들어 놓았으므로 \n",
    "# FourCal 클래스를 상속하는 MoreFourCal 클래스는 다음과 같이 간단하게 만듦\n",
    "\n",
    "class MoreFourCal(FourCal):\n",
    "    pass\n",
    "\n",
    "# 클래스를 상속하기 위해서는 다음처럼\n",
    "# 클래스 이름 뒤 괄호 안에 상속할 클래스 이름을 넣어주면 된다.\n",
    "# class 클래스 이름(상속할 클래스 이름)"
   ]
  },
  {
   "cell_type": "code",
   "execution_count": null,
   "metadata": {},
   "outputs": [],
   "source": [
    "# MoreFourCal 클래스는 FourCal 클래스를 상속했으므로\n",
    "# FourCal 클래스의 모든 기능을 사용할 수 있음.\n",
    "# 변경\n",
    "a = MoreFourCal(4, 2)\n",
    "a.add()\n",
    "a.mul()\n",
    "a.sub()\n",
    "a.div()"
   ]
  },
  {
   "cell_type": "markdown",
   "metadata": {},
   "source": [
    "> 왜 상속을 해야 할까?\n",
    "---\n",
    "1. 보통 상속은 기존 클래스를 변경하지 않고 기능을 추가하거나 기존 기능을 변경하려고 할 때 사용.\n",
    "2. \"기능 추가를 하고 싶으면 기존 클래스 수정하면 되는데 굳이 상속을 받아서 처리해야하지\" 의문\n",
    "3. 하지만 기존 클래스가 라이브러리 형태로 제공되거나 수정이 허용되지 않는 상황이라면 상속을 사용해야함."
   ]
  },
  {
   "cell_type": "code",
   "execution_count": 69,
   "metadata": {},
   "outputs": [],
   "source": [
    "# 이제 원래 목적인 a의 b제곱을 계산하는 MoreFourCal 클래스를 만들어보자\n",
    "\n",
    "class MoreFourCal(FourCal):\n",
    "    def pow(self):\n",
    "        result = self.first ** self.second\n",
    "        return result\n",
    "\n",
    "# pass 문장을 삭제하고 위와 같이 두 수의 거듭제곱을 구할 수 있는 pow메서드를 추가함.\n",
    "# 그리고 다음과 같이 pow 메서드를 수행해보자!"
   ]
  },
  {
   "cell_type": "code",
   "execution_count": 70,
   "metadata": {},
   "outputs": [
    {
     "data": {
      "text/plain": [
       "16"
      ]
     },
     "execution_count": 70,
     "metadata": {},
     "output_type": "execute_result"
    }
   ],
   "source": [
    "a = MoreFourCal(4, 2)\n",
    "a.pow()\n",
    "\n",
    "# MoreFourCal 클래스로 만든 a객체에 값 4와2를 설정한 후 \n",
    "# pow 메서드를 호출하면 4의 2제곱인 16을 돌려주는 것을 확인.\n",
    "\n",
    "# 상속은 MoreFourCal 클래스처럼 기존 클래스(FourCal)는 그대로 놔둔 채 \n",
    "# 클래스의 기능을 확장시킬 때 주로 사용"
   ]
  },
  {
   "cell_type": "markdown",
   "metadata": {},
   "source": [
    "> 메서드 오버라이딩"
   ]
  },
  {
   "cell_type": "code",
   "execution_count": null,
   "metadata": {},
   "outputs": [],
   "source": [
    "a = FourCal(4, 0)\n",
    "a.div()\n",
    "\n",
    "# ZeroDivisionError 오류 발생. \n",
    "# 하지만 0으로 나눌 때 오류가 아닌 0을 돌려주도록 하고 싶다면 어떻게?"
   ]
  },
  {
   "cell_type": "code",
   "execution_count": 71,
   "metadata": {},
   "outputs": [],
   "source": [
    "# 다음과 같이 FourCal 클래스를 상속하는 SafeFourCal 클래스를 만들어보자.\n",
    "\n",
    "class SafeFourCal(FourCal):\n",
    "    def div(slef):\n",
    "        if self.second == 0: # 나는 값이 0인 경우 0을 리턴하도록 수정\n",
    "\n",
    "            return 0\n",
    "        else:\n",
    "            return self.first / self.second\n",
    "\n",
    "# SafeFourCal클래스는 FourCal클래스에 있는 div 메서드를 \n",
    "# 동일한 이름으로 다시 작성하였음.\n",
    "# 이렇게 부모 클래스(상속한 클래스)에 있는 메서드를 \n",
    "# 동일한 이름으로 다시 만드는 것을 메서드 오버라이딩(Overriding, 덮어쓰기)라고 함\n",
    "# 이렇게 메서드를 오버랑딩하면 부모클래스의 메서드 대신\n",
    "# 오버라이딩 메서드가 호출!\n"
   ]
  },
  {
   "cell_type": "code",
   "execution_count": null,
   "metadata": {},
   "outputs": [],
   "source": [
    "# SafeFourCal 클래스에 오버라이딩한 div 메서드는\n",
    "# 나누는 값이 0인 경우에는 0을 돌려주도록 수정했다.\n",
    "# 이제 다시 위에서 수행항 예저를 FourCal 클래스 대신 SafeFourCal 클래스 사용해보자\n",
    "\n",
    "a = SafeFourCal(4, 0)\n",
    "a.div()"
   ]
  },
  {
   "cell_type": "markdown",
   "metadata": {},
   "source": [
    "> 클래스 변수\n",
    "---\n",
    "객체변수는 다른 객체들에게 영향을 받지 않고 독립적으로 그 값을 유지한다는 점을 이미 알아보았다.   \n",
    "이번에는 객체변수와는 성격이 다른 클래스 변수에 대해 알아보자!\n"
   ]
  },
  {
   "cell_type": "code",
   "execution_count": 73,
   "metadata": {},
   "outputs": [],
   "source": [
    "class Family:\n",
    "    lastname = \"김\"\n",
    "\n",
    "# Family 클래스에 선언한 lastname이 바로 클래스 변수이다.\n",
    "# 클래스 변수는 클래스 안에 함수를 선언하는 것과 마찬가지로 \n",
    "# 클래스 안에 변수를 선언하여 생성\n"
   ]
  },
  {
   "cell_type": "code",
   "execution_count": 74,
   "metadata": {},
   "outputs": [
    {
     "name": "stdout",
     "output_type": "stream",
     "text": [
      "김\n"
     ]
    }
   ],
   "source": [
    "# dlwp Family 클래스를 다음과 같이 사용해 보자\n",
    "\n",
    "print(Family.lastname) \n",
    "\n",
    "# 클래스 변수는 위 예와 같이 클래스이름.클래스 변수 로 사용할 수 있음."
   ]
  },
  {
   "cell_type": "code",
   "execution_count": 75,
   "metadata": {},
   "outputs": [
    {
     "name": "stdout",
     "output_type": "stream",
     "text": [
      "김\n",
      "김\n"
     ]
    }
   ],
   "source": [
    "# 또는 다음과 같이 Family 클래스로 만든 객체를 통해서도 \n",
    "# 클래스 변수를 사용 할 수 있음\n",
    "\n",
    "a = Family()\n",
    "b = Family()\n",
    "print(a.lastname)\n",
    "# 김\n",
    "print(b.lastname)\n",
    "# 김"
   ]
  },
  {
   "cell_type": "code",
   "execution_count": 76,
   "metadata": {},
   "outputs": [
    {
     "name": "stdout",
     "output_type": "stream",
     "text": [
      "박\n",
      "박\n"
     ]
    }
   ],
   "source": [
    "# 만약 Family 클래스의 lastname을 다음과 같이 \"박\"이라는 문자열로 바꾸면?\n",
    "\n",
    "Family.lastname = \"박\"\n",
    "\n",
    "print(a.lastname)\n",
    "print(b.lastname)\n",
    "\n",
    "# 클래스 변수 값을 변경했더니 클래스로 만든 객체의 lastname 값도 모두 변경\n",
    "# 즉 클래스 변수는 클래스로 만든 모둔 객체에 공유된다는 특정!"
   ]
  },
  {
   "cell_type": "code",
   "execution_count": 79,
   "metadata": {},
   "outputs": [
    {
     "data": {
      "text/plain": [
       "2291171886144"
      ]
     },
     "execution_count": 79,
     "metadata": {},
     "output_type": "execute_result"
    }
   ],
   "source": [
    "# id 함수를 사용하면 클래스 변수가 공유된다는 사실을 증명할 수 있음\n",
    "\n",
    "id(Family.lastname)\n",
    "# 2291171886144\n",
    "id(a.lastname)\n",
    "# 2291171886144\n",
    "id(b.lastname)\n",
    "# 2291171886144\n",
    "\n",
    "# id 값이 모두 같으므로 모두 같은 메모리를 가리키고 있음.\n",
    "# 클래스 변수를 가장 늦게 설명한 이유는\n",
    "# 클래스 변수보다는 객체변수를 훨씬 중요하기 떄문\n",
    "# 실무에서도 객체변수 사용 비율이 훨씬 높음!"
   ]
  }
 ],
 "metadata": {
  "interpreter": {
   "hash": "25b440c64d017c56873f4b852ba83dcd4fd849540e3f9eded46bf1a7c9bff031"
  },
  "kernelspec": {
   "display_name": "Python 3.8.10 64-bit ('base': conda)",
   "language": "python",
   "name": "python3"
  },
  "language_info": {
   "codemirror_mode": {
    "name": "ipython",
    "version": 3
   },
   "file_extension": ".py",
   "mimetype": "text/x-python",
   "name": "python",
   "nbconvert_exporter": "python",
   "pygments_lexer": "ipython3",
   "version": "3.10.1"
  },
  "orig_nbformat": 4
 },
 "nbformat": 4,
 "nbformat_minor": 2
}
