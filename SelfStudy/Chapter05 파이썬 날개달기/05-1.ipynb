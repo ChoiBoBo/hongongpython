{
 "cells": [
  {
   "cell_type": "markdown",
   "metadata": {},
   "source": [
    "### 05-1 클래스\n",
    "---"
   ]
  },
  {
   "cell_type": "markdown",
   "metadata": {},
   "source": [
    "> 클래스는 왜 필요한가?"
   ]
  },
  {
   "cell_type": "markdown",
   "metadata": {},
   "source": [
    "1. 클래스는 굳이 필요하지 않다.\n",
    "2. 적재적소에 사용하면 상당한 편리함.\n",
    "3. 계산기를 예제를 통해 클래스의 유용성 파악."
   ]
  },
  {
   "cell_type": "code",
   "execution_count": 1,
   "metadata": {},
   "outputs": [
    {
     "name": "stdout",
     "output_type": "stream",
     "text": [
      "3\n",
      "7\n"
     ]
    }
   ],
   "source": [
    "# 계산기의 '더하기' 기능을 구현한 파이썬 코드\n",
    "result = 0\n",
    "def add(num):\n",
    "    global result\n",
    "    result += num\n",
    "    return result\n",
    "\n",
    "print(add(3))\n",
    "print(add(4))\n",
    "\n",
    "# 이전에 계산한 결괏값을 유지하기 위해 result 전역 변수(global)를 사용.\n",
    "# 그런데 한 프로그램에서 2대의 계산기가 필요한 상황이라면?\n",
    "# 위와 같이 add함수 하나만으로 결괏값을 유지할 수 없음\n",
    "# 다음과 같이 함수를 각각 따로 만들어야 함."
   ]
  },
  {
   "cell_type": "code",
   "execution_count": 3,
   "metadata": {},
   "outputs": [
    {
     "name": "stdout",
     "output_type": "stream",
     "text": [
      "3\n",
      "7\n",
      "3\n",
      "10\n"
     ]
    }
   ],
   "source": [
    "result1 = 0\n",
    "result2 = 0\n",
    "\n",
    "def add1(num):\n",
    "    global result1\n",
    "    result1 += num\n",
    "    return result1\n",
    "\n",
    "def add2(num):\n",
    "    global result2\n",
    "    result2 += num\n",
    "    return result2\n",
    "\n",
    "print(add1(3))\n",
    "print(add1(4))\n",
    "print(add2(3))\n",
    "print(add2(7))\n",
    "\n",
    "# 계산기 1의 결괏값이 2에 아무 영향을 주지 않음.\n",
    "# 하지만 점점 더 많이 필요한다면??\n",
    "# 나아가 빼기와 곱하기 등 기능추가를 한다면??\n",
    "# 클래스를 배운다면 다음과 같이 쉽게 해결할 수 있음"
   ]
  },
  {
   "cell_type": "code",
   "execution_count": null,
   "metadata": {},
   "outputs": [],
   "source": [
    "class Calculator:\n",
    "    def __init__(self):\n",
    "        self.result = 0\n",
    "\n",
    "    def add(self, num):\n",
    "        self.result += num\n",
    "        return self.result\n",
    "\n",
    "    # 기능 추가\n",
    "    def sub(self, num):\n",
    "        self.result -= num\n",
    "        return self.result\n",
    "\n",
    "cal1 = Calculator()\n",
    "cal2 = Calculator()\n",
    "\n",
    "print(cal1.add(3))\n",
    "print(cal1.add(4))\n",
    "print(cal2.add(3))\n",
    "print(cal2.add(4))\n",
    "print(cal1.sub(4))\n",
    "print(cal1.sub(1))"
   ]
  },
  {
   "cell_type": "markdown",
   "metadata": {},
   "source": [
    "> 클래스와 객체"
   ]
  },
  {
   "cell_type": "code",
   "execution_count": null,
   "metadata": {},
   "outputs": [],
   "source": [
    "# 과자 틀 -> 클래스(class)\n",
    "# 과자 틀에 의해서 만들어진 과자 -> 객체(bnject)\n",
    "\n",
    "# 클래스로 만든 객체에는 중요한 특징\n",
    "# * 객체마다 고유한 성격을 가진다.\n",
    "# * 과자 틀로 만든 과자에 구멍이 나더라도 다른 과자(object)에 아무 영향을 주지 않음"
   ]
  },
  {
   "cell_type": "code",
   "execution_count": 7,
   "metadata": {},
   "outputs": [],
   "source": [
    "# 파이썬 클래스의 간단한 예\n",
    "class Cookie:\n",
    "    pass\n",
    "\n",
    "# 위 클래스는 아무 기능을 하지 않는 클래스.\n",
    "# 하지만 이 역시도 객체 생성이 가능.(과자 틀로 과자를 만드는 것처럼)\n",
    "\n",
    "# 객체(object) 생성\n",
    "a = Cookie()\n",
    "b = Cookie()\n",
    "\n",
    "# 객체는 클래스로 만들며 1개의 클래스는 무수히 많은 객체를 만들 수 있음.\n",
    "# 👍 Cookie()의 결괏값을 돌려받은 a와b가 바로 객체이다.\n",
    "# 마치 함수를 사용해서 그 결괏값을 돌려받는 모습과 비슷"
   ]
  },
  {
   "cell_type": "markdown",
   "metadata": {},
   "source": [
    "> 객체와 인스턴스의 차이\n",
    "---\n",
    "1. 클래스로 만든 객체를 인스턴스라고 함.\n",
    "2. 그렇다면 객체와 인스턴스의 차이는?   \n",
    "a = Cookie()\n",
    "3. 이렇게 만든 a는 객체이다.\n",
    "4. 그리고 a객체는 Cooie의 인스턴스\n",
    "5. 즉 인스턴스라는 말은 특정 객체(a)가 어떤 클래스(Cookie)의 객체인지를 관계 위주로 설명할 때 사용함."
   ]
  },
  {
   "cell_type": "markdown",
   "metadata": {},
   "source": [
    "> 사칙연산 클래스 만들기"
   ]
  },
  {
   "cell_type": "markdown",
   "metadata": {},
   "source": [
    "> 클래스를 어떻게 만들지 먼저 구상하기\n",
    "---\n",
    "클래스는 무작정 만드는 것보다 클래스 만든 객체를 중심으로 어떤 식으로 동작할 것인지 미리 구상을 한 후에 하는 것을 추천!"
   ]
  },
  {
   "cell_type": "code",
   "execution_count": null,
   "metadata": {},
   "outputs": [],
   "source": [
    "# 사직연산을 가능하게 하는 FourCal 클래스가 다음처럼 동작한다고 가정.\n",
    "# 먼저 a = Fourcal()를 입력해서 a라는 객체를 만든다.\n",
    "\n",
    "a = Fourcal()"
   ]
  }
 ],
 "metadata": {
  "interpreter": {
   "hash": "25b440c64d017c56873f4b852ba83dcd4fd849540e3f9eded46bf1a7c9bff031"
  },
  "kernelspec": {
   "display_name": "Python 3.8.10 64-bit ('base': conda)",
   "language": "python",
   "name": "python3"
  },
  "language_info": {
   "codemirror_mode": {
    "name": "ipython",
    "version": 3
   },
   "file_extension": ".py",
   "mimetype": "text/x-python",
   "name": "python",
   "nbconvert_exporter": "python",
   "pygments_lexer": "ipython3",
   "version": "3.8.10"
  },
  "orig_nbformat": 4
 },
 "nbformat": 4,
 "nbformat_minor": 2
}
