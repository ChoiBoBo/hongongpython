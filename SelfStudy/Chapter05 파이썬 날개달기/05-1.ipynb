{
 "cells": [
  {
   "cell_type": "markdown",
   "metadata": {},
   "source": [
    "### 05-1 클래스\n",
    "---"
   ]
  },
  {
   "cell_type": "markdown",
   "metadata": {},
   "source": [
    "> 클래스는 왜 필요한가?"
   ]
  },
  {
   "cell_type": "markdown",
   "metadata": {},
   "source": [
    "1. 클래스는 굳이 필요하지 않다.\n",
    "2. 적재적소에 사용하면 상당한 편리함.\n",
    "3. 계산기를 예제를 통해 클래스의 유용성 파악."
   ]
  },
  {
   "cell_type": "code",
   "execution_count": 1,
   "metadata": {},
   "outputs": [
    {
     "name": "stdout",
     "output_type": "stream",
     "text": [
      "3\n",
      "7\n"
     ]
    }
   ],
   "source": [
    "# 계산기의 '더하기' 기능을 구현한 파이썬 코드\n",
    "result = 0\n",
    "def add(num):\n",
    "    global result\n",
    "    result += num\n",
    "    return result\n",
    "\n",
    "print(add(3))\n",
    "print(add(4))\n",
    "\n",
    "# 이전에 계산한 결괏값을 유지하기 위해 result 전역 변수(global)를 사용.\n",
    "# 그런데 한 프로그램에서 2대의 계산기가 필요한 상황이라면?\n",
    "# 위와 같이 add함수 하나만으로 결괏값을 유지할 수 없음\n",
    "# 다음과 같이 함수를 각각 따로 만들어야 함."
   ]
  },
  {
   "cell_type": "code",
   "execution_count": 3,
   "metadata": {},
   "outputs": [
    {
     "name": "stdout",
     "output_type": "stream",
     "text": [
      "3\n",
      "7\n",
      "3\n",
      "10\n"
     ]
    }
   ],
   "source": [
    "result1 = 0\n",
    "result2 = 0\n",
    "\n",
    "def add1(num):\n",
    "    global result1\n",
    "    result1 += num\n",
    "    return result1\n",
    "\n",
    "def add2(num):\n",
    "    global result2\n",
    "    result2 += num\n",
    "    return result2\n",
    "\n",
    "print(add1(3))\n",
    "print(add1(4))\n",
    "print(add2(3))\n",
    "print(add2(7))\n",
    "\n",
    "# 계산기 1의 결괏값이 2에 아무 영향을 주지 않음.\n",
    "# 하지만 점점 더 많이 필요한다면??\n",
    "# 나아가 빼기와 곱하기 등 기능추가를 한다면??\n",
    "# 클래스를 배운다면 다음과 같이 쉽게 해결할 수 있음"
   ]
  },
  {
   "cell_type": "code",
   "execution_count": null,
   "metadata": {},
   "outputs": [],
   "source": [
    "class Calculator:\n",
    "    def __init__(self):\n",
    "        self.result = 0\n",
    "\n",
    "    def add(self, num):\n",
    "        self.result += num\n",
    "        return self.result\n",
    "\n",
    "    # 기능 추가\n",
    "    def sub(self, num):\n",
    "        self.result -= num\n",
    "        return self.result\n",
    "\n",
    "cal1 = Calculator()\n",
    "cal2 = Calculator()\n",
    "\n",
    "print(cal1.add(3))\n",
    "print(cal1.add(4))\n",
    "print(cal2.add(3))\n",
    "print(cal2.add(4))\n",
    "print(cal1.sub(4))\n",
    "print(cal1.sub(1))"
   ]
  },
  {
   "cell_type": "markdown",
   "metadata": {},
   "source": [
    "> 클래스와 객체"
   ]
  },
  {
   "cell_type": "code",
   "execution_count": null,
   "metadata": {},
   "outputs": [],
   "source": [
    "# 과자 틀 -> 클래스(class)\n",
    "# 과자 틀에 의해서 만들어진 과자 -> 객체(bnject)\n",
    "\n",
    "# 클래스로 만든 객체에는 중요한 특징\n",
    "# * 객체마다 고유한 성격을 가진다.\n",
    "# * 과자 틀로 만든 과자에 구멍이 나더라도 다른 과자(object)에 아무 영향을 주지 않음"
   ]
  },
  {
   "cell_type": "code",
   "execution_count": 7,
   "metadata": {},
   "outputs": [],
   "source": [
    "# 파이썬 클래스의 간단한 예\n",
    "class Cookie:\n",
    "    pass\n",
    "\n",
    "# 위 클래스는 아무 기능을 하지 않는 클래스.\n",
    "# 하지만 이 역시도 객체 생성이 가능.(과자 틀로 과자를 만드는 것처럼)\n",
    "\n",
    "# 객체(object) 생성\n",
    "a = Cookie()\n",
    "b = Cookie()\n",
    "\n",
    "# 객체는 클래스로 만들며 1개의 클래스는 무수히 많은 객체를 만들 수 있음.\n",
    "# 👍 Cookie()의 결괏값을 돌려받은 a와b가 바로 객체이다.\n",
    "# 마치 함수를 사용해서 그 결괏값을 돌려받는 모습과 비슷"
   ]
  },
  {
   "cell_type": "markdown",
   "metadata": {},
   "source": [
    "> 객체와 인스턴스의 차이\n",
    "---\n",
    "1. 클래스로 만든 객체를 인스턴스라고 함.\n",
    "2. 그렇다면 객체와 인스턴스의 차이는?   \n",
    "a = Cookie()\n",
    "3. 이렇게 만든 a는 객체이다.\n",
    "4. 그리고 a객체는 Cooie의 인스턴스\n",
    "5. 즉 인스턴스라는 말은 특정 객체(a)가 어떤 클래스(Cookie)의 객체인지를 관계 위주로 설명할 때 사용함."
   ]
  },
  {
   "cell_type": "markdown",
   "metadata": {},
   "source": [
    "> 사칙연산 클래스 만들기"
   ]
  },
  {
   "cell_type": "markdown",
   "metadata": {},
   "source": [
    "> 클래스를 어떻게 만들지 먼저 구상하기\n",
    "---\n",
    "클래스는 무작정 만드는 것보다 클래스 만든 객체를 중심으로 어떤 식으로 동작할 것인지 미리 구상을 한 후에 하는 것을 추천!"
   ]
  },
  {
   "cell_type": "code",
   "execution_count": null,
   "metadata": {},
   "outputs": [],
   "source": [
    "# 사직연산을 가능하게 하는 FourCal 클래스가 다음처럼 동작한다고 가정.\n",
    "\n",
    "# 먼저 a = Fourcal()를 입력해서 a라는 객체를 만든다.\n",
    "a = Fourcal()\n",
    "\n",
    "# 그런 다음 a.setdata(4, 2)처럼 입력해서 숫자 4와 2를 a에 지정해 주고\n",
    "a.setdata(4, 2)\n",
    "\n",
    "# a.add()를 수행하면 두 수를 합한 결과 (4 + 2)를 돌려주고\n",
    "print(a.add())\n",
    "\n",
    "# a.mul()를 수행하면 두 수의 곱\n",
    "print(a.mul())\n",
    "\n",
    "# a.sub()를 수행하면 두 수의 빼기\n",
    "print(a.sub())\n",
    "\n",
    "# a.div()를 수행하면 두 수의 나누기\n",
    "print(a.div())"
   ]
  },
  {
   "cell_type": "markdown",
   "metadata": {},
   "source": [
    "> 클래스 구조 만들기"
   ]
  },
  {
   "cell_type": "code",
   "execution_count": 8,
   "metadata": {},
   "outputs": [
    {
     "data": {
      "text/plain": [
       "__main__.FourCal"
      ]
     },
     "execution_count": 8,
     "metadata": {},
     "output_type": "execute_result"
    }
   ],
   "source": [
    "# 제일 먼저 할 일은 a = FourCal()처럼 객체를 만드는 것.\n",
    "\n",
    "class FourCal:\n",
    "    pass\n",
    "# pass란 문장만을 포함한 FourCal 클래스 생성.\n",
    "\n",
    "# a 객체를 먼저 생성.\n",
    "# type(a)로 a객체가 어떤 타입인지 파악.\n",
    "# 역시 a가 FourCal 클래스의 객체임을 알 수 있음.\n",
    "a = FourCal()\n",
    "type(a)\n",
    "\n",
    "\n",
    "\n"
   ]
  },
  {
   "cell_type": "markdown",
   "metadata": {},
   "source": [
    "> 객체에 숫자 지정할 수 있게 만들기"
   ]
  },
  {
   "cell_type": "code",
   "execution_count": null,
   "metadata": {},
   "outputs": [],
   "source": [
    "# 하지만 아직 a객체에는 아무 기능이 없음.\n",
    "# 이제 여러기능을 하는 객체를 만들 예정\n",
    "# 그런데 이런 기능을 갖춘 객체를 만들려면 \n",
    "# 우선 a 객체에 사칙연산을 할 때 사용할 2개의 숫자를 먼저 알려주어야 함.\n",
    "# 다음과 같이 연산을 수행할 대상 (4, 2)을 객체에 지정할 수 있게 만들어보자\n",
    "\n",
    "# a.setdata(4, 2)\n",
    "# 위 문장을 수행하려면 다음과 같은 소스 코드를 작성해야 함.\n",
    "\n",
    "class FourCal:\n",
    "    def setdata(self, first, second):\n",
    "        self.first = first\n",
    "        self.second = second\n",
    "\n",
    "# 앞에서 만든 FourCal 클래스에서 pass 문장을 삭제하고 setdata 함수를 만듦.\n",
    "# 클래스 안에 구현된 함수는 다른 말로는 메서도(Method)라고 부름\n",
    "# 메서드도 클래스에 포함되어 있다는 점만 제외하면 일반적인 함수와 다를 것이 없음.\n",
    "\n",
    "# setdata 메서드를 자세히 보자\n",
    "def setdata(self, first, second): #1. 메서드의 매개변수\n",
    "    self.first = first            #2. 메서드의 수행문\n",
    "    self.second = second          #3. 메서드의 수행문\n"
   ]
  },
  {
   "cell_type": "markdown",
   "metadata": {},
   "source": [
    "> ① setdata 메서드 매개변수"
   ]
  },
  {
   "cell_type": "code",
   "execution_count": null,
   "metadata": {},
   "outputs": [],
   "source": [
    "# setdata 메서드는 매개변수로 self, first, second 3개의 입력밧을 받음.\n",
    "# 일반함수와 달리 첫 번째 매개변수 self는 특별한 의미\n",
    "\n",
    "# 다음과 같이 a객체를 만들고 a객체를 통해 setdata 메서드 호출해 보자.\n",
    "a = FourCal()\n",
    "a.setdata(4, 2)\n",
    "# 👍객체를 통해 클래스의 메서드를 호출하려면 a.setdata(4, 2)와 같이\n",
    "#    도트(.)연산자를 사용해야 한다.\n",
    "\n",
    "# 그런데 좀 이상함.\n",
    "# setdata 메서드에는 self, first, second 총 3개의 매개변수가 필요한데\n",
    "# 실제로는 a.setdata(4, 2)처럼 2개 값만 전달함.\n",
    "# 그 이유는 a.setdata(4, 2)처럼 호출하면 setdata 메서드의\n",
    "# 첫 번째 매개변수 self에는 setdata메서드를 호출한 객체 a가 자동으로 전달되기 때문.\n"
   ]
  },
  {
   "cell_type": "markdown",
   "metadata": {},
   "source": [
    "> 메서드의 또 다른 호출 방법\n",
    "---\n",
    "잘 사용하지는 않지만 다음과 같이 클래스를 통해 메서드를 호출하는 것도 가능"
   ]
  },
  {
   "cell_type": "code",
   "execution_count": null,
   "metadata": {},
   "outputs": [],
   "source": [
    "a = FourCal()\n",
    "FourCal.setdata(a, 4, 2)\n",
    "# 위와 같이 클래스 이름.메서드 형태로 호출할 때는\n",
    "# 객체 a를 첫 번째 매개변수 self에 꼭 전달해 주어야 함.\n",
    "\n",
    "\n",
    "# 반면 다음처럼 객체.메서드 형태로 호출할 때는 self를 반드시 생략해서 호출\n",
    "a = FourCal()\n",
    "a.setdata(4, 2)"
   ]
  },
  {
   "cell_type": "markdown",
   "metadata": {},
   "source": [
    "> ② setdata 메서드의 수행문"
   ]
  },
  {
   "cell_type": "code",
   "execution_count": null,
   "metadata": {},
   "outputs": [],
   "source": [
    "# setdata 메서드의 수행문에 대해 알아보자\n",
    "def setdata(self, first, second):\n",
    "    self.first = first\n",
    "    self.second = second\n",
    "\n",
    "# a.setdata(4, 2)처럼 호출하면 setdata 메서드의 매개변수 first, second에는\n",
    "# 각각 값 4와2가 전달되어 setdata 메서드의 수행문은 다음과 같이 해석\n",
    "\n",
    "# self.first = 4\n",
    "# self.second = 2\n",
    "\n",
    "# self는 전달된 객체 a이므로 다시 다음과 같이 해석.\n",
    "# a.first = 4\n",
    "# a.second = 2\n",
    "\n",
    "# a.first = 4 문장이 수행되면 a객체에 객체변수 first가 생성되고 값 4가 저장\n",
    "# 마찬가지로 a.second = 2 문장이 수행되면 a 객체에 객체변수 second가 생성되고 값 2가 저장.\n",
    "\n",
    "# ※ 객체에 생성되는 객체만의 변수를 객체변수라고 부른다.\n",
    "\n",
    "# 다음과 같이 확인해보자\n",
    "class FourCal():\n",
    "    def setdata(self, first, second): #1. 메서드의 매개변수\n",
    "        self.first = first            #2. 메서드의 수행문\n",
    "        self.second = second          #3. 메서드의 수행문\n",
    "\n",
    "a = FourCal()\n",
    "a.setdata(4, 2)\n",
    "print(a.first)\n",
    "print(a.second)\n",
    "\n",
    "#a 객체에 객체변수 first와 secon가 생성되었음을 확인할 수 있음.\n",
    "# 이번에는 다음과 같이 a,b 객체를 만들어보자\n",
    "\n",
    "a = FourCal()\n",
    "b = FourCal()\n",
    "\n",
    "# 그리고 a객체의 객체변수 first를 다음과 같이 생성한다.\n",
    "a.setdata(4, 2)\n",
    "print(a.first)\n",
    "# 4\n",
    "\n",
    "# 이번에는 b객체의 객체변수 first를 다음과 같이 생성.\n",
    "b.setdata(3, 7)\n",
    "print(b.first)\n",
    "# 3\n",
    "\n",
    "#👍a객체의 first값과 b객체의 first 값에 영향을 주지 않음.\n",
    "print(id(a.first))\n",
    "print(id(b.first))\n"
   ]
  },
  {
   "cell_type": "markdown",
   "metadata": {},
   "source": [
    "> 더하기 기능 만들기"
   ]
  },
  {
   "cell_type": "code",
   "execution_count": 23,
   "metadata": {},
   "outputs": [],
   "source": [
    "# 지금까지 2개의 숫자 값을 설정했음\n",
    "# 이제는 2개의 숫자를 더하는 기능을 클래스 만들 차례\n",
    "\n",
    "# a = FourCal()\n",
    "# a.setdata(4, 2)\n",
    "# print(a.add())\n",
    "\n",
    "# 이 연산이 가능하도록 다음과 같이 FourCal 클래스를 만들 예정.\n",
    "class FourCal:\n",
    "    def setdata(self, first, second):\n",
    "        self.first = first\n",
    "        self.second = second\n",
    "\n",
    "    def add(self):\n",
    "        result = self.first + self.second\n",
    "        return result"
   ]
  },
  {
   "cell_type": "code",
   "execution_count": 24,
   "metadata": {},
   "outputs": [
    {
     "name": "stdout",
     "output_type": "stream",
     "text": [
      "6\n"
     ]
    }
   ],
   "source": [
    "# 새롭게 추가된 것은 add메서드이다. 이제 클래스를 사용해보자!\n",
    "\n",
    "a =FourCal()\n",
    "a.setdata(4, 2)\n",
    "\n",
    "# 위와 같이 호출하면 앞에서 살펴보았듯이 a객체의 first,seond 객체변수에는\n",
    "# 각 각 값 4와 2가 저장될 것.\n",
    "\n",
    "# 이제 add메서드 호출\n",
    "\n",
    "print(a.add())\n",
    "# 6\n"
   ]
  },
  {
   "cell_type": "code",
   "execution_count": null,
   "metadata": {},
   "outputs": [],
   "source": [
    "# a.add()라고 호출하면 add메서드가 호출되어 값 6이 출력될 것.\n",
    "# 어떤 과정을 거쳐서 값 6이 출력되는지 add메서드를 따로 떼어 자세히 살펴보자\n",
    "\n",
    "def add(self):\n",
    "    result = self.first + self.second\n",
    "    return result\n",
    "\n",
    "# add 메서드의 매개변수는 self이고 반환값은 result이다.\n",
    "# 반환 겂인 result를 계산하는 부분은 다음과 같다.\n",
    "result = self.first + self.second\n",
    "\n",
    "# a.add()와 같이 a 객체에 의해 add메서드가 수행되면 \n",
    "# add 메서드의 self에는 객체 a가 자동으로 입력되므로 위 내용은 다음과 같이 해석\n",
    "result = a.first + a.second\n",
    "\n",
    "# 위 내용은 a.add() 메서드 호출 전에 a.setdata(4, 2)가 먼저 호출되어\n",
    "# a.first = 4, a.second = 2 라고 이미 설정되었기 때문에\n",
    "# 다시 다음과 같이 해석한다.\n",
    "result = 4 + 2\n",
    "# 따라서 다음과 같이 a.add()를 호출하면 6을 돌려준다.\n",
    "print(a.add())\n",
    "# 6\n"
   ]
  },
  {
   "cell_type": "markdown",
   "metadata": {},
   "source": [
    "> 곱하기, 빼기, 나누기 기능 만들기"
   ]
  },
  {
   "cell_type": "code",
   "execution_count": null,
   "metadata": {},
   "outputs": [],
   "source": [
    "class FourCal:\n",
    "    def setdata(self, first, second):\n",
    "        self.first = first\n",
    "        self.second = second\n",
    "    \n",
    "    def add(self):\n",
    "        result  = self.first + self.second   \n",
    "        return result\n",
    "\n",
    "    def mul(self):\n",
    "        result = self.first * self.second\n",
    "        return result\n",
    "    \n",
    "    def sub(self):\n",
    "        result = self.first - self.second\n",
    "        return result\n",
    "    \n",
    "    def div(self):\n",
    "        result = self.first / self.second\n",
    "        return result\n",
    "\n",
    "a = FourCal()\n",
    "a.setdata(4, 2)\n",
    "print(\"add: \", a.add())\n",
    "print(\"mul: \", a.mul())\n",
    "print(\"sub: \", a.sub())\n",
    "print(\"div: \", a.div())\n"
   ]
  }
 ],
 "metadata": {
  "interpreter": {
   "hash": "25b440c64d017c56873f4b852ba83dcd4fd849540e3f9eded46bf1a7c9bff031"
  },
  "kernelspec": {
   "display_name": "Python 3.8.10 64-bit ('base': conda)",
   "language": "python",
   "name": "python3"
  },
  "language_info": {
   "codemirror_mode": {
    "name": "ipython",
    "version": 3
   },
   "file_extension": ".py",
   "mimetype": "text/x-python",
   "name": "python",
   "nbconvert_exporter": "python",
   "pygments_lexer": "ipython3",
   "version": "3.8.10"
  },
  "orig_nbformat": 4
 },
 "nbformat": 4,
 "nbformat_minor": 2
}
