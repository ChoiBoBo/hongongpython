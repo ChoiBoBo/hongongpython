{
 "cells": [
  {
   "cell_type": "markdown",
   "metadata": {},
   "source": [
    "### 05-2 모듈\n",
    "---"
   ]
  },
  {
   "cell_type": "markdown",
   "metadata": {},
   "source": [
    "1. 모듈이란 함수나 변수 또는 클래스를 모아 놓은 파일.\n",
    "2. 모듈은 다른 파이썬 프로그램에서 불러와 사용할 수 있게끔 만든 파이썬 파일"
   ]
  },
  {
   "cell_type": "markdown",
   "metadata": {},
   "source": [
    "> 모듈 만들기"
   ]
  },
  {
   "cell_type": "code",
   "execution_count": 1,
   "metadata": {},
   "outputs": [],
   "source": [
    "# 모듈 살펴보기 전에 간단한 모듈을 만들어보자\n",
    "\n",
    "def add(a, b):\n",
    "    return a + b\n",
    "\n",
    "def sub(a, b):\n",
    "    return a - b\n",
    "\n",
    "# 위와 같이 만든 함수 파일을 mod1.py로 만들고 c:\\doit 디렉터리에 저장\n",
    "# 이 mod1.py 파일이 발 ㅗ모듈이다.\n",
    "\n",
    "# ※ 파이썬 확장자 .py로 만든 파이썬 파일 모두 모듈이다."
   ]
  },
  {
   "cell_type": "markdown",
   "metadata": {},
   "source": [
    "> 모듈 불러오기"
   ]
  },
  {
   "cell_type": "code",
   "execution_count": null,
   "metadata": {},
   "outputs": [],
   "source": [
    "# 모듈 불러오는 방법\n",
    "# 명령 프롬프트 창을 열고 mod1.py 저장한 디렉터리로 이동한 다음\n",
    "# 대화형 인터프리터를 실행"
   ]
  },
  {
   "cell_type": "code",
   "execution_count": 7,
   "metadata": {},
   "outputs": [
    {
     "name": "stdout",
     "output_type": "stream",
     "text": [
      "7\n",
      "2\n"
     ]
    }
   ],
   "source": [
    "# 이제는 다음과 같이 따라해 보자\n",
    "\n",
    "import test\n",
    "\n",
    "print(test.add(3,4))\n",
    "print(test.sub(4,2))\n",
    "\n",
    "# 주의! import mod1.py 로 입력하지 않게 주의!"
   ]
  },
  {
   "cell_type": "markdown",
   "metadata": {},
   "source": [
    "> 모듈 사용법"
   ]
  },
  {
   "cell_type": "code",
   "execution_count": 8,
   "metadata": {},
   "outputs": [
    {
     "data": {
      "text/plain": [
       "7"
      ]
     },
     "execution_count": 8,
     "metadata": {},
     "output_type": "execute_result"
    }
   ],
   "source": [
    "# import 모듈이름\n",
    "\n",
    "# 때로는 test.add 와 test.sub처럼 쓰지 않고\n",
    "# add, sub처럼 모듈 이름 없이 함수 이름만 쓰고 싶을 경우 있음\n",
    "# 이럴 때는 \n",
    "\n",
    "# from 모듈이름 import 모듈함수\n",
    "from test import add\n",
    "add(3, 4)\n",
    "\n",
    "# 만약 add와 sub 함수 둘 다 사용하고 싶다면? (2가지 방법)\n",
    "\n",
    "# 첫 번째 방법\n",
    "from test import add, sub\n",
    "\n",
    "#두 번째 방법\n",
    "from test import *\n"
   ]
  },
  {
   "cell_type": "markdown",
   "metadata": {},
   "source": [
    "if__name__ == \"__main__\": 의 의미"
   ]
  },
  {
   "cell_type": "code",
   "execution_count": null,
   "metadata": {},
   "outputs": [],
   "source": [
    "# 이번에는 test1.py 파일을 다음과 같이 변경해보자!\n",
    "\n",
    "# test.py에 아래 문장 추가함.\n",
    "# print(add(1, 4))\n",
    "# print(sub(4, 2))\n",
    "\n",
    "# 그런데 add, sub 함수를 사용하기 위해\n",
    "# test 모듈을 import 할 때 문제가 발생\n",
    "\n",
    "# import mod1 입력하면 5,2가 결괏값으로 제공\n",
    "# 이런 문제를 방지하려면 test.py 파일을 다음처럼 변경\n",
    "\n",
    "# 추가) if __name__ == \"__main__\":"
   ]
  },
  {
   "cell_type": "markdown",
   "metadata": {},
   "source": [
    "> __name__ 변수란?"
   ]
  },
  {
   "cell_type": "code",
   "execution_count": 9,
   "metadata": {},
   "outputs": [
    {
     "data": {
      "text/plain": [
       "'test'"
      ]
     },
     "execution_count": 9,
     "metadata": {},
     "output_type": "execute_result"
    }
   ],
   "source": [
    "# 😢이해못함\n",
    "# 파이썬의 __name__ 변수는 파이썬이 내부적으로 사용하는 특별한 변수 이름\n",
    "# 만약 C:\\doit>python mod1.py 처럼 직접 mod1.py 파일을 실행할 경우\n",
    "# mod1.py의 __name__ 변수에는 __main__값이 저장된다.\n",
    "# 하지만 파이썬 셜이나 다른 파이썬 모듈에서\n",
    "# mod1을 import할 경우에는 \n",
    "# mod1.py의 __name__ 변수에는 mod1.py의 모듈 이름 값 mod1이 저장된다.\n",
    "\n",
    "import test\n",
    "test.__name__\n"
   ]
  },
  {
   "cell_type": "markdown",
   "metadata": {},
   "source": [
    "> 클래스나 변수 등을 포함한 모듈"
   ]
  },
  {
   "cell_type": "code",
   "execution_count": null,
   "metadata": {},
   "outputs": [],
   "source": [
    "# 지금까지 살펴본 모듈은 함수만 포함했지만\n",
    "# 클래스나 변수 등을 포함할 수도 있다. 다음을 작성해보자!\n",
    "\n",
    "# PI = 3.141592\n",
    "# class Math:\n",
    "#     def solv(self, r):\n",
    "#         return PI * (r ** 2)\n",
    "\n",
    "# def add(a, b):\n",
    "#     return a+ b"
   ]
  },
  {
   "cell_type": "code",
   "execution_count": null,
   "metadata": {},
   "outputs": [],
   "source": [
    "# C:\\Users\\pahkey> cd C:\\doit\n",
    "# C:\\doit> python\n",
    "# Type \"help\", \"copyright\", \"credits\" or \"license\" for more information.\n",
    "# >>> import mod2\n",
    "# >>> print(mod2.PI)\n",
    "# 3.141592\n",
    "\n",
    "# 위 예에서 볼 수 있는듯이 mod2.PI처럼 입력해서 \n",
    "# mod2.py 파일에 있는 PI 변수 값을 이용할 수 있음"
   ]
  },
  {
   "cell_type": "markdown",
   "metadata": {},
   "source": [
    "> 클래스나 변수 등을 포함한 모듈 다시 보면서 시작해야함"
   ]
  }
 ],
 "metadata": {
  "interpreter": {
   "hash": "25b440c64d017c56873f4b852ba83dcd4fd849540e3f9eded46bf1a7c9bff031"
  },
  "kernelspec": {
   "display_name": "Python 3.8.10 64-bit ('base': conda)",
   "language": "python",
   "name": "python3"
  },
  "language_info": {
   "codemirror_mode": {
    "name": "ipython",
    "version": 3
   },
   "file_extension": ".py",
   "mimetype": "text/x-python",
   "name": "python",
   "nbconvert_exporter": "python",
   "pygments_lexer": "ipython3",
   "version": "3.8.10"
  },
  "orig_nbformat": 4
 },
 "nbformat": 4,
 "nbformat_minor": 2
}
