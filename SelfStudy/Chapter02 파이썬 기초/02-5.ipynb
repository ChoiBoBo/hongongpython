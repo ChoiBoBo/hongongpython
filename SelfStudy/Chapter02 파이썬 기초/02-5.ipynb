{
 "cells": [
  {
   "cell_type": "markdown",
   "metadata": {},
   "source": [
    "### 02-5 딕셔너리 자료형   \n",
    "---"
   ]
  },
  {
   "cell_type": "markdown",
   "metadata": {},
   "source": [
    "> 딕셔너리란?\n",
    "\"이름: = \"홍길동\" 같은 대응 관계의 자료형\n",
    "'key를 통해 value를 얻는다' 가장 큰 특징"
   ]
  },
  {
   "cell_type": "code",
   "execution_count": null,
   "metadata": {},
   "outputs": [],
   "source": [
    "# 기본 형태\n",
    "dic = {'name':'pey', 'phone':'0119993323', 'birth': '1118'}\n",
    "\n",
    "a = {1 : \"hi\"}\n",
    "a = {'a' : [1, 2, 3]}"
   ]
  },
  {
   "cell_type": "markdown",
   "metadata": {},
   "source": [
    "> 딕셔너리 쌍 추가, 삭제하기"
   ]
  },
  {
   "cell_type": "code",
   "execution_count": null,
   "metadata": {},
   "outputs": [],
   "source": [
    "# 쌍 추가\n",
    "a = {1: 'a'}\n",
    "a[2] = 'b'\n",
    "a # {1: 'a', 2: 'b'}\n",
    "a['name'] = 'pey'\n",
    "a # {1: 'a', 2: 'b', 'name': 'pey'}"
   ]
  },
  {
   "cell_type": "code",
   "execution_count": 4,
   "metadata": {},
   "outputs": [
    {
     "data": {
      "text/plain": [
       "{2: 'b', 'name': 'pey'}"
      ]
     },
     "execution_count": 4,
     "metadata": {},
     "output_type": "execute_result"
    }
   ],
   "source": [
    "# 요소 삭제\n",
    "del a[1]\n",
    "a # {2: 'b', 'name': 'pey'}"
   ]
  },
  {
   "cell_type": "markdown",
   "metadata": {},
   "source": [
    "> 딕셔너리를 사용하는 방법\n",
    "---\n",
    "4명 사람이 있다고 가정하면 각자의 특기를 표현하려면 리스트나 문자열은 까다로움\n",
    "딕셔너리로 표현하면 쉬움"
   ]
  },
  {
   "cell_type": "code",
   "execution_count": null,
   "metadata": {},
   "outputs": [],
   "source": [
    "# 예시\n",
    "{\"김연아\":\"피겨스케이팅\", \"류현진\":\"야구\", \"박지성\":\"축구\", \"귀도\":\"파이썬\"}"
   ]
  },
  {
   "cell_type": "code",
   "execution_count": 5,
   "metadata": {},
   "outputs": [
    {
     "data": {
      "text/plain": [
       "10"
      ]
     },
     "execution_count": 5,
     "metadata": {},
     "output_type": "execute_result"
    }
   ],
   "source": [
    "# 리스트나 튜플, 문자열로 할 경우 인덱싱이나 슬라이싱으로 복잡\n",
    "# 하지만 딕셔너리는 key값만 입력하면 바로 Value 가 나옴\n",
    "\n",
    "grade = {\"보균\" : 10, \"영수\" : 99}\n",
    "grade[\"보균\"]"
   ]
  },
  {
   "cell_type": "code",
   "execution_count": null,
   "metadata": {},
   "outputs": [],
   "source": [
    "# 👍 리스트, 튜플 a[1]과 완전 다른 의미!!\n",
    "a = {1:'a', 2:'b'}\n",
    "a[1] #'a'\n",
    "a[2] #'b'\n",
    "a[3] #오류 발생\n",
    "# 아래 Key로 Value얻기(get) 차이점 확인"
   ]
  },
  {
   "cell_type": "markdown",
   "metadata": {},
   "source": [
    "> 👍딕셔너리 만들 때 주의할 사항"
   ]
  },
  {
   "cell_type": "code",
   "execution_count": null,
   "metadata": {},
   "outputs": [],
   "source": [
    "# key값은 고유한 값이므로 중복되는 key값을 설정하면 나머지 것들은 무시가 된다.\n",
    "\n",
    "a = {1:'a', 1:'b'} # {1: 'b'}"
   ]
  },
  {
   "cell_type": "code",
   "execution_count": null,
   "metadata": {},
   "outputs": [],
   "source": [
    "# key에는 리스트 사용할 수 없다. 하지만 튜플은 사용가능!\n",
    " a = {[1,2] : 'hi'} #오류 발생!"
   ]
  },
  {
   "cell_type": "markdown",
   "metadata": {},
   "source": [
    "> 딕셔너리 관련 함수들"
   ]
  },
  {
   "cell_type": "code",
   "execution_count": 9,
   "metadata": {},
   "outputs": [
    {
     "name": "stdout",
     "output_type": "stream",
     "text": [
      "dict_keys(['name', 'phone', 'birth'])\n"
     ]
    }
   ],
   "source": [
    "# Key 리스트 만들기(keys) 활용1\n",
    "\n",
    "a = {'name': 'pey', 'phone': '0119993323', 'birth': '1118'}\n",
    "b = a.keys()\n",
    "print(b)"
   ]
  },
  {
   "cell_type": "code",
   "execution_count": 10,
   "metadata": {},
   "outputs": [
    {
     "name": "stdout",
     "output_type": "stream",
     "text": [
      "name\n",
      "phone\n",
      "birth\n"
     ]
    }
   ],
   "source": [
    "# Key 리스트 만들기(keys) 활용2\n",
    "# 리스트를 사용하는 것과 차이가 없지만,\n",
    "# 리스트 고유의 append, insert, pop, remove, sort 함수는 수행할 수 없다. \n",
    "\n",
    "for k in a.keys():\n",
    "    print(k)"
   ]
  },
  {
   "cell_type": "code",
   "execution_count": null,
   "metadata": {},
   "outputs": [],
   "source": [
    "# dict_keys 객체를 리스트로 변환\n",
    "list(a.keys())"
   ]
  },
  {
   "cell_type": "code",
   "execution_count": null,
   "metadata": {},
   "outputs": [],
   "source": [
    "# Value 리스트 만들기(values)\n",
    "a.values() # dict_values(['pey', '0119993323', '1118'])"
   ]
  },
  {
   "cell_type": "code",
   "execution_count": null,
   "metadata": {},
   "outputs": [],
   "source": [
    "# Key, Value 쌍 얻기(items)\n",
    "# Key와 Value의 쌍을 튜플로 묶은 값을 dict_items 객체로 돌려줌\n",
    "\n",
    "a.items()\n",
    "# dict_items([('name', 'pey'), ('phone', '0119993323'), ('birth', '1118')])"
   ]
  },
  {
   "cell_type": "code",
   "execution_count": 11,
   "metadata": {},
   "outputs": [
    {
     "data": {
      "text/plain": [
       "'pey'"
      ]
     },
     "execution_count": 11,
     "metadata": {},
     "output_type": "execute_result"
    }
   ],
   "source": [
    "# 👍Key로 Value얻기(get)\n",
    "\n",
    "a = {'name':'pey', 'phone':'0119993323', 'birth': '1118'}\n",
    "a.get('name') # 'pey'\n",
    "a.get('phone') # '0119993323'\n",
    "# a.get('name')은 a['name']을 사용했을 때와 동일한 결괏값"
   ]
  },
  {
   "cell_type": "code",
   "execution_count": null,
   "metadata": {},
   "outputs": [],
   "source": [
    "# 👍다만 a['nokey']처럼 존재하지 않는 키(nokey)로 값을 가져오려고 할 경우\n",
    "# a['nokey']는 Key 오류를 발생!\n",
    "# a.get('nokey')는 None을 돌려준다는 차이\n",
    "# 어떤것을 사용할지는 여러분의 선택\n",
    "# ※ 여기에서 None은 \"거짓\"이라는 뜻이라고만 알아두자.\n",
    "\n",
    "a = {'name':'pey', 'phone':'0119993323', 'birth': '1118'}\n",
    "print(a.get('nokey')) # None\n",
    "print(a['nokey']) # 오류 발생!"
   ]
  },
  {
   "cell_type": "code",
   "execution_count": null,
   "metadata": {},
   "outputs": [],
   "source": [
    "# 딕셔너리 안에 찾으려는 key 값이 없을 경우를\n",
    "# 미리 정해 둔 디폴드 값을 대신 가져오게 하고 싶을 떄는\n",
    "# get(x, '디폴드 값')을 사용\n",
    "\n",
    "a.get('foo', '없음') #'없음'"
   ]
  },
  {
   "cell_type": "code",
   "execution_count": null,
   "metadata": {},
   "outputs": [],
   "source": [
    "# 해당 key가 딕셔너리 안에 있는지 조사하기(in)\n",
    "\n",
    "a = {'name':'pey', 'phone':'0119993323', 'birth': '1118'}\n",
    "'name' in a # True\n",
    "'pey' in a # false"
   ]
  }
 ],
 "metadata": {
  "interpreter": {
   "hash": "8931d08a56ba8ec5bd4013e6d6c9066a90d099ecd0b9731835efa4c48cf46a24"
  },
  "kernelspec": {
   "display_name": "Python 3.10.1 64-bit",
   "language": "python",
   "name": "python3"
  },
  "language_info": {
   "codemirror_mode": {
    "name": "ipython",
    "version": 3
   },
   "file_extension": ".py",
   "mimetype": "text/x-python",
   "name": "python",
   "nbconvert_exporter": "python",
   "pygments_lexer": "ipython3",
   "version": "3.8.10"
  },
  "orig_nbformat": 4
 },
 "nbformat": 4,
 "nbformat_minor": 2
}
