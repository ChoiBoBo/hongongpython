{
 "cells": [
  {
   "cell_type": "markdown",
   "metadata": {},
   "source": [
    "### 02-9 연습문제\n",
    "---"
   ]
  },
  {
   "cell_type": "code",
   "execution_count": 4,
   "metadata": {},
   "outputs": [
    {
     "name": "stdout",
     "output_type": "stream",
     "text": [
      "70.0\n"
     ]
    }
   ],
   "source": [
    "# 홍길동 씨의 과목별 점수는 다음과 같다. 홍길동 씨의 평균 점수를 구해 보자.\n",
    "# 과목\t점수\n",
    "# 국어(a)\t80\n",
    "# 영어(b)\t75\n",
    "# 수학(c)\t55\n",
    "a = 80\n",
    "b = 75\n",
    "c = 55\n",
    "\n",
    "sum = a + b + c\n",
    "ave = sum / 3\n",
    "print(ave)"
   ]
  },
  {
   "cell_type": "code",
   "execution_count": 6,
   "metadata": {},
   "outputs": [
    {
     "name": "stdout",
     "output_type": "stream",
     "text": [
      "홀수\n"
     ]
    }
   ],
   "source": [
    "# 자연수 13이 홀수인지 짝수인지 판별할 수 있는 방법에 대해 말해 보자.\n",
    "\n",
    "input_data = int(input(\"정수 입력: \"))\n",
    "if input_data % 2 == 0:\n",
    "    print(\"짝수\")\n",
    "else:\n",
    "    print(\"홀수\")"
   ]
  },
  {
   "cell_type": "code",
   "execution_count": 7,
   "metadata": {},
   "outputs": [
    {
     "name": "stdout",
     "output_type": "stream",
     "text": [
      "['881120', '1068234']\n"
     ]
    }
   ],
   "source": [
    "# 홍길동 씨의 주민등록번호는 881120-1068234이다. \n",
    "# 홍길동 씨의 주민등록번호를 연월일(YYYYMMDD) 부분과 그 뒤의 숫자 부분으로 나누어 출력해 보자.\n",
    "\n",
    "hong = \"881120-1068234\"\n",
    "split_hong = hong.split(\"-\")\n",
    "print(split_hong)"
   ]
  },
  {
   "cell_type": "code",
   "execution_count": 16,
   "metadata": {},
   "outputs": [
    {
     "data": {
      "text/plain": [
       "'1'"
      ]
     },
     "execution_count": 16,
     "metadata": {},
     "output_type": "execute_result"
    }
   ],
   "source": [
    "# 주민등록번호 뒷자리의 맨 첫 번째 숫자는 성별을 나타낸다. \n",
    "# 주민등록번호에서 성별을 나타내는 숫자를 출력해 보자.\n",
    "# ※ 문자열 인덱싱을 사용해 보자.\n",
    "\n",
    "pin = \"881120-1068234\"\n",
    "splite_pin = pin.split(\"-\")\n",
    "splite_pin[1][0]"
   ]
  },
  {
   "cell_type": "code",
   "execution_count": 22,
   "metadata": {},
   "outputs": [
    {
     "data": {
      "text/plain": [
       "'a#b#c#d'"
      ]
     },
     "execution_count": 22,
     "metadata": {},
     "output_type": "execute_result"
    }
   ],
   "source": [
    "# 다음과 같은 문자열 a:b:c:d가 있다.\n",
    "# 문자열의 replace 함수를 사용하여 a#b#c#d로 바꿔서 출력해 보자.\n",
    "a = \"a:b:c:d\"\n",
    "\n",
    "a.replace(':',\"#\")"
   ]
  },
  {
   "cell_type": "code",
   "execution_count": 28,
   "metadata": {},
   "outputs": [
    {
     "name": "stdout",
     "output_type": "stream",
     "text": [
      "[5, 4, 3, 2, 1]\n"
     ]
    }
   ],
   "source": [
    "# [1, 3, 5, 4, 2] 리스트를 [5, 4, 3, 2, 1]로 만들어 보자.\n",
    "# ※ 리스트의 내장 함수를 사용해 보자.\n",
    "\n",
    "a = [1, 3, 5, 4, 2]\n",
    "a.sort(reverse=True)\n",
    "print(a)"
   ]
  },
  {
   "cell_type": "code",
   "execution_count": 64,
   "metadata": {},
   "outputs": [
    {
     "data": {
      "text/plain": [
       "'Life is too short'"
      ]
     },
     "execution_count": 64,
     "metadata": {},
     "output_type": "execute_result"
    }
   ],
   "source": [
    "# 😢['Life', 'is', 'too', 'short'] 리스트를 Life is too short 문자열로 만들어 출력해 보자.\n",
    "# ※ 문자열의 join 함수를 사용하면 리스트를 문자열로 쉽게 만들 수 있다.\n",
    "\n",
    "\n",
    "list = ['Life', 'is', 'too', 'short']\n",
    "\" \".join(list)"
   ]
  },
  {
   "cell_type": "code",
   "execution_count": 40,
   "metadata": {},
   "outputs": [
    {
     "data": {
      "text/plain": [
       "(1, 2, 3, 4)"
      ]
     },
     "execution_count": 40,
     "metadata": {},
     "output_type": "execute_result"
    }
   ],
   "source": [
    "# (1,2,3) 튜플에 값 4를 추가하여 (1,2,3,4)를 만들어 출력해 보자.\n",
    "# ※ 더하기(+)를 사용해 보자.\n",
    "\n",
    "a = (1,2,3)\n",
    "b = (4, )\n",
    "a + b"
   ]
  },
  {
   "cell_type": "code",
   "execution_count": 44,
   "metadata": {},
   "outputs": [],
   "source": [
    "# 다음과 같은 딕셔너리 a가 있다.\n",
    "a = dict()\n",
    "a # {}\n",
    "# 다음 중 오류가 발생하는 경우를 고르고, 그 이유를 설명해 보자.\n",
    "# a['name'] = 'python'\n",
    "# a[('a',)] = 'python'\n",
    "# a[[1]] = 'python'\n",
    "# a[250] = 'python'\n",
    "\n",
    "# 정답 : a[[1]]\n",
    "# 이유 : key 값에는 리스트([])가 올 수 없음"
   ]
  },
  {
   "cell_type": "code",
   "execution_count": 51,
   "metadata": {},
   "outputs": [
    {
     "data": {
      "text/plain": [
       "80"
      ]
     },
     "execution_count": 51,
     "metadata": {},
     "output_type": "execute_result"
    }
   ],
   "source": [
    "# 딕셔너리 a에서 'B'에 해당되는 값을 추출해 보자.\n",
    "# a = {'A':90, 'B':80, 'C':70}\n",
    "# ※ 딕셔너리의 pop 함수를 사용해 보자.\n",
    "\n",
    "a = {'A':90, 'B':80, 'C':70}\n",
    "\n",
    "# a[\"B\"]\n",
    "a.pop(\"B\")"
   ]
  },
  {
   "cell_type": "code",
   "execution_count": 53,
   "metadata": {},
   "outputs": [
    {
     "data": {
      "text/plain": [
       "{1, 2, 3, 4, 5}"
      ]
     },
     "execution_count": 53,
     "metadata": {},
     "output_type": "execute_result"
    }
   ],
   "source": [
    "# a 리스트에서 중복 숫자를 제거해 보자.\n",
    "\n",
    "a = [1, 1, 1, 2, 2, 3, 3, 3, 4, 4, 5]\n",
    "\n",
    "set(a)"
   ]
  },
  {
   "cell_type": "code",
   "execution_count": 54,
   "metadata": {},
   "outputs": [
    {
     "name": "stdout",
     "output_type": "stream",
     "text": [
      "[1, 4, 3]\n"
     ]
    }
   ],
   "source": [
    "# 파이썬은 다음처럼 동일한 값에 여러 개의 변수를 선언할 수 있다. \n",
    "# 다음과 같이 a, b 변수를 선언한 후 a의 두 번째 요솟값을 변경하면 b 값은 어떻게 될까?\n",
    "# 그리고 이런 결과가 오는 이유에 대해 설명해 보자.\n",
    "\n",
    "a = b = [1, 2, 3]\n",
    "a[1] = 4\n",
    "print(b)\n",
    "\n",
    "# 같이 id 주소값을 할당하기 때문에 같이 변경이 된다."
   ]
  }
 ],
 "metadata": {
  "interpreter": {
   "hash": "25b440c64d017c56873f4b852ba83dcd4fd849540e3f9eded46bf1a7c9bff031"
  },
  "kernelspec": {
   "display_name": "Python 3.8.10 64-bit ('base': conda)",
   "language": "python",
   "name": "python3"
  },
  "language_info": {
   "codemirror_mode": {
    "name": "ipython",
    "version": 3
   },
   "file_extension": ".py",
   "mimetype": "text/x-python",
   "name": "python",
   "nbconvert_exporter": "python",
   "pygments_lexer": "ipython3",
   "version": "3.8.10"
  },
  "orig_nbformat": 4
 },
 "nbformat": 4,
 "nbformat_minor": 2
}
