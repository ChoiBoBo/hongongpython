{
 "cells": [
  {
   "cell_type": "markdown",
   "metadata": {},
   "source": [
    "### 02-7 불 자료형\n",
    "---"
   ]
  },
  {
   "cell_type": "markdown",
   "metadata": {},
   "source": [
    "> 불 자료형이란? \n",
    "---\n",
    "참(True)과 거짓(False)을 나타내는 자료형"
   ]
  },
  {
   "cell_type": "markdown",
   "metadata": {},
   "source": [
    "> 자료형의 참과 거짓"
   ]
  },
  {
   "cell_type": "code",
   "execution_count": null,
   "metadata": {},
   "outputs": [],
   "source": [
    "# \"python\"\t참\n",
    "# \"\"\t    거짓\n",
    "# [1, 2, 3]\t참\n",
    "# []\t    거짓\n",
    "# ()\t    거짓\n",
    "# {}\t    거짓\n",
    "# 1\t        참\n",
    "# 0     \t거짓\n",
    "# None\t    거짓"
   ]
  }
 ],
 "metadata": {
  "language_info": {
   "name": "python"
  },
  "orig_nbformat": 4
 },
 "nbformat": 4,
 "nbformat_minor": 2
}
