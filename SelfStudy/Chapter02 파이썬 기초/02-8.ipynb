{
 "cells": [
  {
   "cell_type": "markdown",
   "metadata": {},
   "source": [
    "### 02-8 자료형의 값을 저장하는 공간, 변수\n",
    "---"
   ]
  },
  {
   "cell_type": "markdown",
   "metadata": {},
   "source": [
    "> 리스트를 복사하고자 할 때"
   ]
  },
  {
   "cell_type": "code",
   "execution_count": 5,
   "metadata": {},
   "outputs": [
    {
     "data": {
      "text/plain": [
       "[1, 4, 3]"
      ]
     },
     "execution_count": 5,
     "metadata": {},
     "output_type": "execute_result"
    }
   ],
   "source": [
    "a = [1,2,3]\n",
    "b = a\n",
    "\n",
    "#같은 값\n",
    "id(a)\n",
    "id(b)\n",
    "a is b # True\n",
    "\n",
    "a[1] = 4\n",
    "a # [1, 4, 3]\n",
    "b # [1, 4, 3]\n",
    "\n"
   ]
  },
  {
   "cell_type": "markdown",
   "metadata": {},
   "source": [
    "> [:] 이용"
   ]
  },
  {
   "cell_type": "code",
   "execution_count": null,
   "metadata": {},
   "outputs": [],
   "source": [
    "a = [1, 2, 3]\n",
    "b = a[:]\n",
    "a[1] = 4\n",
    "a # [1, 4, 3]\n",
    "b # [1, 2, 3]\n",
    "\n",
    "b is a # False"
   ]
  },
  {
   "cell_type": "markdown",
   "metadata": {},
   "source": [
    ">copy 모듈 이용"
   ]
  },
  {
   "cell_type": "code",
   "execution_count": null,
   "metadata": {},
   "outputs": [],
   "source": [
    "from copy import copy\n",
    "a = [1, 2, 3]\n",
    "b = copy(a)\n",
    "b = a.copy()\n",
    "\n",
    "b is a # False"
   ]
  },
  {
   "cell_type": "markdown",
   "metadata": {},
   "source": [
    "> 변수를 만드는 여러 가지 방법"
   ]
  },
  {
   "cell_type": "code",
   "execution_count": null,
   "metadata": {},
   "outputs": [],
   "source": [
    "# 튜플로 a,b에 대입\n",
    "a, b = ('python', 'life')\n",
    "\n",
    "# 튜플은 괄호 생략 가능\n",
    "(a, b) = 'python', 'life'\n",
    "\n",
    "# 리스트\n",
    "[a, b] = ['python', 'life']\n",
    "\n",
    "# 여러 개의 변수에 값을 값 대입\n",
    "a = b = 'pyhton'"
   ]
  }
 ],
 "metadata": {
  "interpreter": {
   "hash": "25b440c64d017c56873f4b852ba83dcd4fd849540e3f9eded46bf1a7c9bff031"
  },
  "kernelspec": {
   "display_name": "Python 3.8.10 64-bit ('base': conda)",
   "language": "python",
   "name": "python3"
  },
  "language_info": {
   "codemirror_mode": {
    "name": "ipython",
    "version": 3
   },
   "file_extension": ".py",
   "mimetype": "text/x-python",
   "name": "python",
   "nbconvert_exporter": "python",
   "pygments_lexer": "ipython3",
   "version": "3.8.10"
  },
  "orig_nbformat": 4
 },
 "nbformat": 4,
 "nbformat_minor": 2
}
