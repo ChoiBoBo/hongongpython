{
 "cells": [
  {
   "cell_type": "markdown",
   "metadata": {},
   "source": [
    "### 02-6 집학 자료형\n",
    "---"
   ]
  },
  {
   "cell_type": "markdown",
   "metadata": {},
   "source": [
    "> 집합 자료형은 어떻게 만들어질까?\n",
    "- 집합에 관련된 것을 쉽게 처리하기 위함"
   ]
  },
  {
   "cell_type": "code",
   "execution_count": 4,
   "metadata": {},
   "outputs": [
    {
     "name": "stdout",
     "output_type": "stream",
     "text": [
      "<class 'set'>\n"
     ]
    }
   ],
   "source": [
    "s1 = set([1,2,3])\n",
    "s1 # {1, 2, 3}\n",
    "print(type(s1))\n"
   ]
  },
  {
   "cell_type": "markdown",
   "metadata": {},
   "source": [
    "> 집합 자료형의 특징"
   ]
  },
  {
   "cell_type": "code",
   "execution_count": 5,
   "metadata": {},
   "outputs": [
    {
     "data": {
      "text/plain": [
       "{'H', 'e', 'l', 'o'}"
      ]
     },
     "execution_count": 5,
     "metadata": {},
     "output_type": "execute_result"
    }
   ],
   "source": [
    "# 1. 중복을 허용 안함\n",
    "# 2. 순서가 없다.\n",
    "# 딕셔너리와 비슷해서 인덱싱을 지원x\n",
    "\n",
    "s2 = set(\"Hello\")\n",
    "s2"
   ]
  },
  {
   "cell_type": "code",
   "execution_count": 10,
   "metadata": {},
   "outputs": [
    {
     "data": {
      "text/plain": [
       "1"
      ]
     },
     "execution_count": 10,
     "metadata": {},
     "output_type": "execute_result"
    }
   ],
   "source": [
    "# 만약 set 자료형 저장된 값을 인덱싱으로 접근하려면\n",
    "# 아래와같이 리스트나 튜플 변환후에 접근\n",
    "\n",
    "# 중복을 허용하지 않는 set의 특징을 이용해서\n",
    "# 자료의 중복을 제거위한 필터로 종종 사용\n",
    "\n",
    "s1 = set([1,2,3])\n",
    "l1 = list(s1)\n",
    "l1 # [1, 2, 3]\n",
    "l1[0] # 1\n",
    "\n",
    "t1 = tuple(s1)\n",
    "t1 # (1, 2, 3)\n",
    "t1[0] # 1"
   ]
  },
  {
   "cell_type": "markdown",
   "metadata": {},
   "source": [
    "> 교집합, 합집합, 차집합 구하기"
   ]
  },
  {
   "cell_type": "code",
   "execution_count": null,
   "metadata": {},
   "outputs": [],
   "source": [
    "# set자료형을 정말 유용하게 사용하는 경우는 집합들을 사용할 때임.\n",
    "\n",
    "s1 = set([1, 2, 3, 4, 5, 6])\n",
    "s2 = set([4, 5, 6, 7, 8, 9])\n",
    "\n",
    "# 교집합\n",
    "s1 & s2 # {4, 5, 6}\n",
    "s1.intersection(s2) # 같은 의미\n",
    "\n",
    "# 합집합\n",
    "s1 | s2 #{1, 2, 3, 4, 5, 6, 7, 8, 9}\n",
    "s1.union(s2) # 같은 의미\n",
    "\n",
    "# 차집합\n",
    "s1 - s2 # {1, 2, 3}\n",
    "s1.difference(s2) # {1, 2, 3}\n",
    "s2.difference(s1) # {7, 8, 9}\n"
   ]
  },
  {
   "cell_type": "markdown",
   "metadata": {},
   "source": [
    "> 집합 자료형 관련 함수들"
   ]
  },
  {
   "cell_type": "code",
   "execution_count": null,
   "metadata": {},
   "outputs": [],
   "source": [
    "# 값 1개 추가하기(add)\n",
    "s1 = set([1, 2, 3])\n",
    "s1.add(4)\n",
    "s1\n",
    "\n",
    "# 값 여러 개 추가하기(update)\n",
    "s1 = set([1, 2, 3])\n",
    "s1.update([4,5,6])\n",
    "s1\n",
    "\n",
    "# 특정 값 제거하기(remove)\n",
    "s1 = set([1, 2, 3])\n",
    "s1.remove(2)\n",
    "s1"
   ]
  }
 ],
 "metadata": {
  "interpreter": {
   "hash": "25b440c64d017c56873f4b852ba83dcd4fd849540e3f9eded46bf1a7c9bff031"
  },
  "kernelspec": {
   "display_name": "Python 3.8.10 64-bit ('base': conda)",
   "language": "python",
   "name": "python3"
  },
  "language_info": {
   "codemirror_mode": {
    "name": "ipython",
    "version": 3
   },
   "file_extension": ".py",
   "mimetype": "text/x-python",
   "name": "python",
   "nbconvert_exporter": "python",
   "pygments_lexer": "ipython3",
   "version": "3.8.10"
  },
  "orig_nbformat": 4
 },
 "nbformat": 4,
 "nbformat_minor": 2
}
