{
 "cells": [
  {
   "cell_type": "markdown",
   "metadata": {},
   "source": [
    "### if문\n",
    "---"
   ]
  },
  {
   "cell_type": "markdown",
   "metadata": {},
   "source": [
    "> if문의 기본 구조"
   ]
  },
  {
   "cell_type": "code",
   "execution_count": null,
   "metadata": {},
   "outputs": [],
   "source": [
    "# # if 조건문:\n",
    "#     수행할 문장2\n",
    "#     수행할 문장2\n",
    "# ...\n",
    "# else:\n",
    "#     수행할 문장A\n",
    "#     수행할 문장B\n",
    "# ..."
   ]
  },
  {
   "cell_type": "markdown",
   "metadata": {},
   "source": [
    "> x in s, x not in s"
   ]
  },
  {
   "cell_type": "code",
   "execution_count": 2,
   "metadata": {},
   "outputs": [
    {
     "data": {
      "text/plain": [
       "True"
      ]
     },
     "execution_count": 2,
     "metadata": {},
     "output_type": "execute_result"
    }
   ],
   "source": [
    "#   in         |   not in\n",
    "# x in 리스트  | x not in 리스트\n",
    "# x in 튜플    | x not in 튜플\n",
    "# x in 문자열  | x not in 문자열\n",
    "\n",
    "1 in [1, 2, 3]\n",
    "# [1,2,3]이라는 리스트 안에 1이 있는가?\n",
    "\n",
    "'j' not in 'python'\n",
    "# 'python' 문자열 안에 j가 있지 않는가?\n",
    "# True"
   ]
  },
  {
   "cell_type": "markdown",
   "metadata": {},
   "source": [
    "> elif"
   ]
  },
  {
   "cell_type": "code",
   "execution_count": null,
   "metadata": {},
   "outputs": [],
   "source": [
    "pocket = [\"paper\", 'cellhpone']\n",
    "card = True\n",
    "if \"money\" in pocket:\n",
    "    print(\"택시 타라\")\n",
    "elif card:\n",
    "    print(\"택시 타라\")\n",
    "else:\n",
    "    print(\"걸어가라\")\n"
   ]
  }
 ],
 "metadata": {
  "interpreter": {
   "hash": "25b440c64d017c56873f4b852ba83dcd4fd849540e3f9eded46bf1a7c9bff031"
  },
  "kernelspec": {
   "display_name": "Python 3.8.10 64-bit ('base': conda)",
   "language": "python",
   "name": "python3"
  },
  "language_info": {
   "codemirror_mode": {
    "name": "ipython",
    "version": 3
   },
   "file_extension": ".py",
   "mimetype": "text/x-python",
   "name": "python",
   "nbconvert_exporter": "python",
   "pygments_lexer": "ipython3",
   "version": "3.8.10"
  },
  "orig_nbformat": 4
 },
 "nbformat": 4,
 "nbformat_minor": 2
}
