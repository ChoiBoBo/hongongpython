{
 "cells": [
  {
   "cell_type": "markdown",
   "metadata": {},
   "source": [
    "### for 문"
   ]
  },
  {
   "cell_type": "markdown",
   "metadata": {},
   "source": [
    "> for문의 기본 구조"
   ]
  },
  {
   "cell_type": "code",
   "execution_count": null,
   "metadata": {},
   "outputs": [],
   "source": [
    "# for 변수 in 리스트(또는 튜플, 문자열):\n",
    "#     수행할 문장1\n",
    "#     수행할 문장2\n",
    "#     ..."
   ]
  },
  {
   "cell_type": "markdown",
   "metadata": {},
   "source": [
    "> 예제를 통해 for문 이해하기"
   ]
  },
  {
   "cell_type": "code",
   "execution_count": null,
   "metadata": {},
   "outputs": [],
   "source": [
    "# 1. 전형적인 for문\n",
    "\n",
    "# test_list = ['one', 'two', 'three']\n",
    "# for i in test_list:\n",
    "#     print(i)\n",
    "\n",
    "for i in \"abcd\":\n",
    "    print(i)"
   ]
  },
  {
   "cell_type": "code",
   "execution_count": null,
   "metadata": {},
   "outputs": [],
   "source": [
    "# 다양한 for문의 사용\n",
    "\n",
    "a = [(1,2), (3,4), (5,6)]\n",
    "for (first, seconde) in a:\n",
    "    print(first + seconde)"
   ]
  },
  {
   "cell_type": "markdown",
   "metadata": {},
   "source": [
    "> for문의 응용"
   ]
  },
  {
   "cell_type": "code",
   "execution_count": null,
   "metadata": {},
   "outputs": [],
   "source": [
    "# \"총 5명의 학생이 시험을 보았는데 시험 점수가 60점이 넘으면 합격이고 그렇지 않으면 불합격이다.\n",
    "#  합격인지 불합격인지 결과를 보여 주시오.\"\n",
    "\n",
    "marks = [90, 25, 67, 45, 80]\n",
    "no = 0\n",
    "\n",
    "for score in marks:\n",
    "    no += 1\n",
    "    if score >= 60:\n",
    "        print(f\"{no}번 학생은 합격입니다.\")\n",
    "    else:\n",
    "        print(f\"{no}학생은 불합격입니다.\")"
   ]
  },
  {
   "cell_type": "markdown",
   "metadata": {},
   "source": [
    "> for문과 continue"
   ]
  },
  {
   "cell_type": "code",
   "execution_count": null,
   "metadata": {},
   "outputs": [],
   "source": [
    "# 합격한 사람에게만 보내는 축하 메시지\n",
    "marks = [90, 25, 67, 45, 80]\n",
    "no = 0\n",
    "\n",
    "for score in marks:\n",
    "    no += 1\n",
    "    if score >= 60:\n",
    "        print(f\"{no}번 학생은 합격을 축하합니다..\")\n",
    "        continue"
   ]
  },
  {
   "cell_type": "markdown",
   "metadata": {},
   "source": [
    "> for문과 자주 사용하는 range 함수"
   ]
  },
  {
   "cell_type": "code",
   "execution_count": 23,
   "metadata": {},
   "outputs": [
    {
     "name": "stdout",
     "output_type": "stream",
     "text": [
      "55\n"
     ]
    }
   ],
   "source": [
    "#1부터 10까지 더하기\n",
    "\n",
    "add = 0\n",
    "for i in range(1, 10 + 1):\n",
    "    add += i\n",
    "print(add)\n"
   ]
  },
  {
   "cell_type": "code",
   "execution_count": null,
   "metadata": {},
   "outputs": [],
   "source": [
    "# 합격한 사람에게만 보내는 축하 메시지\n",
    "marks = [90, 25, 67, 45, 80]\n",
    "\n",
    "for i in range(len(marks)):\n",
    "    if marks[i] >= 60:\n",
    "        print(f\"{i + 1}번째 학생의 합격을 축하합니다.\")\n",
    "        continue\n",
    "\n",
    "\n"
   ]
  },
  {
   "cell_type": "code",
   "execution_count": null,
   "metadata": {},
   "outputs": [],
   "source": [
    "# 😢 for와 range를 이용한 구구단\n",
    "\n",
    "# gugudan = int(input(\"구구단 숫자를 입력하세요!\"))\n",
    "# no = 1\n",
    "# # len(1, 9 + 1)\n",
    "\n",
    "# 3입력\n",
    "# 3 * 1\n",
    "# 3 * 1\n",
    "# 3 * 1\n",
    "\n",
    "# 3은 9번\n",
    "\n",
    "\n",
    "for i in range(2, 9 + 1):\n",
    "    for j in range(1, 9 + 1):\n",
    "        print(i * j, end = \" \")\n",
    "    print()\n",
    "    \n",
    "    \n",
    "\n",
    "\n",
    "# 구구단 형태\n",
    "# 2 * 1 = 2\n",
    "# 2 * 2 = 2"
   ]
  },
  {
   "cell_type": "markdown",
   "metadata": {},
   "source": [
    "> 리스트 내포 사용하기"
   ]
  },
  {
   "cell_type": "code",
   "execution_count": 32,
   "metadata": {},
   "outputs": [
    {
     "name": "stdout",
     "output_type": "stream",
     "text": [
      "[3, 6, 9, 12]\n"
     ]
    }
   ],
   "source": [
    "a = [1,2,3,4]\n",
    "result = []\n",
    "for num in a:\n",
    "    result.append(num * 3)\n",
    "\n",
    "print(result)"
   ]
  },
  {
   "cell_type": "code",
   "execution_count": null,
   "metadata": {},
   "outputs": [],
   "source": [
    "a = [1,2,3,4]\n",
    "result = [num * 3 for num in a]\n",
    "print(result)"
   ]
  },
  {
   "cell_type": "code",
   "execution_count": null,
   "metadata": {},
   "outputs": [],
   "source": [
    "a = [1,2,3,4]\n",
    "result = [num * 3 for num in a if num % 2 == 0]\n",
    "print(result)"
   ]
  }
 ],
 "metadata": {
  "interpreter": {
   "hash": "25b440c64d017c56873f4b852ba83dcd4fd849540e3f9eded46bf1a7c9bff031"
  },
  "kernelspec": {
   "display_name": "Python 3.8.10 64-bit ('base': conda)",
   "language": "python",
   "name": "python3"
  },
  "language_info": {
   "codemirror_mode": {
    "name": "ipython",
    "version": 3
   },
   "file_extension": ".py",
   "mimetype": "text/x-python",
   "name": "python",
   "nbconvert_exporter": "python",
   "pygments_lexer": "ipython3",
   "version": "3.8.10"
  },
  "orig_nbformat": 4
 },
 "nbformat": 4,
 "nbformat_minor": 2
}
