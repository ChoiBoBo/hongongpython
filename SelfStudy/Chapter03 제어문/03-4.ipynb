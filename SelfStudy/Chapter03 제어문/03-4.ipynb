{
 "cells": [
  {
   "cell_type": "markdown",
   "metadata": {},
   "source": [
    "### 연습문제"
   ]
  },
  {
   "cell_type": "code",
   "execution_count": 7,
   "metadata": {},
   "outputs": [],
   "source": [
    "# 다음의 코드의 결괏값은??\n",
    "\n",
    "a = \"Life is too short, you need python\"\n",
    "\n",
    "# if \"wife\" in a: print(\"wife\") // False\n",
    "# elif \"python\" in a and \"you\" not in a: print(\"python\") // False\n",
    "# elif \"shirt\" not in a: print(\"shirt\") // True\n",
    "# elif \"need\" in a: print(\"need\") //True\n",
    "# else: print(\"none\") //False"
   ]
  },
  {
   "cell_type": "code",
   "execution_count": null,
   "metadata": {},
   "outputs": [],
   "source": [
    "# 😢while문을 사용하여 다음과 같이 별(*)을 표시하는 프로그램을 작성해 보자.\n",
    "\n",
    "# *\n",
    "# **\n",
    "# ***\n",
    "# ****\n",
    "# *****\n",
    "\n",
    "# star = \"*\"\n",
    "# while range(1, 5 + 1):\n",
    "#     star += \"*\"\n",
    "#     print(star)\n",
    "\n",
    "    "
   ]
  },
  {
   "cell_type": "markdown",
   "metadata": {},
   "source": []
  },
  {
   "cell_type": "code",
   "execution_count": 1,
   "metadata": {},
   "outputs": [
    {
     "name": "stdout",
     "output_type": "stream",
     "text": [
      "*\n",
      "**\n",
      "***\n",
      "****\n",
      "*****\n"
     ]
    }
   ],
   "source": [
    "# 👍 정답코드\n",
    "\n",
    "i = 0\n",
    "while True:\n",
    "    i += 1\n",
    "    if i > 5:\n",
    "        break   \n",
    "    print(\"*\" * i)\n"
   ]
  },
  {
   "cell_type": "code",
   "execution_count": 4,
   "metadata": {},
   "outputs": [
    {
     "name": "stdout",
     "output_type": "stream",
     "text": [
      "166833\n"
     ]
    }
   ],
   "source": [
    "# while문을 사용해 1부터 1000까지의 자연수 중 3의 배수의 합을 구해 보자.\n",
    "\n",
    "# 👍정답 코드\n",
    "# 3의 배수는 3으로 나누어 떨어지는 수.\n",
    "\n",
    "result = 0\n",
    "i = 0\n",
    "while i <= 1000:\n",
    "    if i % 3 == 0:\n",
    "        result += i\n",
    "    i += 1\n",
    "\n",
    "print(result)\n"
   ]
  },
  {
   "cell_type": "code",
   "execution_count": null,
   "metadata": {},
   "outputs": [],
   "source": [
    "# for문을 사용해 1부터 100까지의 숫자를 출력해 보자.\n",
    "\n",
    "for i in range(1, 100 + 1):\n",
    "    print(i)"
   ]
  },
  {
   "cell_type": "code",
   "execution_count": 18,
   "metadata": {},
   "outputs": [],
   "source": [
    "# 😢A 학급에 총 10명의 학생이 있다. 이 학생들의 중간고사 점수는 다음과 같다.\n",
    "\n",
    "# [70, 60, 55, 75, 95, 90, 80, 80, 85, 100]\n",
    "\n",
    "# for문을 사용하여 A 학급의 평균 점수를 구해 보자.\n",
    "\n",
    "students = [70, 60, 55, 75, 95, 90, 80, 80, 85, 100]\n",
    "sum = 0 # 70\n",
    "\n",
    "for i in students:\n",
    "    sum = sum + i\n",
    "    \n",
    "    \n",
    "    \n",
    "\n"
   ]
  },
  {
   "cell_type": "code",
   "execution_count": 10,
   "metadata": {},
   "outputs": [
    {
     "name": "stdout",
     "output_type": "stream",
     "text": [
      "79.0\n"
     ]
    }
   ],
   "source": [
    "# 👍정답 코드 //for문을 사용하여 A 학급의 평균 점수를 구해 보자.\n",
    "\n",
    "A = [70, 60, 55, 75, 95, 90, 80, 80, 85, 100]\n",
    "total = 0\n",
    "\n",
    "for score in A:\n",
    "    total += score\n",
    "    \n",
    "ave = total / len(A)\n",
    "print(ave)\n"
   ]
  },
  {
   "cell_type": "code",
   "execution_count": 20,
   "metadata": {},
   "outputs": [
    {
     "name": "stdout",
     "output_type": "stream",
     "text": [
      "[2, 6, 10]\n"
     ]
    }
   ],
   "source": [
    "# 리스트 중에서 홀수에만 2를 곱하여 저장하는 다음 코드가 있다.\n",
    "\n",
    "# numbers = [1, 2, 3, 4, 5]\n",
    "# result = []\n",
    "# for n in numbers:\n",
    "#     if n % 2 == 1:\n",
    "#         result.append(n*2)\n",
    "\n",
    "# 위 코드를 리스트 내포(list comprehension)를 사용하여 표현해 보자.\n",
    "\n",
    "\n",
    "numbers = [1, 2, 3, 4, 5]\n",
    "result = [n * 2 for n in numbers if n % 2 == 1]\n",
    "print(result)\n"
   ]
  }
 ],
 "metadata": {
  "interpreter": {
   "hash": "25b440c64d017c56873f4b852ba83dcd4fd849540e3f9eded46bf1a7c9bff031"
  },
  "kernelspec": {
   "display_name": "Python 3.8.10 64-bit ('base': conda)",
   "language": "python",
   "name": "python3"
  },
  "language_info": {
   "codemirror_mode": {
    "name": "ipython",
    "version": 3
   },
   "file_extension": ".py",
   "mimetype": "text/x-python",
   "name": "python",
   "nbconvert_exporter": "python",
   "pygments_lexer": "ipython3",
   "version": "3.8.10"
  },
  "orig_nbformat": 4
 },
 "nbformat": 4,
 "nbformat_minor": 2
}
