{
 "cells": [
  {
   "cell_type": "markdown",
   "metadata": {},
   "source": [
    "### 04-4 연습문제\n",
    "---"
   ]
  },
  {
   "cell_type": "code",
   "execution_count": 3,
   "metadata": {},
   "outputs": [
    {
     "name": "stdout",
     "output_type": "stream",
     "text": [
      "짝수\n"
     ]
    }
   ],
   "source": [
    "# 주어진 자연수가 홀수인지 짝수인지 판별해 주는 함수(is_odd)를 작성해 보자.\n",
    "\n",
    "# input_data = int(input(\"정수를 입력: \"))\n",
    "\n",
    "def is_odd(input_data):\n",
    "    if input_data % 2 == 0:\n",
    "        print(\"짝수\")\n",
    "    else:\n",
    "        print(\"홀수\")\n",
    "\n",
    "is_odd(4)"
   ]
  },
  {
   "cell_type": "code",
   "execution_count": 2,
   "metadata": {},
   "outputs": [
    {
     "data": {
      "text/plain": [
       "True"
      ]
     },
     "execution_count": 2,
     "metadata": {},
     "output_type": "execute_result"
    }
   ],
   "source": [
    "# 😢 람다와 조건부 표현식\n",
    "\n",
    "is_odd = lambda x : True if x % 2 == 1 else False\n",
    "is_odd(3)"
   ]
  },
  {
   "cell_type": "code",
   "execution_count": 44,
   "metadata": {},
   "outputs": [
    {
     "name": "stdout",
     "output_type": "stream",
     "text": [
      "3.3333333333333335\n"
     ]
    }
   ],
   "source": [
    "# 😢다시 한번 도전\n",
    "# 입력으로 들어오는 모든 수의 평균 값을 계산해 주는 함수를 작성해 보자. (단 입력으로 들어오는 수의 개수는 정해져 있지 않다.)\n",
    "\n",
    "# input_data = int(input(\"숫자를 입력하세요: \"))\n",
    "\n",
    "\n",
    "def sum(*number):\n",
    "    result = 0 # 7\n",
    "    for i in range(len(number)):\n",
    "        result = result + number[i]\n",
    "    \n",
    "    ave = result / len(number)\n",
    "    print(ave)\n",
    "    \n",
    "sum(3, 4, 3)\n",
    "# ※ 평균 값을 구할 때 len 함수를 사용해 보자."
   ]
  },
  {
   "cell_type": "code",
   "execution_count": 11,
   "metadata": {},
   "outputs": [
    {
     "name": "stdout",
     "output_type": "stream",
     "text": [
      "2.0\n"
     ]
    }
   ],
   "source": [
    "# 👍 입력으로 들어오는 모든 수의 평균 값을 계산해 주는 함수를 작성해 보자.\n",
    "\n",
    "def sum(*args):\n",
    "    result = 0\n",
    "    for i in range(len(args)):\n",
    "        result = result + args[i]\n",
    "    ave = result / len(args)\n",
    "    print(ave)\n",
    "\n",
    "sum(1,2,3)"
   ]
  },
  {
   "cell_type": "code",
   "execution_count": 12,
   "metadata": {},
   "outputs": [
    {
     "data": {
      "text/plain": [
       "1.5"
      ]
     },
     "execution_count": 12,
     "metadata": {},
     "output_type": "execute_result"
    }
   ],
   "source": [
    "# 👍 정답 코드\n",
    "\n",
    "def avg_numbers(*args):\n",
    "\n",
    "    result = 0\n",
    "    for i in args:\n",
    "        result += i\n",
    "    return result / len(args)\n",
    "\n",
    "avg_numbers(1, 2)"
   ]
  },
  {
   "cell_type": "code",
   "execution_count": 49,
   "metadata": {},
   "outputs": [
    {
     "name": "stdout",
     "output_type": "stream",
     "text": [
      "두 수의 합은 9 입니다\n"
     ]
    }
   ],
   "source": [
    "# input1 = input(\"첫번째 숫자를 입력하세요:\")\n",
    "# input2 = input(\"두번째 숫자를 입력하세요:\")\n",
    "\n",
    "# total = input1 + input2\n",
    "# print(\"두 수의 합은 %s 입니다\" % total)\n",
    "\n",
    "# 3과 6을 입력했을 때 9가 아닌 36이라는 결괏값을 돌려주었다. 이 프로그램의 오류를 수정해 보자.\n",
    "\n",
    "# ※ int 함수를 사용해 보자.\n",
    "\n",
    "input1 = int(input(\"첫번째 숫자를 입력하세요:\"))\n",
    "input2 = int(input(\"첫번째 숫자를 입력하세요:\"))\n",
    "\n",
    "\n",
    "total = input1 + input2\n",
    "print(\"두 수의 합은 %s 입니다\" % total)"
   ]
  },
  {
   "cell_type": "code",
   "execution_count": null,
   "metadata": {},
   "outputs": [],
   "source": [
    "# 다음 중 출력 결과가 다른 것 한 개를 골라 보자.\n",
    "\n",
    "# print(\"you\" \"need\" \"python\")\n",
    "# print(\"you\"+\"need\"+\"python\")\n",
    "# print(\"you\", \"need\", \"python\")\n",
    "# print(\"\".join([\"you\", \"need\", \"python\"]))\n",
    "\n",
    "# 3번"
   ]
  },
  {
   "cell_type": "code",
   "execution_count": null,
   "metadata": {},
   "outputs": [],
   "source": [
    "#😢다음은 \"test.txt\"라는 파일에 \"Life is too short\" 문자열을 저장한 후 다시 그 파일을 읽어서 출력하는 프로그램이다.\n",
    "\n",
    "\n",
    "# f1 = open(\"test.txt\", 'w')\n",
    "# f1.write(\"Life is too short\")\n",
    "\n",
    "# f2 = open(\"test.txt\", 'r')\n",
    "# print(f2.read())\n",
    "\n",
    "# 이 프로그램은 우리가 예상한 \"Life is too short\"라는 문장을 출력하지 않는다. \n",
    "# 우리가 예상한 값을 출력할 수 있도록 프로그램을 수정해 보자.\n",
    "\n",
    "# =====================================================\n",
    "# 👍 해설\n",
    "# 파일을 닫지 않은  상태에서 다시 열면 파일에 저장한 데이터를 읽을 수 없음.\n",
    "# 따라서 열린 파일 객체를 close로 닫은 준 후 다시 열어서 파일의 내용을 읽어야 함.\n",
    "f1 = open(\"test.txt\", 'w')\n",
    "f1.write(\"Life is too short\")\n",
    "f1.close()\n",
    "\n",
    "f2 = open(\"test.txt\", 'r')\n",
    "print(f2.read())\n",
    "f2.close()\n"
   ]
  },
  {
   "cell_type": "code",
   "execution_count": 14,
   "metadata": {},
   "outputs": [],
   "source": [
    "# 사용자의 입력을 파일(test.txt)에 저장하는 프로그램을 작성해 보자. \n",
    "# (단 프로그램을 다시 실행하더라도 기존에 작성한 내용을 유지하고 새로 입력한 내용을 추가해야 한다.)\n",
    "\n",
    "# ==============================================\n",
    "#👍해설 \n",
    "# 기존 내용을 유지하고 새로운 내용을 덧붙이기 위해서\n",
    "# 다음과 같이 'a'모드를 사용해야함.\n",
    "\n",
    "user_input = input(\"저장할 내용을 입력하세요:\")\n",
    "f = open('test.txt', 'a')\n",
    "f.write(user_input)\n",
    "f.write('\\n')\n",
    "# 문자삽입\n",
    "f.close()\n"
   ]
  },
  {
   "cell_type": "code",
   "execution_count": 16,
   "metadata": {},
   "outputs": [],
   "source": [
    "#😢다음과 같은 내용을 지닌 파일 test.txt가 있다. \n",
    "# 이 파일의 내용 중 \"java\"라는 문자열을 \"python\"으로 바꾸어서 저장해 보자.\n",
    "\n",
    "# Life is too short\n",
    "# you need java\n",
    "\n",
    "# ※ replace 함수를 사용해 보자.\n",
    "\n",
    "input_pro = open(\"test.txt\", 'w')\n",
    "a = input_pro.write(\"Life is too short\")\n",
    "b = str(input_pro.write(\"you need java\"))\n",
    "b.replace(\"java\", \"python\")\n",
    "\n",
    "# ==============================================\n",
    "#👍해설 \n",
    "# 파일을 모두 읽은 후에 문자열의 replace 함수를 사용하여\n",
    "# java라는 문자열을 python으로 변경한 다음 저장\n",
    "\n",
    "f = open('test.txt', 'r')\n",
    "body = f.read()\n",
    "f.close()\n",
    "\n",
    "body = body.replace('java', 'python')\n",
    "\n",
    "f = open('test.txt', 'w')\n",
    "f.write(body)\n",
    "f.close()\n",
    "\n"
   ]
  }
 ],
 "metadata": {
  "interpreter": {
   "hash": "25b440c64d017c56873f4b852ba83dcd4fd849540e3f9eded46bf1a7c9bff031"
  },
  "kernelspec": {
   "display_name": "Python 3.8.10 64-bit ('base': conda)",
   "language": "python",
   "name": "python3"
  },
  "language_info": {
   "codemirror_mode": {
    "name": "ipython",
    "version": 3
   },
   "file_extension": ".py",
   "mimetype": "text/x-python",
   "name": "python",
   "nbconvert_exporter": "python",
   "pygments_lexer": "ipython3",
   "version": "3.8.10"
  },
  "orig_nbformat": 4
 },
 "nbformat": 4,
 "nbformat_minor": 2
}
