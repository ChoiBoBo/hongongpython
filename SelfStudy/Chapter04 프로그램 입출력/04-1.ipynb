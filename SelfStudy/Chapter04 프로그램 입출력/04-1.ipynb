{
 "cells": [
  {
   "cell_type": "markdown",
   "metadata": {},
   "source": [
    "### 04-1 함수\n",
    "---"
   ]
  },
  {
   "cell_type": "markdown",
   "metadata": {},
   "source": [
    "> 함수란 무엇이며 왜 사용하는 것일까?\n",
    "---\n",
    "***반복되는 부분***을 편리하게 처리"
   ]
  },
  {
   "cell_type": "markdown",
   "metadata": {},
   "source": [
    "> 파이썬 함수의 구조"
   ]
  },
  {
   "cell_type": "code",
   "execution_count": 1,
   "metadata": {},
   "outputs": [
    {
     "data": {
      "text/plain": [
       "3"
      ]
     },
     "execution_count": 1,
     "metadata": {},
     "output_type": "execute_result"
    }
   ],
   "source": [
    "# def 함수명(매개변수):\n",
    "#     <수행할 문장1>\n",
    "#     <수행할 문장2>\n",
    "\n",
    "def add(a, b):\n",
    "    return a + b\n",
    "\n",
    "add(1, 2)"
   ]
  },
  {
   "cell_type": "markdown",
   "metadata": {},
   "source": [
    "> 입력값과 결괏값에 따른 함수의 형태\n",
    "---\n",
    "함수는 들어온 입력값을 받아 어떤 처리를 하여 적절한 결괏값을 돌려줌\n",
    "***입력값 ---> 함수 ---> 결괏값***"
   ]
  },
  {
   "cell_type": "markdown",
   "metadata": {},
   "source": [
    "> 일반적인 함수"
   ]
  },
  {
   "cell_type": "code",
   "execution_count": null,
   "metadata": {},
   "outputs": [],
   "source": [
    "# 입력값이 있고 결괏값이 있는 함수\n",
    "\n",
    "# def 함수이름(매개변수):\n",
    "#     <수행할 문장>\n",
    "#     ...\n",
    "#     return 결괏값\n",
    "\n",
    "def add(a, b):\n",
    "    result = a + b\n",
    "    return result\n",
    "\n",
    "a = add(1, 2)\n",
    "print(a)"
   ]
  },
  {
   "cell_type": "markdown",
   "metadata": {},
   "source": [
    "> 입력값이 없는 함수"
   ]
  },
  {
   "cell_type": "code",
   "execution_count": 2,
   "metadata": {},
   "outputs": [
    {
     "name": "stdout",
     "output_type": "stream",
     "text": [
      "hi\n"
     ]
    }
   ],
   "source": [
    "# 결괏값을 받을 변수 = 함수이름()\n",
    "def say():\n",
    "    return \"hi\"\n",
    "\n",
    "a = say()\n",
    "print(a)"
   ]
  },
  {
   "cell_type": "markdown",
   "metadata": {},
   "source": [
    "> 결괏값이 없는 함수"
   ]
  },
  {
   "cell_type": "code",
   "execution_count": 5,
   "metadata": {},
   "outputs": [
    {
     "name": "stdout",
     "output_type": "stream",
     "text": [
      "3, 4의 합은 7입니다.\n",
      "None\n"
     ]
    }
   ],
   "source": [
    "# 결괏값은 오직 return 명령어로만 돌려 받을 수 있음\n",
    "def add(a, b):\n",
    "    print(\"%d, %d의 합은 %d입니다.\" % (a, b, a + b))\n",
    "\n",
    "a = add(3, 4)\n",
    "\n",
    "# Non이란 거짓을 나타내는 자료형\n",
    "print(a)"
   ]
  },
  {
   "cell_type": "markdown",
   "metadata": {},
   "source": [
    "> 입력값도 결괏값도 없는 함수"
   ]
  },
  {
   "cell_type": "code",
   "execution_count": 6,
   "metadata": {},
   "outputs": [
    {
     "name": "stdout",
     "output_type": "stream",
     "text": [
      "hi\n"
     ]
    }
   ],
   "source": [
    "def say():\n",
    "    print(\"hi\")\n",
    "\n",
    "say()"
   ]
  },
  {
   "cell_type": "markdown",
   "metadata": {},
   "source": [
    "> 매개변수 지정하여 호출하기"
   ]
  },
  {
   "cell_type": "code",
   "execution_count": null,
   "metadata": {},
   "outputs": [],
   "source": [
    "def add(a, b):\n",
    "    return a + b\n",
    "\n",
    "result = add(a = 3, b = 7)\n",
    "print(result)\n",
    "\n",
    "# 순서 상관 없음\n",
    "result = add(b = 7, a = 3)\n",
    "print(result)\n"
   ]
  },
  {
   "cell_type": "markdown",
   "metadata": {},
   "source": [
    "> 입력값이 몇 개가 될지 모를 때는 어떠게 해야 할까?"
   ]
  },
  {
   "cell_type": "code",
   "execution_count": null,
   "metadata": {},
   "outputs": [],
   "source": [
    "# def 함수이름(*매개변수):\n",
    "#     <수행할 문장>\n",
    "#     ..."
   ]
  },
  {
   "cell_type": "code",
   "execution_count": 13,
   "metadata": {},
   "outputs": [
    {
     "name": "stdout",
     "output_type": "stream",
     "text": [
      "6\n",
      "55\n"
     ]
    }
   ],
   "source": [
    "def add_many(*args):\n",
    "    result = 0\n",
    "    for i in args:\n",
    "        result += i\n",
    "    return result\n",
    "\n",
    "result = add_many(1,2,3)\n",
    "print(result)\n",
    "\n",
    "result = add_many(1,2,3,4,5,6,7,8,9,10)\n",
    "print(result)"
   ]
  },
  {
   "cell_type": "code",
   "execution_count": 15,
   "metadata": {},
   "outputs": [
    {
     "name": "stdout",
     "output_type": "stream",
     "text": [
      "15\n",
      "120\n"
     ]
    }
   ],
   "source": [
    "def add_mul(choice, *args):\n",
    "    if choice == \"add\":\n",
    "        result = 0\n",
    "        for i in args:\n",
    "            result += i\n",
    "    elif choice == \"mul\":\n",
    "        result = 1\n",
    "        for i in args:\n",
    "            result *= i\n",
    "    return result\n",
    "\n",
    "result = add_mul(\"add\", 1,2,3,4,5)\n",
    "print(result)\n",
    "result = add_mul(\"mul\", 1,2,3,4,5)\n",
    "print(result)"
   ]
  },
  {
   "cell_type": "markdown",
   "metadata": {},
   "source": [
    "> 키워드 파라미터 kwargs\n",
    "---\n",
    "키워드 파라미터를 사용할 때는 매개변수 앞에 별 두개(**)르 붙인다."
   ]
  },
  {
   "cell_type": "code",
   "execution_count": 17,
   "metadata": {},
   "outputs": [
    {
     "name": "stdout",
     "output_type": "stream",
     "text": [
      "{'a': 1}\n",
      "{'name': 'foo', 'age': 3}\n"
     ]
    }
   ],
   "source": [
    "def print_kwargs(**kwargs):\n",
    "    print(kwargs)\n",
    "\n",
    "# print_kwargs 함수는 매개변수 kwargs를 출력하는 함수이다. \n",
    "# 이제 이 함수를 다음과 같이 사용해보자\n",
    "\n",
    "print_kwargs(a = 1)\n",
    "print_kwargs(name = \"foo\", age = 3)\n",
    "\n",
    "# 입력값 a = 1 또는 name = \"foo\", age = 3 이 모두 딕셔너리로 만들어져서 출력\n",
    "# 즉 매개변수 이름 앞에 **을 붙이면 매개변수 kwargs는 딕셔너리가 되고\n",
    "# 모든 key = value 형태의 결과값을이 그 딕셔너리에 저장"
   ]
  },
  {
   "cell_type": "markdown",
   "metadata": {},
   "source": [
    "> 함수의 결괏값은 언제나 하나이다."
   ]
  },
  {
   "cell_type": "code",
   "execution_count": 6,
   "metadata": {},
   "outputs": [
    {
     "name": "stdout",
     "output_type": "stream",
     "text": [
      "(7, 12)\n",
      "7\n",
      "12\n"
     ]
    }
   ],
   "source": [
    "def add_and_mul(a, b):\n",
    "    return a+ b, a * b\n",
    "\n",
    "# 이 함수를 다음과 같이 호출하면 어떻게 될까?\n",
    "result = add_and_mul(3,4)\n",
    "print(result)\n",
    "\n",
    "# 결괏값으로 (7, 12)라는 튜플 값을 제공\n",
    "# 만약 이 하나의 튜플 값을 2개의 결괏값처럼 받고 싶다면 다음과 같이 함수를 호출\n",
    "\n",
    "result1, result2 = add_and_mul(3, 4)\n",
    "print(result1)\n",
    "print(result2)"
   ]
  },
  {
   "cell_type": "code",
   "execution_count": null,
   "metadata": {},
   "outputs": [],
   "source": [
    "# 다음과 같은 의문 발생\n",
    "def add_and_mul(a, b):\n",
    "    return a + b\n",
    "    return a * b\n",
    "\n",
    "# 위와 같이 return을 2번 사용하면 2개의 결괏값을 돌려주지  않을까?\n",
    "\n",
    "result = add_and_mul(2, 3)\n",
    "print(result)\n",
    "# 5 \n",
    "# 두 번째 return a * b는 실행되지 않는다.\n",
    "# 즉 함수는 return문을 만나는 순간 결괏값을 돌려준 다음 함수를 빠져나감."
   ]
  },
  {
   "cell_type": "markdown",
   "metadata": {},
   "source": [
    "> return의 또 다른 쓰임새\n",
    "---\n",
    "특별한 상황일 때 함수를 빠져나가고 싶다면    \n",
    "return을 단독으로 써서 함수를 즉시 빠져나갈 수 있다."
   ]
  },
  {
   "cell_type": "code",
   "execution_count": 12,
   "metadata": {},
   "outputs": [
    {
     "name": "stdout",
     "output_type": "stream",
     "text": [
      "나의 별명은 야호 입니다.\n"
     ]
    }
   ],
   "source": [
    "def say_nick(nick):\n",
    "    if nick == \"바보\":\n",
    "        return\n",
    "    print(\"나의 별명은 %s 입니다.\" % nick)\n",
    "\n",
    "# 위 함수는 '별명'을 입력으로 전달받아 출력하는 함수.\n",
    "# 이 함수 역시 반환값(결괏값)은 없다.\n",
    "# (문자열을 출력한다는 것과 반환 값이 있다는 것은 전혀 다른 말!\n",
    "# 혼동하지 말자. 함수 의 반환 값은 오로지 return문에 의해 생성)\n",
    "\n",
    "# 만약에 입력값으로 '바보'라는 값이 들어오면 문자열을 출력하지 않고\n",
    "# 함수를 즉시 빠져나감\n",
    "\n",
    "say_nick('야호')\n",
    "# 나의 별명은 야호 입니다.\n",
    "say_nick(\"바보\")\n",
    "# \n",
    "\n",
    "# 이처럼 return으로 함수를 빠져나가는 방법은 실제 자주 사용"
   ]
  },
  {
   "cell_type": "markdown",
   "metadata": {},
   "source": [
    "> 매개변수에 초깃값 미리 설정하기\n",
    "---"
   ]
  },
  {
   "cell_type": "code",
   "execution_count": 4,
   "metadata": {},
   "outputs": [
    {
     "name": "stdout",
     "output_type": "stream",
     "text": [
      "나의 이름은 최보균 입니다.\n",
      "나이는 19 살입니다.\n",
      "남자\n",
      "나의 이름은 최보균2 입니다.\n",
      "나이는 17 살입니다.\n",
      "남자\n",
      "나의 이름은 최보균3 입니다.\n",
      "나이는 20 살입니다.\n",
      "여자\n"
     ]
    }
   ],
   "source": [
    "# man = True과 같은 매개변수 초깃값을 설정\n",
    "# 함수의 매개변수에 들어갈 값이 항상 변하는 것이 아닐 경우네는 \n",
    "# 함수의 초깃값을 미리 설정하면 유용\n",
    "\n",
    "def say_myself(name ,old, man = True):\n",
    "    print(\"나의 이름은 %s 입니다.\" % name)\n",
    "    print(\"나이는 %d 살입니다.\" % old)\n",
    "    if man:\n",
    "        print(\"남자\")\n",
    "    else:\n",
    "        print(\"여자\")\n",
    "\n",
    "say_myself(\"최보균\", 19)\n",
    "say_myself(\"최보균2\", 17, True)\n",
    "say_myself(\"최보균3\", 20, False)"
   ]
  },
  {
   "cell_type": "code",
   "execution_count": null,
   "metadata": {},
   "outputs": [],
   "source": [
    "# 초깃값 설정할 때 주의할 점!\n",
    "\n",
    "def say_myself(name, man = True, old):\n",
    "    print(\"나의 이름은 %s 입니다.\" % name) \n",
    "    print(\"나이는 %d살입니다.\" % old)\n",
    "    if man:\n",
    "        print(\"남자\")\n",
    "    else:\n",
    "        print(\"여자\")\n",
    "\n",
    "say_myself(\"최보균\",27)\n",
    "\n",
    "# 초기화시키고 싶은 매개 변수를 항상 뒤쪽에 놓아야 함!\n",
    "    "
   ]
  },
  {
   "cell_type": "markdown",
   "metadata": {},
   "source": [
    "> 함수 안에서 선언한 변수의 효력 범위"
   ]
  },
  {
   "cell_type": "code",
   "execution_count": 6,
   "metadata": {},
   "outputs": [
    {
     "name": "stdout",
     "output_type": "stream",
     "text": [
      "1\n"
     ]
    }
   ],
   "source": [
    "# 함수 안에서 사용하 변수의 이름을 \n",
    "# 함수 밖에서도 동일하게 사용한다면 어떻게 될까??\n",
    "\n",
    "a = 1\n",
    "def vartest(a):\n",
    "    a += 1\n",
    "\n",
    "vartest(a)\n",
    "print(a)"
   ]
  }
 ],
 "metadata": {
  "interpreter": {
   "hash": "25b440c64d017c56873f4b852ba83dcd4fd849540e3f9eded46bf1a7c9bff031"
  },
  "kernelspec": {
   "display_name": "Python 3.8.10 64-bit ('base': conda)",
   "language": "python",
   "name": "python3"
  },
  "language_info": {
   "codemirror_mode": {
    "name": "ipython",
    "version": 3
   },
   "file_extension": ".py",
   "mimetype": "text/x-python",
   "name": "python",
   "nbconvert_exporter": "python",
   "pygments_lexer": "ipython3",
   "version": "3.8.10"
  },
  "orig_nbformat": 4
 },
 "nbformat": 4,
 "nbformat_minor": 2
}
