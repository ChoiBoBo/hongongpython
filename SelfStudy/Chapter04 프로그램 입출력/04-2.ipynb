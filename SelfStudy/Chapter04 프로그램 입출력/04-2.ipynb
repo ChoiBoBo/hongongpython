{
 "cells": [
  {
   "cell_type": "markdown",
   "metadata": {},
   "source": [
    "### 04-2 사용자 입력과 출력\n",
    "---"
   ]
  },
  {
   "cell_type": "markdown",
   "metadata": {},
   "source": [
    "> 사용자 입력"
   ]
  },
  {
   "cell_type": "code",
   "execution_count": null,
   "metadata": {},
   "outputs": [],
   "source": [
    "# input의 사용\n",
    "# input은 입력되는 모든 것을 문자열로 취급\n",
    "a = input()\n",
    "'Life is too short, you need python.'"
   ]
  },
  {
   "cell_type": "markdown",
   "metadata": {},
   "source": [
    "> 프롬프트를 띄워서 사용자 입력 받기"
   ]
  },
  {
   "cell_type": "code",
   "execution_count": null,
   "metadata": {},
   "outputs": [],
   "source": [
    "# input(\"질문 내용\") 처럼 괄호 안에 질문을 띄어준다.\n",
    "\n",
    "number = input(\"숫자를 입력하세여\")\n",
    "\n",
    "print(number)\n",
    "type(number)\n"
   ]
  },
  {
   "cell_type": "markdown",
   "metadata": {},
   "source": [
    "> print 자세히 알아보기"
   ]
  },
  {
   "cell_type": "markdown",
   "metadata": {},
   "source": [
    "> 큰따옴표(\")로 둘러싸인 문자열은 + 연산과 동일"
   ]
  },
  {
   "cell_type": "code",
   "execution_count": 11,
   "metadata": {},
   "outputs": [
    {
     "name": "stdout",
     "output_type": "stream",
     "text": [
      "lifeistoo short\n",
      "lifeistoo shory\n"
     ]
    }
   ],
   "source": [
    "#다음은 동일한 결괏값을 출력\n",
    "print(\"life\" \"is\" \"too short\")\n",
    "print(\"life\" + \"is\" + \"too shory\")"
   ]
  },
  {
   "cell_type": "markdown",
   "metadata": {},
   "source": [
    "> 문자열 띄어쓰기는 콤마로 한다."
   ]
  },
  {
   "cell_type": "code",
   "execution_count": 12,
   "metadata": {},
   "outputs": [
    {
     "name": "stdout",
     "output_type": "stream",
     "text": [
      "life is short\n"
     ]
    }
   ],
   "source": [
    "# 콤마(,)를 사용하면 문자열 사이에 띄어쓰기를 할 수 있다.\n",
    "\n",
    "print(\"life\", \"is\", \"short\")"
   ]
  },
  {
   "cell_type": "markdown",
   "metadata": {},
   "source": [
    "> 한 줄에 결괏값 출력하기"
   ]
  },
  {
   "cell_type": "code",
   "execution_count": 18,
   "metadata": {},
   "outputs": [
    {
     "name": "stdout",
     "output_type": "stream",
     "text": [
      "0 1 2 3 4 5 6 7 8 9 "
     ]
    }
   ],
   "source": [
    "# 한 줄에 결괏값을 이어 출력하려면 \n",
    "# 매개변수 end를 사용해 끝 문자를 지정\n",
    "\n",
    "for i in range(10):\n",
    "    print(i , end = ' ')"
   ]
  }
 ],
 "metadata": {
  "interpreter": {
   "hash": "25b440c64d017c56873f4b852ba83dcd4fd849540e3f9eded46bf1a7c9bff031"
  },
  "kernelspec": {
   "display_name": "Python 3.8.10 64-bit ('base': conda)",
   "language": "python",
   "name": "python3"
  },
  "language_info": {
   "codemirror_mode": {
    "name": "ipython",
    "version": 3
   },
   "file_extension": ".py",
   "mimetype": "text/x-python",
   "name": "python",
   "nbconvert_exporter": "python",
   "pygments_lexer": "ipython3",
   "version": "3.8.10"
  },
  "orig_nbformat": 4
 },
 "nbformat": 4,
 "nbformat_minor": 2
}
