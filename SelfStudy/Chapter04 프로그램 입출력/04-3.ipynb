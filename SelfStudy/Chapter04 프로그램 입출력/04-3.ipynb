{
 "cells": [
  {
   "cell_type": "markdown",
   "metadata": {},
   "source": [
    "### 04-3 파일 읽고 쓰기\n",
    "---"
   ]
  },
  {
   "cell_type": "markdown",
   "metadata": {},
   "source": [
    "> 지금까지는 ***'입력'*** 받을 때는 사용자가 직접 입력하는 방식이며   \n",
    "'출력'할 때는 모니터 화면에 결괏값을 출력하는 방식   \n",
    "하지만 ****파일****을 통한 입출력 방법에 알아볼 예정\n"
   ]
  },
  {
   "cell_type": "markdown",
   "metadata": {},
   "source": [
    "> 파일 생성하기\n",
    "---\n",
    "파일 객체 = open(파일 이름, 파일 열기 모드)"
   ]
  },
  {
   "cell_type": "code",
   "execution_count": 2,
   "metadata": {},
   "outputs": [],
   "source": [
    "# 파일을 생성하기 위해 우리는 파이썬 내장 함수 open을 사용\n",
    "\n",
    "# 파일열기 모드 | 설명\n",
    "#        r      | 읽기모드 - 파일을 읽기만 할 때 사용\n",
    "#        w      | 쓰기모드 - 파일에 내용을 쓸 때 사용\n",
    "#        a      | 추가모드 - 파일의 마지막에 새로운 내용을 추가 시킬 때 사용\n",
    "\n",
    "\n",
    "f = open(\"새파일.txt\",'w')\n",
    "f.close()"
   ]
  },
  {
   "cell_type": "markdown",
   "metadata": {},
   "source": [
    "> 파일을 쓰기 모드로 열어 출력값 적기"
   ]
  },
  {
   "cell_type": "code",
   "execution_count": 6,
   "metadata": {},
   "outputs": [],
   "source": [
    "# 두 프로그램의 다른점은 data를 출력하는 방법\n",
    "# 두 번째는 우리가 계속 사용한 모니터 화면 출력 방법\n",
    "# 첫 번째는 모니터 화면 대신 파일에 결괏값을 적는 방법.\n",
    "\n",
    "f = open(\"새파일.txt\", 'w')\n",
    "for i in range(1, 11):\n",
    "    data = \"%d번째 줄입니다. \\n\" % i\n",
    "    f.write(data)\n",
    "f.close()\n",
    "\n",
    "# for i in range(1, 11):\n",
    "#     data = \"%d번째 줄입니다.\\n\" % i\n",
    "#     print(data)"
   ]
  },
  {
   "cell_type": "markdown",
   "metadata": {},
   "source": [
    "> 프로그램의 외부에 저장된 파일을 읽는 여러 가지 방법"
   ]
  },
  {
   "cell_type": "code",
   "execution_count": null,
   "metadata": {},
   "outputs": [],
   "source": [
    "# readline 함수 이용\n",
    "\n",
    "# 새파일txt 가장 첫 번째 줄 화면에 출력\n",
    "f = open(\"새파일.txt\", 'r')\n",
    "line = f.readline()\n",
    "print(line)\n",
    "f.close"
   ]
  },
  {
   "cell_type": "code",
   "execution_count": null,
   "metadata": {},
   "outputs": [],
   "source": [
    "f = open(\"새파일.txt\", 'r')\n",
    "while True:\n",
    "    line = f.readline()\n",
    "    if not line : break\n",
    "    print(line, end=\"\")\n",
    "f.close()"
   ]
  },
  {
   "cell_type": "markdown",
   "metadata": {},
   "source": [
    "> readlines 함수 사용하기"
   ]
  },
  {
   "cell_type": "code",
   "execution_count": null,
   "metadata": {},
   "outputs": [],
   "source": [
    "f = open(\"새파일.txt\", 'r')\n",
    "lines = f.readlines()\n",
    "for line in lines:\n",
    "    print(line)\n",
    "f.close()"
   ]
  },
  {
   "cell_type": "code",
   "execution_count": null,
   "metadata": {},
   "outputs": [],
   "source": [
    "# 줄 바꿈(\\n) 문자 제거하기\n",
    "\n",
    "f = open(\"새파일.txt\", 'r')\n",
    "lines = f.readlines()\n",
    "for line in lines:\n",
    "    line = line.strip()\n",
    "    print(line)\n",
    "f.close()\n",
    "\n"
   ]
  },
  {
   "cell_type": "code",
   "execution_count": null,
   "metadata": {},
   "outputs": [],
   "source": [
    "# read 함수 사용하기\n",
    "# read 함수는 파일의 내용 전체를 문자열로 돌려줌.\n",
    "\n",
    "f = open(\"새파일.txt\", 'r')\n",
    "data = f.read()\n",
    "print(data)\n",
    "f.close()"
   ]
  },
  {
   "cell_type": "markdown",
   "metadata": {},
   "source": [
    "> 파일에 새로운 내용 추가하기"
   ]
  },
  {
   "cell_type": "code",
   "execution_count": 17,
   "metadata": {},
   "outputs": [],
   "source": [
    "# 쓰기 모드('w')로 파일을 열면 이미 존재한 파일이 모두 삭제된다!!\n",
    "# 기존 내용을 유지하고 새로운 값만 추가하려면 추가 모드('a')로 오픈!\n",
    "f = open(\"새파일.txt\", 'a')\n",
    "for i in range(11,20):\n",
    "    data = \"%d번째 줄입니다.\\n\" % i\n",
    "    f.write(data)\n",
    "\n",
    "f.close()"
   ]
  },
  {
   "cell_type": "markdown",
   "metadata": {},
   "source": [
    "> with문과 함께 사용하기"
   ]
  },
  {
   "cell_type": "code",
   "execution_count": 18,
   "metadata": {},
   "outputs": [],
   "source": [
    "# 지금까지 살펴본 예제를 보면\n",
    "# 항상 다음과 같은 방식으로 파일을 열고 닫아 왔다.\n",
    "\n",
    "# f = open(\"새파일.txt\", 'a')\n",
    "# f.write(\"~\")\n",
    "# f.close\n",
    "\n",
    "# 파일을 열면 위와 같이 항상 close해 주는 것이 좋다.\n",
    "# 하지만 이렇게 파일을 열고 닫는 것을 자동으로 처리할 수 있다면 편리하지 않을까?\n",
    "# 파이썬의 with문이 바로 이런 역할을 해준다.\n",
    "\n",
    "with open(\"foo.txt\", 'w') as f:\n",
    "    f.write(\"Life is too short, you need python\")"
   ]
  },
  {
   "cell_type": "markdown",
   "metadata": {},
   "source": [
    "> 😢 [sys 모듈로 매개변수 주기]"
   ]
  }
 ],
 "metadata": {
  "interpreter": {
   "hash": "25b440c64d017c56873f4b852ba83dcd4fd849540e3f9eded46bf1a7c9bff031"
  },
  "kernelspec": {
   "display_name": "Python 3.8.10 64-bit ('base': conda)",
   "language": "python",
   "name": "python3"
  },
  "language_info": {
   "codemirror_mode": {
    "name": "ipython",
    "version": 3
   },
   "file_extension": ".py",
   "mimetype": "text/x-python",
   "name": "python",
   "nbconvert_exporter": "python",
   "pygments_lexer": "ipython3",
   "version": "3.8.10"
  },
  "orig_nbformat": 4
 },
 "nbformat": 4,
 "nbformat_minor": 2
}
