{
 "cells": [
  {
   "cell_type": "markdown",
   "metadata": {},
   "source": [
    "### 05-1 함수 만들기\n",
    "---\n",
    "#### 시작하기 전에\n",
    "***함수호출***(함수call), ***함수의 매개변수*** (parameter), ***함수의 인자***(argument)"
   ]
  },
  {
   "cell_type": "markdown",
   "metadata": {},
   "source": [
    "> 함수의 역할 : 함수는 한마디로 어떤 기능을 하는 ***코드의 집합*** 이다."
   ]
  },
  {
   "cell_type": "code",
   "execution_count": 2,
   "metadata": {},
   "outputs": [
    {
     "name": "stdout",
     "output_type": "stream",
     "text": [
      "12.7\n",
      "Hello!\n",
      "Hi~Hi~Hi~Hi~Hi~\n"
     ]
    }
   ],
   "source": [
    "# 1. 함수 선언(정의)\n",
    "# def 함수명(매개변수):\n",
    "#     실행문\n",
    "\n",
    "def hello():\n",
    "    print(\"Hello!\")\n",
    "\n",
    "def hi(num):\n",
    "    print(\"Hi~\" * num)\n",
    "\n",
    "def to_cm(inch_val):\n",
    "    return inch_val * 2.54\n",
    "\n",
    "\n",
    "cm = to_cm(5)\n",
    "print(cm)\n",
    "hello()\n",
    "hi(5)"
   ]
  },
  {
   "cell_type": "code",
   "execution_count": 5,
   "metadata": {},
   "outputs": [
    {
     "data": {
      "text/plain": [
       "6"
      ]
     },
     "execution_count": 5,
     "metadata": {},
     "output_type": "execute_result"
    }
   ],
   "source": [
    "# len 기능 만들기\n",
    "# 👍python 튜터에서 한번 돌려보기!\n",
    "len(\"abc123\")\n",
    "\n",
    "def my_len(args):\n",
    "    \"\"\"\n",
    "    내가 만든 len()\n",
    "    args : 문자열 타입\n",
    "    \"\"\"\n",
    "    count = 0\n",
    "    for i in args:\n",
    "        count += 1\n",
    "    return count\n",
    "\n",
    "# 길이값(정수)를 리턴하는 것 만들 예쩡\n",
    "my_len(\"어떤 문자열\")"
   ]
  },
  {
   "cell_type": "markdown",
   "metadata": {},
   "source": [
    "> 함수에 매개변수 만들기"
   ]
  },
  {
   "cell_type": "code",
   "execution_count": null,
   "metadata": {},
   "outputs": [],
   "source": [
    "def two_add(a, b):\n",
    "    return a + b\n",
    "\n",
    "def greet(msg, cnt):\n",
    "    print((msg + \" \") * cnt)\n",
    "\n",
    "total = two_add(2, 3)\n",
    "print(\"합\", total)\n",
    "\n",
    "greet(\"밥 먹었니?\", 1)\n",
    "greet(\"잘 잤니?\", 3)\n",
    "# greet(\"어서오세요~\") # 오류 argument 불일치"
   ]
  },
  {
   "cell_type": "markdown",
   "metadata": {},
   "source": [
    "> 👍중요) 가변매개변수(인자)와 언패킹 사용하기"
   ]
  },
  {
   "cell_type": "code",
   "execution_count": 12,
   "metadata": {},
   "outputs": [
    {
     "name": "stdout",
     "output_type": "stream",
     "text": [
      "\n",
      "1\n",
      "1 2 3\n",
      "1 2 3 4 5 6 7\n"
     ]
    }
   ],
   "source": [
    "# 함수 오버로딩 > 함수 이름은 같고 다른 인자 사용\n",
    "\n",
    "# 이건 다른 언어에서만 필요함.\n",
    "# int add(int a, int b){}\n",
    "# float add(int a, float b){}\n",
    "# float add(float a, float b){}\n",
    "\n",
    "# python은 함수 오버로딩이 필요가 없어.\n",
    "def add(x, y):\n",
    "    return x + y\n",
    "\n",
    "add(2, 3)\n",
    "add(1, 2.3)\n",
    "add(1.0, 1.1)\n",
    "\n",
    "print()          # 파라미터 0개\n",
    "print(1,)         # 파라미터 1개\n",
    "print(1, 2, 3)      # 파라미터 3개\n",
    "# ?? 위에는 파라미터가 일치하지 않으면 오류가 나는데??\n",
    "print(1,2,3,4,5,6,7,) # 가변적이다."
   ]
  }
 ],
 "metadata": {
  "interpreter": {
   "hash": "054c0b5073ae8ed56926c5c67113945079b283bacf1a269ae7086b3d9eebd60c"
  },
  "kernelspec": {
   "display_name": "Python 3.10.1 64-bit",
   "language": "python",
   "name": "python3"
  },
  "language_info": {
   "codemirror_mode": {
    "name": "ipython",
    "version": 3
   },
   "file_extension": ".py",
   "mimetype": "text/x-python",
   "name": "python",
   "nbconvert_exporter": "python",
   "pygments_lexer": "ipython3",
   "version": "3.8.10"
  },
  "orig_nbformat": 4
 },
 "nbformat": 4,
 "nbformat_minor": 2
}
