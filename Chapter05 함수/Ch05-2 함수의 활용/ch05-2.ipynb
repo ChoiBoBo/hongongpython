{
 "cells": [
  {
   "cell_type": "markdown",
   "metadata": {},
   "source": [
    "### 05-2 함수의 활용\n",
    "---\n",
    "***재귀함수***와 ***변수의 유효범위***"
   ]
  },
  {
   "cell_type": "markdown",
   "metadata": {},
   "source": [
    "> 재귀함수"
   ]
  },
  {
   "cell_type": "code",
   "execution_count": 1,
   "metadata": {},
   "outputs": [],
   "source": [
    "# 함수에서 재귀호출 : 함수 안에서 자기자신을 호출하는 방식(recursive call)\n",
    "def hello():\n",
    "    print(\"Hello~\")\n",
    "    hello() # 함수안에 자기자신인 hello()호출\n",
    "\n",
    "    hello()"
   ]
  },
  {
   "cell_type": "code",
   "execution_count": null,
   "metadata": {},
   "outputs": [],
   "source": [
    "# 재귀호출에 종료 조건 만들기 반드시 !!!\n",
    "def hello(count):\n",
    "    if count == 0:\n",
    "        return\n",
    "    print(count, \"Hello!\")\n",
    "    count -= 1\n",
    "    hello(count)\n"
   ]
  }
 ],
 "metadata": {
  "interpreter": {
   "hash": "054c0b5073ae8ed56926c5c67113945079b283bacf1a269ae7086b3d9eebd60c"
  },
  "kernelspec": {
   "display_name": "Python 3.10.1 64-bit",
   "language": "python",
   "name": "python3"
  },
  "language_info": {
   "codemirror_mode": {
    "name": "ipython",
    "version": 3
   },
   "file_extension": ".py",
   "mimetype": "text/x-python",
   "name": "python",
   "nbconvert_exporter": "python",
   "pygments_lexer": "ipython3",
   "version": "3.8.10"
  },
  "orig_nbformat": 4
 },
 "nbformat": 4,
 "nbformat_minor": 2
}
