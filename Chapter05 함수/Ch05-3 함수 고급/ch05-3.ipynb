{
 "cells": [
  {
   "cell_type": "markdown",
   "metadata": {},
   "source": [
    "### 05-3 함수 고급\n",
    "---\n",
    "***튜플(tuple)*** 과 ***람다(lambda)***"
   ]
  },
  {
   "cell_type": "markdown",
   "metadata": {},
   "source": [
    "> 튜플(tuple)"
   ]
  },
  {
   "cell_type": "code",
   "execution_count": null,
   "metadata": {},
   "outputs": [],
   "source": [
    "# 튜플 : 함수와 함께 많이 사용되는 리스트와 비슷한 자료형,\n",
    "# 한 번 결정된 요소는 바꿀 수 없다!!!\n",
    "\n",
    "tu = (10, 20, 30)\n",
    "tu[0]\n",
    "tu[0] = 1 # 튜플인 변경 불가!"
   ]
  },
  {
   "cell_type": "code",
   "execution_count": 11,
   "metadata": {},
   "outputs": [
    {
     "data": {
      "text/plain": [
       "tuple"
      ]
     },
     "execution_count": 11,
     "metadata": {},
     "output_type": "execute_result"
    }
   ],
   "source": [
    "# 요소를 하나만 가지는 튜플 생성\n",
    "[273] # 리스트 선언\n",
    "(273) # 이건 int\n",
    "(273,)\n",
    "\n",
    "# type([273]) #list\n",
    "# type((273)) # int\n",
    "type((273,)) # tuple\n"
   ]
  },
  {
   "cell_type": "code",
   "execution_count": 18,
   "metadata": {},
   "outputs": [
    {
     "name": "stdout",
     "output_type": "stream",
     "text": [
      "10 20 30 40\n",
      "1 2 3 4 5 6\n"
     ]
    },
    {
     "data": {
      "text/plain": [
       "tuple"
      ]
     },
     "execution_count": 18,
     "metadata": {},
     "output_type": "execute_result"
    }
   ],
   "source": [
    "# 변수 다중 할당\n",
    "[a, b] = [10, 20]\n",
    "(c, d) = (30, 40)\n",
    "print(a, b, c, d)\n",
    "\n",
    "a, b, c = [1, 2, 3]\n",
    "d, e, f = (4, 5, 6)\n",
    "print(a, b, c, d, e, f)\n",
    "\n",
    "x = [1, 2, 3]\n",
    "a, b, c = x\n",
    "\n",
    "y = (4, 5, 6)\n",
    "d, e, f = y\n",
    "\n",
    "# 괄호 생략\n",
    "tu = 10, 20, 30\n",
    "type(tu)\n",
    "\n",
    "# 👍 변수의 값 교환\n",
    "a, b = 10, 20\n",
    "a, b = b, a"
   ]
  },
  {
   "cell_type": "markdown",
   "metadata": {},
   "source": [
    "> 튜플과 함수"
   ]
  },
  {
   "cell_type": "code",
   "execution_count": 21,
   "metadata": {},
   "outputs": [
    {
     "name": "stdout",
     "output_type": "stream",
     "text": [
      "10 20\n"
     ]
    }
   ],
   "source": [
    "# 튜플은 함수의 리턴에 많이 사용(여러개의 값을 리턴하고 할당 가능)\n",
    "def test():\n",
    "    return (10, 20)\n",
    "\n",
    "a, b = test()\n",
    "print(a, b)"
   ]
  },
  {
   "cell_type": "markdown",
   "metadata": {},
   "source": [
    "### 람다(lambda) : 람다표현식(익명함수) <> def"
   ]
  },
  {
   "cell_type": "markdown",
   "metadata": {},
   "source": [
    "> 함수의 매개변수로 함수 전달하기"
   ]
  },
  {
   "cell_type": "code",
   "execution_count": null,
   "metadata": {},
   "outputs": [],
   "source": [
    "def call_10_times(func):\n",
    "    for i in range(10):\n",
    "        func()\n",
    "\n",
    "\n",
    "def print_hello1():  #이쪽 함수에는 print 기능만\n",
    "    print(\"안녕하세요\")\n",
    "\n",
    "# def print_hello2(): # 갈아끼는 게 편리함.\n",
    "#     print(\"안녕하세요22\")\n",
    "\n",
    "# 함수 콜(매개변수로 함수를 전달)\n",
    "call_10_times(print_hello1)\n",
    "# call_10_times(print_hello2)"
   ]
  },
  {
   "cell_type": "code",
   "execution_count": null,
   "metadata": {},
   "outputs": [],
   "source": [
    "def call_10_times(func):\n",
    "    for i in range(10):\n",
    "        func()\n",
    "\n",
    "# 람다 표현식 적용\n",
    "call_10_times(lambda : print(\"안녕하세요\"))"
   ]
  },
  {
   "cell_type": "markdown",
   "metadata": {},
   "source": [
    "> 람다 표현식으로 함수 만들기"
   ]
  },
  {
   "cell_type": "code",
   "execution_count": 5,
   "metadata": {},
   "outputs": [
    {
     "data": {
      "text/plain": [
       "<function __main__.<lambda>(x)>"
      ]
     },
     "execution_count": 5,
     "metadata": {},
     "output_type": "execute_result"
    }
   ],
   "source": [
    "def plus_ten(x):\n",
    "    return x + 10\n",
    "\n",
    "plus_ten(1)\n",
    "\n",
    "# lambda 매개변수 : 리턴값\n",
    "lambda      x     : x + 10"
   ]
  },
  {
   "cell_type": "code",
   "execution_count": 9,
   "metadata": {},
   "outputs": [
    {
     "name": "stdout",
     "output_type": "stream",
     "text": [
      "<class 'function'>\n"
     ]
    },
    {
     "data": {
      "text/plain": [
       "1"
      ]
     },
     "execution_count": 9,
     "metadata": {},
     "output_type": "execute_result"
    }
   ],
   "source": [
    "plus_two = lambda x : x + 2\n",
    "print(type(plus_two))\n",
    "plus_two(3)\n",
    "\n",
    "(lambda x : x + 2)(11)\n",
    "# [1, 2, 3][0] # 마치 리스트의 순서와..?? 이해x"
   ]
  },
  {
   "cell_type": "code",
   "execution_count": null,
   "metadata": {},
   "outputs": [],
   "source": [
    "# [주의사항]\n",
    "# 람다 표현식 안에서는 변수를 만들 수 없다.\n",
    "\n",
    "# (lambda x: y = 10; x+y)(1) #y=10변수를 선언할 수 없어."
   ]
  },
  {
   "cell_type": "markdown",
   "metadata": {},
   "source": [
    "> filter() 함수와 map() 함수"
   ]
  },
  {
   "cell_type": "code",
   "execution_count": 18,
   "metadata": {},
   "outputs": [
    {
     "name": "stdout",
     "output_type": "stream",
     "text": [
      "map() 함수의 실행결과\n",
      "<map object at 0x000002A21B048F40>\n",
      "[1, 4, 9, 16, 25]\n",
      "\n",
      "filter() 함수의 실행결과\n",
      "<filter object at 0x000002A21B048AF0>\n",
      "[1, 2]\n"
     ]
    }
   ],
   "source": [
    "# 함수를 매개변수로 전달하는 대표적인 표준함수\n",
    "# map(함수, 리스트) // 실행결과를 기대할 때\n",
    "# filter(함수, 리스트) // True, False 값을 기대할 때\n",
    "\n",
    "def power(item):\n",
    "    return item * item\n",
    "\n",
    "def under_3(item):\n",
    "    return item < 3\n",
    "\n",
    "li = [1, 2, 3, 4, 5]\n",
    "output = map(power, li)\n",
    "print(\"map() 함수의 실행결과\")\n",
    "print(output)\n",
    "print(list(output))\n",
    "print()\n",
    "\n",
    "# filter() 함수를 이용\n",
    "print(\"filter() 함수의 실행결과\")\n",
    "output = filter(under_3, li)\n",
    "print(output)\n",
    "print(list(output))\n",
    "\n",
    "\n"
   ]
  }
 ],
 "metadata": {
  "interpreter": {
   "hash": "054c0b5073ae8ed56926c5c67113945079b283bacf1a269ae7086b3d9eebd60c"
  },
  "kernelspec": {
   "display_name": "Python 3.10.1 64-bit",
   "language": "python",
   "name": "python3"
  },
  "language_info": {
   "codemirror_mode": {
    "name": "ipython",
    "version": 3
   },
   "file_extension": ".py",
   "mimetype": "text/x-python",
   "name": "python",
   "nbconvert_exporter": "python",
   "pygments_lexer": "ipython3",
   "version": "3.10.1"
  },
  "orig_nbformat": 4
 },
 "nbformat": 4,
 "nbformat_minor": 2
}
