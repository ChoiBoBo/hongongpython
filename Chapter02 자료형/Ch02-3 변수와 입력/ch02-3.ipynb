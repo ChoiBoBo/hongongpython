{
 "cells": [
  {
   "cell_type": "markdown",
   "metadata": {},
   "source": [
    "변수란 값을 저장하여 사용하기 위한 식발자이다."
   ]
  },
  {
   "cell_type": "markdown",
   "metadata": {},
   "source": [
    ">변수(Variable) 만들기(사용)"
   ]
  },
  {
   "cell_type": "code",
   "execution_count": null,
   "metadata": {},
   "outputs": [],
   "source": [
    "# 계좌에 100만원 가지고 용산전자상가에서 노트북과 이어폰 사고 정산하기\n",
    "account = 1_000_000\n",
    "notebook = 500_000\n",
    "earphone = 200_000\n",
    "\n",
    "print(id(account))\n",
    "\n",
    "balance = account - (notebook + earphone) \n",
    "\n",
    "print(\"게좌잔고:\", balance, \"원\")"
   ]
  },
  {
   "cell_type": "code",
   "execution_count": null,
   "metadata": {},
   "outputs": [],
   "source": [
    "# 원들 둘레 면접 구하는 프로그램\n",
    "PI = 3.141592..."
   ]
  },
  {
   "cell_type": "markdown",
   "metadata": {},
   "source": [
    "> 복합대입연산자 : += -= *= /= %= **="
   ]
  },
  {
   "cell_type": "code",
   "execution_count": null,
   "metadata": {},
   "outputs": [],
   "source": [
    "# 숫자 연산\n",
    "\n",
    "a = 0\n",
    "print(a + 1)\n",
    "a += 10 # a = a + 10\n",
    "print(a) \n",
    "\n",
    "a += 10\n",
    "print(a)\n",
    "\n",
    "a /= 5 # a = a/= 5\n",
    "print(a)\n",
    "\n",
    "# 문자열 연산(+, *)\n",
    "string = \"안녕하세요!\"\n",
    "string += \"여러분\" # string = \"안녕하세요!\" + \"여러분\"\n",
    "print(string)\n",
    "\n",
    "ch = '~ '\n",
    "ch *= 5 # ch = ch * 5\n",
    "print(ch)"
   ]
  },
  {
   "cell_type": "markdown",
   "metadata": {},
   "source": [
    "> 사용자 입력 : imput()"
   ]
  },
  {
   "cell_type": "code",
   "execution_count": null,
   "metadata": {},
   "outputs": [],
   "source": [
    "keyboard = input(\"숫자를 입력해주세요\")\n",
    "type(keyboard) #주의!! input에 숫자를 입력해도, 모든 것은 str로 반환된다!\n",
    "\n",
    "# print(keyboard + 10) #오류발생!\n"
   ]
  },
  {
   "cell_type": "markdown",
   "metadata": {},
   "source": [
    "> 타입 캐스팅(형변환)"
   ]
  },
  {
   "cell_type": "code",
   "execution_count": null,
   "metadata": {},
   "outputs": [],
   "source": [
    "keyboard = input(\"숫자를 입력해주세요\")\n",
    "print(\"입력값\", keyboard)\n",
    "print(type(keyboard))\n",
    "\n",
    "# 'str' to 'int' : 문자열을 숫자로\n",
    "keyboard = int(keyboard)\n",
    "print(\"int(입력값):\", keyboard)\n",
    "print(type(keyboard))\n",
    "\n",
    "keyboard += 10\n",
    "print(\"입력값 + 10\", keyboard)"
   ]
  },
  {
   "cell_type": "code",
   "execution_count": 33,
   "metadata": {},
   "outputs": [
    {
     "name": "stdout",
     "output_type": "stream",
     "text": [
      "<class 'float'>\n"
     ]
    }
   ],
   "source": [
    "radius = float(input(\"원의 반지름(실수)을 입력하세요:\"))\n",
    "print(type(radius))"
   ]
  },
  {
   "cell_type": "markdown",
   "metadata": {},
   "source": [
    "> 사용자 입력값 계산하기"
   ]
  },
  {
   "cell_type": "code",
   "execution_count": null,
   "metadata": {},
   "outputs": [],
   "source": [
    "# 숫자를 두 번 입력받아 계산하고 결과(사칙연산)를 출력하시오\n",
    "\n",
    "#내가 한 것\n",
    "a = int(input(\"숫자입력(1): \"))\n",
    "b = int(input(\"숫자입력(2): \"))\n",
    "\n",
    "sum = a + b\n",
    "sub = a - b\n",
    "mul = a * b\n",
    "div = a / b\n",
    "\n",
    "print(\"sum:{} , sub:{} , mul:{} , div:{} 입니다.\".format(sum, sub, mul, div))"
   ]
  },
  {
   "cell_type": "code",
   "execution_count": null,
   "metadata": {},
   "outputs": [],
   "source": [
    "# 숫자를 두 번 입력받아 계산하고 결과(사칙연산)를 출력하시오\n",
    "\n",
    "# 강사님 코드\n",
    "\n",
    "# 변수 선언\n",
    "x = None; y = None #python 에서 ';' 는 변수를 한줄로 쭈욱 선언할 때, 구분하는 용도로 사용함.\n",
    "\n",
    "data1 = input(\"첫 번째 숫자 입력: \")\n",
    "data2 = input(\"두 번째 숫자 입력: \")\n",
    "x = float(data1)\n",
    "y = float(data2)"
   ]
  },
  {
   "cell_type": "markdown",
   "metadata": {},
   "source": [
    "> ValueError 예외"
   ]
  },
  {
   "cell_type": "code",
   "execution_count": null,
   "metadata": {},
   "outputs": [],
   "source": [
    "# print(dir(__builtins__))\n",
    "\n",
    "# 첫 번째, 숫자가 아닌 자료를 숫자로 변환하려고 할 때\n",
    "# data = int(input(\"정수를 입력하세요: \")) # \"Hello\" 문자열을 입력한다면?\n",
    "# print(data)\n",
    "\n",
    "i = int(\"12356789\")\n",
    "print(i)\n",
    "\n",
    "int(\"안녕하세요\") \n",
    "float(\"Pyhton\")"
   ]
  },
  {
   "cell_type": "code",
   "execution_count": null,
   "metadata": {},
   "outputs": [],
   "source": [
    "# 두 번째, 소수점이 있는 숫자 형식의 문자열을 int() 형변환하려고 할 때 #float()은 괜찮음 \n",
    "\n",
    "x = 42.195\n",
    "print(int(x))\n",
    "\n",
    "s = \"42195\"\n",
    "print(int(s))\n",
    "\n",
    "sf = \"42.195\"\n",
    "# print(int(sf)) # ValueError: invalid literal for int() with base 10: '42.195'\n",
    "print(float(sf)) #사용 가능"
   ]
  },
  {
   "cell_type": "markdown",
   "metadata": {},
   "source": [
    "> 숫자를 문자열로 바꾸기 : str()"
   ]
  },
  {
   "cell_type": "code",
   "execution_count": null,
   "metadata": {},
   "outputs": [],
   "source": [
    "a = 20\n",
    "b = 30\n",
    "print(a + b)\n",
    "\n",
    "a = str(a)\n",
    "b = str(b)\n",
    "print(a + b)"
   ]
  },
  {
   "cell_type": "code",
   "execution_count": null,
   "metadata": {},
   "outputs": [],
   "source": [
    "# \"오늘의 날짜: 2022.1.5\"\n",
    "import datetime\n",
    "current = datetime.datetime.now()\n",
    "\n",
    "print(\"오늘의 날짜: {}.{}.{}\".format(current.year, current.month, current.day))"
   ]
  },
  {
   "cell_type": "code",
   "execution_count": 89,
   "metadata": {},
   "outputs": [
    {
     "name": "stdout",
     "output_type": "stream",
     "text": [
      "사용자가 입력한 2.0인치는 5.08cm 입니다.\n"
     ]
    }
   ],
   "source": [
    "# 사용자로부터 인치(inch) 입력받아 (cm) 리턴해주는 프로그램 작성\n",
    "\n",
    "# 사용자 입력값 받기(inch)\n",
    "inch = float(input(\"인치 입력: \"))\n",
    "\n",
    "# 1 inch -> 2.54cm\n",
    "cm = (inch * 2.54)\n",
    "\n",
    "print(\"사용자가 입력한 {}인치는 {}cm 입니다.\".format(inch, cm))"
   ]
  }
 ],
 "metadata": {
  "interpreter": {
   "hash": "054c0b5073ae8ed56926c5c67113945079b283bacf1a269ae7086b3d9eebd60c"
  },
  "kernelspec": {
   "display_name": "Python 3.10.1 64-bit",
   "language": "python",
   "name": "python3"
  },
  "language_info": {
   "codemirror_mode": {
    "name": "ipython",
    "version": 3
   },
   "file_extension": ".py",
   "mimetype": "text/x-python",
   "name": "python",
   "nbconvert_exporter": "python",
   "pygments_lexer": "ipython3",
   "version": "3.10.1"
  },
  "orig_nbformat": 4
 },
 "nbformat": 4,
 "nbformat_minor": 2
}
