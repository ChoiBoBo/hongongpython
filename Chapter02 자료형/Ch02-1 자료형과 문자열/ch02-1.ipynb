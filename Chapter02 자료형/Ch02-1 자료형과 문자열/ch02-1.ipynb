{
 "cells": [
  {
   "cell_type": "markdown",
   "metadata": {},
   "source": [
    "### 02-1 자료형과 문자열\n",
    "---"
   ]
  },
  {
   "cell_type": "markdown",
   "metadata": {},
   "source": [
    "#### 시작하기전에   \n",
    "프로그램은 기본적으로 '자료를 처리'하는 역할을 한다.   \n",
    "* 카메라로 사진을 찍으면 사진이 **자료**이고, 이를 카메라에 저장하는 것이 **처리**이다.\n",
    "* 카톡으로 메시지를 보냈다면 메시지가 **자료**이고, 이를 친구에게 전송하는 것이 **처리**이다.\n",
    "* 게임에서 경험치를 얻었다면 경험치가 **자료**이고, 경험치를 증가시키는 것이 **처리**이다.\n",
    "\n",
    "데이터를 처리한다는 것은 결국... CRUD  \n",
    "\" Create(생성/쓰기), Read(읽기), Update(갱신), Delete(삭제) \" 한다는 것이다!!!"
   ]
  },
  {
   "cell_type": "markdown",
   "metadata": {},
   "source": [
    "> 자료형(data type) \n",
    "* 문자열(string): 메일 제목, 메시지 내용 등 -> \"안녕하세요\", \"Hello World\"\n",
    "* 숫자(number): 물건의 가격, 학생의 성적 등 -> 52, 273, 103.32\n",
    "* 불(boolean): 로그인 상태 -> True, False   \n",
    "자료형은 자료의 형태이고, 자료형에 따라 컴퓨터가 해석하는 방법이 달라진다. "
   ]
  },
  {
   "cell_type": "markdown",
   "metadata": {},
   "source": [
    "> 자료형 확인하기"
   ]
  },
  {
   "cell_type": "code",
   "execution_count": null,
   "metadata": {},
   "outputs": [],
   "source": [
    "# 파이썬 기본 자료형\n",
    "print(type(\"나는 문자열\"))\n",
    "print(type(273))\n",
    "print(type(3.14))\n",
    "print(type(True))\n",
    "print()\n",
    "\n",
    "# 컬렉션 자료형\n",
    "[], (), {}\n",
    "print(type([1, '2', True])) # 원칙은 다른 자료형끼리 배열이 불가능. 하지만 컬렉션을 이용하면 가능함 // 사람+생년+주소 등 구분이 쉬어짐\n",
    "(1, 2, 3) # 읽기만하고 변경불가능 // 필요에 의해 생성됨 // PI 같은 값을 고정\n",
    "{\"name\":\"철수\",\"키\":120} # key와 value 의 정보를 담아 추측이 아니라 정보를 전달할 수 있음."
   ]
  },
  {
   "cell_type": "code",
   "execution_count": null,
   "metadata": {},
   "outputs": [],
   "source": [
    "# dir() : 어떤 객체가 어떤 메소드를 가지고 있는지 알고 싶을 때\n",
    "# dir(__builtins__)\n",
    "dir(10)\n",
    "dir(\"문자열\")"
   ]
  },
  {
   "cell_type": "code",
   "execution_count": null,
   "metadata": {},
   "outputs": [],
   "source": [
    "# id() : 객체를 식별하기 위해서 부여하는 일련번호\n",
    "a = 10\n",
    "# 10 이라는 값이 a에 담기는 게 아니라 10이라는 객체(class의 인스턴스)가 생성되고\n",
    "# 참조변수 a 라는 이름으로 10 객체를 가리킨다.\n",
    "id(a)\n",
    "\n",
    "n = 4000\n",
    "print(\"n:\", id(n))\n",
    "\n",
    "a = 4000\n",
    "print(\"a\", id(a))\n",
    "b = 4000\n",
    "print(\"b:\", id(b))\n",
    "\n",
    "print(a == b)\n",
    "print(a is b)"
   ]
  },
  {
   "cell_type": "code",
   "execution_count": null,
   "metadata": {},
   "outputs": [],
   "source": [
    "# isinstance() : 주어진 인스턴스가 특정 클래스(데이터타입)인지 검사\n",
    "print(isinstance(\"이것은 문자열\", str))\n",
    "print(isinstance(2022, int))\n",
    "\n",
    "var = 1\n",
    "print(isinstance(var, int)) #변수에 담겨오면 헷갈리는 경우가 많아서, isinstance() 사용함."
   ]
  },
  {
   "cell_type": "code",
   "execution_count": null,
   "metadata": {},
   "outputs": [],
   "source": [
    "# help() : 함수(function) 정보를 보고 싶을 때\n",
    "# help(print)\n",
    "print(print.__doc__)"
   ]
  },
  {
   "cell_type": "markdown",
   "metadata": {},
   "source": [
    "> 문자열 만들기 : \" \", '', \"\"\" \"\"\", ''' '''"
   ]
  },
  {
   "cell_type": "code",
   "execution_count": null,
   "metadata": {},
   "outputs": [],
   "source": [
    "# 문자열('str') : 문자(char)의 배열\n",
    "\n",
    "# 문자셋(character set)\n",
    "print(ord('A')) # 인코딩\n",
    "print(chr(66)) # 디코딩\n",
    "print(chr(0b1100001)) # 디코딩\n",
    "\n",
    "for i in 'abcdef':\n",
    "    print(i, end = '') # 기본default 값은 개행을 함. 즉 \\n이 기본값\n",
    "    "
   ]
  },
  {
   "cell_type": "code",
   "execution_count": null,
   "metadata": {},
   "outputs": [],
   "source": [
    "# why don't you?\n",
    "print(\"why don't you?\")\n",
    "print('why don\\'t you?')\n",
    "text = '''why don't you?'''\n",
    "print(text)\n",
    "\n",
    "# \"Yes\" they said\n",
    "print('\"Yes\" they said')\n",
    "print(\"\\\"Yes\\\" they said\")\n",
    "\n",
    "# text = '''why don't you?'''\n",
    "# print(text)\n"
   ]
  },
  {
   "cell_type": "markdown",
   "metadata": {},
   "source": [
    "> 이스케이프(Escape Character) : \\ + 문자"
   ]
  },
  {
   "cell_type": "code",
   "execution_count": 57,
   "metadata": {},
   "outputs": [
    {
     "name": "stdout",
     "output_type": "stream",
     "text": [
      "First line.\n",
      "Second line.\n",
      "\n",
      "D:\\MyFolder\n",
      "ame\n",
      "D:\\MyFolder\\name\n"
     ]
    }
   ],
   "source": [
    "# 특수 문자를 표현하거나 특한 기능을 하는 문자\n",
    "print('First line.\\nSecond line.')\n",
    "print()\n",
    "# 경로명\n",
    "print(\"D:\\MyFolder\\name\") #파일 이름이 \\n로 시작하면, 그 앞에 \\ 를 붙여준다.\n",
    "print(\"D:\\MyFolder\\\\name\") #파일 이름이 \\n로 시작하면, 그 앞에 \\ 를 붙여준다."
   ]
  }
 ],
 "metadata": {
  "interpreter": {
   "hash": "054c0b5073ae8ed56926c5c67113945079b283bacf1a269ae7086b3d9eebd60c"
  },
  "kernelspec": {
   "display_name": "Python 3.10.1 64-bit",
   "language": "python",
   "name": "python3"
  },
  "language_info": {
   "codemirror_mode": {
    "name": "ipython",
    "version": 3
   },
   "file_extension": ".py",
   "mimetype": "text/x-python",
   "name": "python",
   "nbconvert_exporter": "python",
   "pygments_lexer": "ipython3",
   "version": "3.10.1"
  },
  "orig_nbformat": 4
 },
 "nbformat": 4,
 "nbformat_minor": 2
}
