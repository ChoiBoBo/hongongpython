{
 "cells": [
  {
   "cell_type": "markdown",
   "metadata": {},
   "source": [
    "### 02-1 자료형과 문자열\n",
    "---"
   ]
  },
  {
   "cell_type": "markdown",
   "metadata": {},
   "source": [
    "#### 시작하기전에   \n",
    "프로그램은 기본적으로 '자료를 처리'하는 역할을 한다.   \n",
    "* 카메라로 사진을 찍으면 사진이 **자료**이고, 이를 카메라에 저장하는 것이 **처리**이다.\n",
    "* 카톡으로 메시지를 보냈다면 메시지가 **자료**이고, 이를 친구에게 전송하는 것이 **처리**이다.\n",
    "* 게임에서 경험치를 얻었다면 경험치가 **자료**이고, 경험치를 증가시키는 것이 **처리**이다.\n",
    "\n",
    "데이터를 처리한다는 것은 결국... CRUD  \n",
    "\" Create(생성/쓰기), Read(읽기), Update(갱신), Delete(삭제) \" 한다는 것이다!!!"
   ]
  },
  {
   "cell_type": "markdown",
   "metadata": {},
   "source": [
    "> 자료형(data type) \n",
    "* 문자열(string): 메일 제목, 메시지 내용 등 -> \"안녕하세요\", \"Hello World\"\n",
    "* 숫자(number): 물건의 가격, 학생의 성적 등 -> 52, 273, 103.32\n",
    "* 불(boolean): 로그인 상태 -> True, False   \n",
    "자료형은 자료의 형태이고, 자료형에 따라 컴퓨터가 해석하는 방법이 달라진다. "
   ]
  },
  {
   "cell_type": "markdown",
   "metadata": {},
   "source": [
    "> 자료형 확인하기"
   ]
  },
  {
   "cell_type": "code",
   "execution_count": null,
   "metadata": {},
   "outputs": [],
   "source": [
    "# 파이썬 기본 자료형\n",
    "print(type(\"나는 문자열\"))\n",
    "print(type(273))\n",
    "print(type(3.14))\n",
    "print(type(True))\n",
    "print()\n",
    "\n",
    "# 컬렉션 자료형\n",
    "[], (), {}\n",
    "print(type([1, '2', True])) # 원칙은 다른 자료형끼리 배열이 불가능. 하지만 컬렉션을 이용하면 가능함 // 사람+생년+주소 등 구분이 쉬어짐\n",
    "(1, 2, 3) # 읽기만하고 변경불가능 // 필요에 의해 생성됨 // PI 같은 값을 고정\n",
    "{\"name\":\"철수\",\"키\":120} # key와 value 의 정보를 담아 추측이 아니라 정보를 전달할 수 있음."
   ]
  },
  {
   "cell_type": "code",
   "execution_count": null,
   "metadata": {},
   "outputs": [],
   "source": [
    "# dir() : 어떤 객체가 어떤 메소드를 가지고 있는지 알고 싶을 때\n",
    "# dir(__builtins__)\n",
    "dir(10)\n",
    "dir(\"문자열\")"
   ]
  },
  {
   "cell_type": "code",
   "execution_count": null,
   "metadata": {},
   "outputs": [],
   "source": [
    "# id() : 객체를 식별하기 위해서 부여하는 일련번호\n",
    "a = 10\n",
    "# 10 이라는 값이 a에 담기는 게 아니라 10이라는 객체(class의 인스턴스)가 생성되고\n",
    "# 참조변수 a 라는 이름으로 10 객체를 가리킨다.\n",
    "id(a)\n",
    "\n",
    "n = 4000\n",
    "print(\"n:\", id(n))\n",
    "\n",
    "a = 4000\n",
    "print(\"a\", id(a))\n",
    "b = 4000\n",
    "print(\"b:\", id(b))\n",
    "\n",
    "print(a == b)\n",
    "print(a is b)"
   ]
  },
  {
   "cell_type": "code",
   "execution_count": null,
   "metadata": {},
   "outputs": [],
   "source": [
    "# isinstance() : 주어진 인스턴스가 특정 클래스(데이터타입)인지 검사\n",
    "print(isinstance(\"이것은 문자열\", str))\n",
    "print(isinstance(2022, int))\n",
    "\n",
    "var = 1\n",
    "print(isinstance(var, int)) #변수에 담겨오면 헷갈리는 경우가 많아서, isinstance() 사용함."
   ]
  },
  {
   "cell_type": "code",
   "execution_count": null,
   "metadata": {},
   "outputs": [],
   "source": [
    "# help() : 함수(function) 정보를 보고 싶을 때\n",
    "# help(print)\n",
    "print(print.__doc__)"
   ]
  },
  {
   "cell_type": "markdown",
   "metadata": {},
   "source": [
    "> 문자열 만들기 : \" \", '', \"\"\" \"\"\", ''' '''"
   ]
  },
  {
   "cell_type": "code",
   "execution_count": null,
   "metadata": {},
   "outputs": [],
   "source": [
    "# 문자열('str') : 문자(char)의 배열\n",
    "\n",
    "# 문자셋(character set)\n",
    "print(ord('A')) # 인코딩\n",
    "print(chr(66)) # 디코딩\n",
    "print(chr(0b1100001)) # 디코딩\n",
    "\n",
    "for i in 'abcdef':\n",
    "    print(i, end = '') # 기본default 값은 개행을 함. 즉 \\n이 기본값\n",
    "    "
   ]
  },
  {
   "cell_type": "code",
   "execution_count": null,
   "metadata": {},
   "outputs": [],
   "source": [
    "# why don't you?\n",
    "print(\"why don't you?\")\n",
    "print('why don\\'t you?')\n",
    "\n",
    "# \"Yes\" they said\n",
    "print('\"Yes\" they said')\n",
    "print(\"\\\"Yes\\\" they said\")\n",
    "\n",
    "# text = '''why don't you?'''\n",
    "# print(text)"
   ]
  },
  {
   "cell_type": "markdown",
   "metadata": {},
   "source": [
    "> 이스케이프(Escape Character) : \\ + 문자"
   ]
  },
  {
   "cell_type": "code",
   "execution_count": null,
   "metadata": {},
   "outputs": [],
   "source": [
    "# 특수 문자를 표현하거나 특한 기능을 하는 문자\n",
    "print('First line.\\nSecond line.')\n",
    "print()\n",
    "# 경로명\n",
    "print(\"D:\\MyFolder\\name\") #파일 이름이 \\n로 시작하면, 그 앞에 \\ 를 붙여준다.\n",
    "print(\"D:\\MyFolder\\\\name\") #파일 이름이 \\n로 시작하면, 그 앞에 \\ 를 붙여준다.\n",
    "print(r\"D:\\MyFolder\\name\") #r(aw) 문자 그대로 출력해줘.\n",
    "print(\"이름\\t나이\\t주소\")"
   ]
  },
  {
   "cell_type": "markdown",
   "metadata": {},
   "source": [
    "> 여러 줄인 문자열 생성(Multi-Line)"
   ]
  },
  {
   "cell_type": "code",
   "execution_count": null,
   "metadata": {},
   "outputs": [],
   "source": [
    "s1 = \"1. Life is too Short\\n2. You need python.\"\n",
    "print(s1)\n",
    "\n",
    "# 줄바꿈 문자열\n",
    "s2 = \"\"\"\n",
    "1. Life is too Short\n",
    "2. You need python.\n",
    "\"\"\"\n",
    "print(s2)\n",
    "print(\"\"\"\n",
    "** MENU **\n",
    "1. coffee\n",
    "2. milk\n",
    "3. cake\n",
    "\"\"\"\n",
    ")\n",
    "\n",
    "# 줄바꿈 없는 문자열\n",
    "menu = \"\"\"\n",
    "1. coffee \\\n",
    "milk\n",
    "2. cake\n",
    "\"\"\"\n",
    "\n",
    "print(menu)"
   ]
  },
  {
   "cell_type": "markdown",
   "metadata": {},
   "source": [
    "> 문자열 연산 : + , *"
   ]
  },
  {
   "cell_type": "code",
   "execution_count": null,
   "metadata": {},
   "outputs": [],
   "source": [
    "# \"문자열\" + \"문자열\"\n",
    "print(\"안녕\" + \"하세요\")\n",
    "# 이렇게 변수에 담아서, 해당 버전 update 되면 사용함.\n",
    "head = \"pyton\"\n",
    "version = \" 3.10.1\"\n",
    "print(head + version)\n",
    "\n",
    "# \"문자열\" * 숫자\n",
    "print(\"안녕하세요\\n\" * 3)\n",
    "print(\"=\" * 50)\n",
    "print(\"Program\")\n",
    "print(\"=\" * 50)"
   ]
  },
  {
   "cell_type": "markdown",
   "metadata": {},
   "source": [
    "> 문자 선택 연산자(인덱싱) : [index]"
   ]
  },
  {
   "cell_type": "code",
   "execution_count": null,
   "metadata": {},
   "outputs": [],
   "source": [
    "# [index] : 문자열과 같은 자료형에서 자료가 메모리에 저장된 순서대로 매겨진 값의 위치 번호\n",
    "array = 'p' 'y' 't' 'h' 'o' 'n'\n",
    "print(\"012345\")\n",
    "print(array)\n",
    "print(array[0])\n",
    "print(array[1])\n",
    "print(array[5])\n",
    "print(array[-1])\n",
    "print(array[-3])"
   ]
  },
  {
   "cell_type": "code",
   "execution_count": null,
   "metadata": {},
   "outputs": [],
   "source": [
    "array = \"Life is too short, You need Python\"\n",
    "index = \"0123456789012345678901234567890123\"\n",
    "\n",
    "print(type(array))\n",
    "print(len(array))\n",
    "print(index)\n",
    "print(array)"
   ]
  },
  {
   "cell_type": "code",
   "execution_count": null,
   "metadata": {},
   "outputs": [],
   "source": [
    "print(array[28])\n",
    "print(array[-6])\n",
    "print(array[len(array) -1])"
   ]
  },
  {
   "cell_type": "markdown",
   "metadata": {},
   "source": [
    "> 문자열 범위 선택 연산자(슬라이싱) : [시작:끝]"
   ]
  },
  {
   "cell_type": "code",
   "execution_count": null,
   "metadata": {},
   "outputs": [],
   "source": [
    "array = \"Life is too short, You need Python\"\n",
    "index = \"0123456789012345678901234567890123\"\n",
    "\n",
    "print(index)\n",
    "print(array)\n",
    "\n",
    "# 특정 단어(\"Life\")를 추출하려면?\n",
    "\n",
    "# 방법1\n",
    "word = array[0] + array[1] + array[2] + array[3] \n",
    "print(word)\n",
    "\n",
    "# 방법2\n",
    "word = array[0: 3 + 1] # 범위 표시 : 시작<=   <끝\n",
    "print(word)\n",
    "\n",
    "print(array[12:16 + 1])\n",
    "print(array[:3 + 1])\n",
    "print(array[19:])\n",
    "print(array[:])"
   ]
  },
  {
   "cell_type": "code",
   "execution_count": null,
   "metadata": {},
   "outputs": [],
   "source": [
    "import datetime\n",
    "\n",
    "# 생일날짜, 나이정보, 성별정보를 추출하시오\n",
    "idx  = \"01234567890123\"\n",
    "data = '971113-1013721'\n",
    "\n",
    "year = data[:1 + 1]\n",
    "month = data[2:3 + 1]\n",
    "day = data[4:5 + 1]\n",
    "# print(yaear, month, day)\n",
    "\n",
    "\n",
    "current = datetime.datetime.now()\n",
    "print(current.year)\n",
    "\n",
    "# 오류 찾아가는 과정\n",
    "# age =  current.year - 1900 + int(year) + 1\n",
    "#           2022                  97\n",
    "\n",
    "age =  2022 - 1900 - int(year) + 1\n",
    "\n",
    "var = int(data[7])\n",
    "gender = \"\"\n",
    "\n",
    "if var % 2 == 0:\n",
    "    gender = \"여성\"\n",
    "else:\n",
    "    gender = \"남성\"\n",
    "\n",
    "print(\"나이: \", age)\n",
    "print(\"생일: \", month + \"월\", day + \"일\")\n",
    "print(\"성별: \", gender)"
   ]
  },
  {
   "cell_type": "markdown",
   "metadata": {},
   "source": [
    "> 문자열 상수(String constants) : immutable 자료형"
   ]
  },
  {
   "cell_type": "code",
   "execution_count": 37,
   "metadata": {},
   "outputs": [
    {
     "name": "stdout",
     "output_type": "stream",
     "text": [
      "python\n"
     ]
    }
   ],
   "source": [
    "word = \"Jython\" \n",
    "# word[0] = 'p'\n",
    "\n",
    "word = 'p' + word[1:]\n",
    "print(word)\n",
    "\n",
    "# 상수(final)은 변경이 x -> immutable 자료형이다.\n",
    "# 문자열도 상수이다.\n",
    "# final PI = 3.14\n",
    "# float PI = 3.14"
   ]
  }
 ],
 "metadata": {
  "interpreter": {
   "hash": "054c0b5073ae8ed56926c5c67113945079b283bacf1a269ae7086b3d9eebd60c"
  },
  "kernelspec": {
   "display_name": "Python 3.10.1 64-bit",
   "language": "python",
   "name": "python3"
  },
  "language_info": {
   "codemirror_mode": {
    "name": "ipython",
    "version": 3
   },
   "file_extension": ".py",
   "mimetype": "text/x-python",
   "name": "python",
   "nbconvert_exporter": "python",
   "pygments_lexer": "ipython3",
   "version": "3.10.1"
  },
  "orig_nbformat": 4
 },
 "nbformat": 4,
 "nbformat_minor": 2
}
