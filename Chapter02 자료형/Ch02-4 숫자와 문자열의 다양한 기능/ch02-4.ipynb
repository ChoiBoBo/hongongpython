{
 "cells": [
  {
   "cell_type": "markdown",
   "metadata": {},
   "source": [
    "### 02-4 숫자와 문자열의 다양한 기능\n",
    "---\n",
    "#### 시작하기 전에\n",
    "***문자열 자료형의 기능*** 즉, 내장 함수를 알아보기"
   ]
  },
  {
   "cell_type": "code",
   "execution_count": null,
   "metadata": {},
   "outputs": [],
   "source": [
    "# \"str\".멤버함수호출()\n",
    "\n",
    "print(\"Life is short\".upper())\n",
    "print(\"I am string\".__len__())"
   ]
  },
  {
   "cell_type": "markdown",
   "metadata": {},
   "source": [
    "> 서식 지정자(format specifier)로 문자열 만들기"
   ]
  },
  {
   "cell_type": "code",
   "execution_count": null,
   "metadata": {},
   "outputs": [],
   "source": [
    "# 철수의 평균 점수는 85.3점입니다.\n",
    "# 영희의 평균 점수는 35.6점입니다.\n",
    "# 나영의 평균 점수는 55.2점입니다.\n",
    "# 보균의 평균 점수는 75.1점입니다.\n",
    "\n",
    "# {이름}의 평균 점수는 {점수}점입니다.\n",
    "# 문자열 안에서 특정 부분을 원하는 값으로 바꿀 때 : 서식 지정자 또는 문자열 포매팅(format())을 사용한다.\n",
    "\n",
    "name = \"철수\" # str\n",
    "score = 85.3  # float\n",
    "print(\"name의 평균 점수는 score입니다.\") # 이건 그냥 문자열이야. 이제 변수에 문자열 + 숫자 오도록 할 예정.\n",
    "print(\"%s의 평균 점수는 %f입니다.\" % (name, score))\n",
    "print(\"%s의 평균 점수는 %d입니다.\" % (name, score)) # 정수는 %d로 표기함.\n",
    "\n",
    "name = \"IU\"\n",
    "print(\"My name is %s\" % name)"
   ]
  },
  {
   "cell_type": "code",
   "execution_count": null,
   "metadata": {},
   "outputs": [],
   "source": [
    "# 학급 학생들의 점수 출력하기\n",
    "import time\n",
    "\n",
    "names = [\"철수\", \"영희\", \"희경\", \"수진\"]\n",
    "scores = [85, 98, 44, 68]\n",
    "\n",
    "for i in range(len(names)): #range(4) : 0~3까지 의미임! 4까지 아님\n",
    "    print(\"%s 학생의 점수는 %d점입니다.\" % (name[i], scores[i])) \n",
    "    time.sleep(0.5)\n",
    "\n",
    "\n",
    "\n",
    "\n",
    "\n"
   ]
  },
  {
   "cell_type": "markdown",
   "metadata": {},
   "source": [
    "> 문자열 format() 함수"
   ]
  },
  {
   "cell_type": "code",
   "execution_count": 27,
   "metadata": {},
   "outputs": [
    {
     "name": "stdout",
     "output_type": "stream",
     "text": [
      "오늘은 2022년 1월 5일입니다.\n"
     ]
    }
   ],
   "source": [
    "# 문자열 안에서 정수 변수를 사용할 때\n",
    "year = 2022\n",
    "month = 1\n",
    "day = 5\n",
    "\n",
    "today = \"오늘은 2022년 1월 5일입니다.\"\n",
    "today = \"오늘은 year년 month월 day일입니다.\"\n",
    "today = \"오늘은 {}년 {}월 {}일입니다.\".format(year, month, day) #\"문자열\".format() 이거랑 같은 거임.\n",
    "\n",
    "today = \"오늘은\" \n",
    "\n",
    "print(today)"
   ]
  }
 ],
 "metadata": {
  "interpreter": {
   "hash": "054c0b5073ae8ed56926c5c67113945079b283bacf1a269ae7086b3d9eebd60c"
  },
  "kernelspec": {
   "display_name": "Python 3.10.1 64-bit",
   "language": "python",
   "name": "python3"
  },
  "language_info": {
   "codemirror_mode": {
    "name": "ipython",
    "version": 3
   },
   "file_extension": ".py",
   "mimetype": "text/x-python",
   "name": "python",
   "nbconvert_exporter": "python",
   "pygments_lexer": "ipython3",
   "version": "3.10.1"
  },
  "orig_nbformat": 4
 },
 "nbformat": 4,
 "nbformat_minor": 2
}
