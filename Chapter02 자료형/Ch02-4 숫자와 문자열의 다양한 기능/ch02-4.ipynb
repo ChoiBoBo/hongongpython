{
 "cells": [
  {
   "cell_type": "markdown",
   "metadata": {},
   "source": [
    "### 02-4 숫자와 문자열의 다양한 기능\n",
    "---\n",
    "#### 시작하기 전에\n",
    "***문자열 자료형의 기능*** 즉, 내장 함수를 알아보기"
   ]
  },
  {
   "cell_type": "code",
   "execution_count": null,
   "metadata": {},
   "outputs": [],
   "source": [
    "# \"str\".멤버함수호출()\n",
    "\n",
    "print(\"Life is short\".upper())\n",
    "print(\"I am string\".__len__())"
   ]
  },
  {
   "cell_type": "markdown",
   "metadata": {},
   "source": [
    "> 서식 지정자(format specifier)로 문자열 만들기"
   ]
  },
  {
   "cell_type": "code",
   "execution_count": null,
   "metadata": {},
   "outputs": [],
   "source": [
    "# 철수의 평균 점수는 85.3점입니다.\n",
    "# 영희의 평균 점수는 35.6점입니다.\n",
    "# 나영의 평균 점수는 55.2점입니다.\n",
    "# 보균의 평균 점수는 75.1점입니다.\n",
    "\n",
    "# {이름}의 평균 점수는 {점수}점입니다.\n",
    "# 문자열 안에서 특정 부분을 원하는 값으로 바꿀 때 : 서식 지정자 또는 문자열 포매팅(format())을 사용한다.\n",
    "\n",
    "name = \"철수\" # str\n",
    "score = 85.3  # float\n",
    "print(\"name의 평균 점수는 score입니다.\") # 이건 그냥 문자열이야. 이제 변수에 문자열 + 숫자 오도록 할 예정.\n",
    "print(\"%s의 평균 점수는 %f입니다.\" % (name, score))\n",
    "print(\"%s의 평균 점수는 %d입니다.\" % (name, score)) # 정수는 %d로 표기함.\n",
    "\n",
    "name = \"IU\"\n",
    "print(\"My name is %s\" % name)"
   ]
  },
  {
   "cell_type": "code",
   "execution_count": null,
   "metadata": {},
   "outputs": [],
   "source": [
    "# 학급 학생들의 점수 출력하기\n",
    "import time\n",
    "\n",
    "names = [\"철수\", \"영희\", \"희경\", \"수진\"]\n",
    "scores = [85, 98, 44, 68]\n",
    "\n",
    "for i in range(len(names)): #range(4) : 0~3까지 의미임! 4까지 아님\n",
    "    print(\"%s 학생의 점수는 %d점입니다.\" % (name[i], scores[i])) \n",
    "    time.sleep(0.5)\n",
    "\n",
    "\n",
    "\n",
    "\n",
    "\n"
   ]
  },
  {
   "cell_type": "markdown",
   "metadata": {},
   "source": [
    "> 문자열 format() 함수"
   ]
  },
  {
   "cell_type": "code",
   "execution_count": null,
   "metadata": {},
   "outputs": [],
   "source": [
    "# 문자열 안에서 정수 변수를 사용할 때\n",
    "year = 2022\n",
    "month = 1\n",
    "day = 5\n",
    "\n",
    "today = \"오늘은 2022년 1월 5일입니다.\"\n",
    "today = \"오늘은 year년 month월 day일입니다.\"\n",
    "today = \"오늘은 {}년 {}월 {}일입니다.\".format(year, month, day) #\"문자열\".format() 이거랑 같은 거임.\n",
    "\n",
    "print(today)"
   ]
  },
  {
   "cell_type": "code",
   "execution_count": null,
   "metadata": {},
   "outputs": [],
   "source": [
    "def call(number):\n",
    "    print(\"띵동~{}번 고객님 접수창구로 와주세요.\".format(number))\n",
    "\n",
    "for i in [1,2,3,4,5,6,7,8,9]:\n",
    "    call(i)\n",
    "    time.sleep(0.3)"
   ]
  },
  {
   "cell_type": "code",
   "execution_count": null,
   "metadata": {},
   "outputs": [],
   "source": [
    "# format() 함수의 다양한 형태\n",
    "data1 = \"{}만원\".format(5000)\n",
    "data2 = \"{}M, {}M, {}M 달리기\".format(100, 400, 800)\n",
    "data3 = \"Programming Language {} {} {}\".format('python', 'Script', \"3.10.1\")\n",
    "\n",
    "# data4 = \"{} {} {} {}\".format('Python', 'Script') #지정하지 않으면 오류\n",
    "data5 = \"{0} {0} {0} {1}\".format('Python', 'Script') # 지정하면 할당되어 오류나지 않음\n",
    "print(data5)\n",
    "data6 = \"Hello, {len} {ver}\".format(len='Python', ver = '3.10.1')\n",
    "print(data6)\n",
    "\n",
    "# 변수명 그대로 사용하기\n",
    "lan = 'java'\n",
    "ver = '11'\n",
    "data7 = f\"Hello, {lan} {ver}\"\n",
    "print(data7)"
   ]
  },
  {
   "cell_type": "markdown",
   "metadata": {},
   "source": [
    "> IndexError 예외 : { } 인덱스 개수가 함수 매개변수 개수보다 많은 경우"
   ]
  },
  {
   "cell_type": "code",
   "execution_count": null,
   "metadata": {},
   "outputs": [],
   "source": [
    "print(\"{} {} {}\".format(1,2,3,4,5)) # 문제없음\n",
    "# print(\"{} {} {}\".format(1,2))  # Error 발생"
   ]
  },
  {
   "cell_type": "markdown",
   "metadata": {},
   "source": [
    "> format() 함수의 다양한 기능 : 숫자 관련"
   ]
  },
  {
   "cell_type": "code",
   "execution_count": null,
   "metadata": {},
   "outputs": [],
   "source": [
    "output_a = \"{:d}\".format(52) \n",
    "print(output_a)\n",
    "\n",
    "output_a = \"{:s}\".format(\"52\") \n",
    "print(output_a)\n",
    "\n",
    "output_a = \"{:5d}\".format(52) \n",
    "print(output_a)\n",
    "\n",
    "output_a = \"{:05d}\".format(52) \n",
    "print(output_a)\n",
    "\n",
    "print(\"  [지출내역]\")\n",
    "cost1 = \"{:5d} (만원)\".format(1200)\n",
    "cost2 = \"{:5d} (만원)\".format(200)\n",
    "cost3 = \"{:5d} (만원)\".format(15)\n",
    "cost4 = \"{:5d} (만원)\".format(3500)\n",
    "cost5 = \"{:5d} (만원)\".format(1200)\n",
    "\n",
    "print(cost1)\n",
    "print(cost2)\n",
    "print(cost3)\n",
    "print(cost4)\n",
    "print(cost5)\n"
   ]
  },
  {
   "cell_type": "code",
   "execution_count": null,
   "metadata": {},
   "outputs": [],
   "source": [
    "# 기호와 함께 출력하기\n",
    "output_a = \"{:+d}\".format(55)\n",
    "print(output_a)\n",
    "\n",
    "output_b = \"{:+d}\".format(-55)\n",
    "print(output_b)"
   ]
  },
  {
   "cell_type": "code",
   "execution_count": null,
   "metadata": {},
   "outputs": [],
   "source": [
    "print(\"{:+5d}\".format(52))\n",
    "print(\"{:=+5d}\".format(52))\n",
    "print(\"{:=+05d}\".format(52))"
   ]
  },
  {
   "cell_type": "code",
   "execution_count": null,
   "metadata": {},
   "outputs": [],
   "source": [
    "# 부동 소수점 출력의 형태\n",
    "print(\"{:f}\".format(3.141592))\n",
    "print(\"{:+15f}\".format(3.141592))\n",
    "\n",
    "# 👍중요!\n",
    "# 소수점 아래 자릿수 지정하기\n",
    "print(\"{:15.3f}\".format(3.141592)) #15는 오른쪽으로 15칸 // .3f 는 소수점 자리 설정"
   ]
  },
  {
   "cell_type": "markdown",
   "metadata": {},
   "source": [
    "> 대소문자 바꾸기 : upper()와 lower()"
   ]
  },
  {
   "cell_type": "code",
   "execution_count": null,
   "metadata": {},
   "outputs": [],
   "source": [
    "sentence = \"Hello Python Programming..!\"\n",
    "sentence.upper()\n",
    "sentence.lower()\n",
    "sentence.capitalize() #맨 앞에꺼만 대문자로 변환\n"
   ]
  },
  {
   "cell_type": "markdown",
   "metadata": {},
   "source": [
    "> 문자열 공백 제거하기 : strip(), lstrip(), rstrip()"
   ]
  },
  {
   "cell_type": "code",
   "execution_count": null,
   "metadata": {},
   "outputs": [],
   "source": [
    "# 👍중요!\n",
    "# 외부에서 정보를 받으면, 항상 공백부터 제거하고 처리함// 사람 눈에는 알 수 없음\n",
    "input_date = \"               Python\"\n",
    "print(f\"입력값: {input_date}\")\n",
    "print(len(input_date))\n",
    "\n",
    "sentence = input_date.strip()\n",
    "print(sentence)\n",
    "print(len(sentence))"
   ]
  },
  {
   "cell_type": "markdown",
   "metadata": {},
   "source": [
    "> 특정 문자 제거하기"
   ]
  },
  {
   "cell_type": "code",
   "execution_count": null,
   "metadata": {},
   "outputs": [],
   "source": [
    "#👍python 으로 데이터 분석을 한다. 그러므로 초기 데이트를 잘 받고, 처리를 잘 해야함\n",
    "\n",
    "input_data = \", Pyhton. / *\" "
   ]
  }
 ],
 "metadata": {
  "interpreter": {
   "hash": "054c0b5073ae8ed56926c5c67113945079b283bacf1a269ae7086b3d9eebd60c"
  },
  "kernelspec": {
   "display_name": "Python 3.10.1 64-bit",
   "language": "python",
   "name": "python3"
  },
  "language_info": {
   "codemirror_mode": {
    "name": "ipython",
    "version": 3
   },
   "file_extension": ".py",
   "mimetype": "text/x-python",
   "name": "python",
   "nbconvert_exporter": "python",
   "pygments_lexer": "ipython3",
   "version": "3.10.1"
  },
  "orig_nbformat": 4
 },
 "nbformat": 4,
 "nbformat_minor": 2
}
