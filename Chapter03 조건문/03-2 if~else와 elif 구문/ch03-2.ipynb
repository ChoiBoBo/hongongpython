{
 "cells": [
  {
   "cell_type": "markdown",
   "metadata": {},
   "source": [
    "### 03-2~ if ~ else 와 elif 문\n",
    "---\n",
    "#### 시작하기 전에\n",
    "**두 가지**만 구분되는 실행 흐름 : 오전/오후, 주간/야간, 남/여, 합격/불합격"
   ]
  },
  {
   "cell_type": "code",
   "execution_count": null,
   "metadata": {},
   "outputs": [],
   "source": [
    "# 📃 # 오전/오후 만들기\n",
    "import datetime\n",
    "today = datetime.datetime.now\n",
    "\n",
    "\n"
   ]
  },
  {
   "cell_type": "markdown",
   "metadata": {},
   "source": [
    ">elif 구문 : 여러가지 케이스로 분기하고자 할 때"
   ]
  },
  {
   "cell_type": "code",
   "execution_count": null,
   "metadata": {},
   "outputs": [],
   "source": [
    "# 계절별, 요일별...\n",
    "\n",
    "# 학점 판별\n",
    "\n",
    "score = 0\n",
    "grade = \"\"\n",
    "\n",
    "score = int(input(\"점수를 입력하세요: \"))\n",
    "if score >= 95:\n",
    "    grade = \"A+\"\n",
    "elif score >= 90:\n",
    "    grade = \"A\"\n",
    "elif score >= 85:\n",
    "    grade = \"B+\"\n",
    "elif score >= 80:\n",
    "    grade = \"B\"\n",
    "elif score >= 75:\n",
    "    grade = \"C+\"\n",
    "elif score >= 70:\n",
    "    grade = \"C\"\n",
    "else:\n",
    "    grade = \"D\"\n",
    "\n",
    "print(f\"당신의 점수는 {score}이고, 학점은 {grade}입니다.\")"
   ]
  },
  {
   "cell_type": "code",
   "execution_count": null,
   "metadata": {},
   "outputs": [],
   "source": [
    "# 👍보균 학점 프로그램 작성 \n",
    "# 90점 이상 A / 80점 이상 B / 70점 이상 C / 나머지 D\n",
    "# 숫자 미 입력 (오류 발생)\n",
    "\n",
    "score = 0\n",
    "grade = \"\"\n",
    "\n",
    "score = int(input(\"점수를 입력하세요: \"))\n",
    "\n",
    "if score >= 90:\n",
    "    grade = \"A\"\n",
    "elif score >= 80:\n",
    "    grade = \"B\"\n",
    "elif score >= 70:\n",
    "    grade = \"C\"\n",
    "else:\n",
    "    grade = \"D\"\n",
    "\n",
    "print(f\"당신의 점수는 {score}이며, 학점은 {grade}입니다\")"
   ]
  },
  {
   "cell_type": "markdown",
   "metadata": {},
   "source": [
    "> False로 변환되는 값 : 0, 0.0, 빈 컨테이너([], (), {}), 빈 문자열, None"
   ]
  },
  {
   "cell_type": "code",
   "execution_count": null,
   "metadata": {},
   "outputs": [],
   "source": [
    "if 0: \n",
    "    print(\"0은 True로 변환\") # 0은 False라서 아래문장 실행을 안함.\n",
    "else:\n",
    "    print(\"0은 False로 변환\")\n",
    "\n",
    "# if \"\":\n",
    "# else:\n",
    "\n",
    "bool(None)"
   ]
  },
  {
   "cell_type": "markdown",
   "metadata": {},
   "source": [
    ">pass 키워드: 프로그래밍 시 전체 골격을 잡아 놓고 처리 할 내용은 차근차근 구현하고자 할 때"
   ]
  },
  {
   "cell_type": "code",
   "execution_count": null,
   "metadata": {},
   "outputs": [],
   "source": [
    "number = input(\"정수입력 > \")\n",
    "number = int(number)\n",
    "if number > 0:\n",
    "    # 양수일 때 : 아직 미구현 상태\n",
    "    0 # 오해의 소지가 있음\n",
    "else:\n",
    "    # 음수일 때 : 아직 미구현 상태\n",
    "    0  # 오해의 소지가 있음\n",
    "\n",
    "if number > 0:\n",
    "    pass\n",
    "\n",
    "# 예외처리 // 아직 구현되지 않았는다는 에러를 보여줌 // 왜냐면 pass하고 잊어먹고 코딩안할 경우도 있음\n",
    "if number > 0:\n",
    "    raise NotImplementedError\n",
    "else:\n",
    "    raise NotImplementedError"
   ]
  },
  {
   "cell_type": "markdown",
   "metadata": {},
   "source": [
    "> 📃사용자로부터 태어난 년도를 입력받아 띠를 리턴해주는 프로그램을 작성"
   ]
  },
  {
   "cell_type": "code",
   "execution_count": 20,
   "metadata": {},
   "outputs": [],
   "source": [
    "# 😢보균\n",
    "\n",
    "num = print(\"[00, 01, 02, 03, 04, 05, 06, 07, 08, 09, 10,11]\")\n",
    "animal = print(\"[원숭이, 닭, 개, 돼지, 쥐, 소, 호랑이, 토끼, 용, 뱀, 말, 양]\")\n",
    "\n",
    "# 사용자로부터 태어난 년도 입력받기\n",
    "str_input = input(\"태어난년도를 입력하시오: \")\n",
    "year_data = int(str_input)\n",
    "\n",
    "a = birth % 12\n",
    "# 입력받은 년도 % 12 [나머지]\n",
    "\n",
    "number = []\n",
    "ani = []\n",
    "\n",
    "for i in range(len(num)):\n",
    "    if a\n",
    "\n",
    "\n",
    "# 받은 년도에 12로 나눠 /나머지가 준거에 매칭"
   ]
  },
  {
   "cell_type": "code",
   "execution_count": 21,
   "metadata": {},
   "outputs": [
    {
     "name": "stdout",
     "output_type": "stream",
     "text": [
      "사용자는 1990생이며, 말,띠입니다.\n"
     ]
    }
   ],
   "source": [
    "# 😊보균 사용자로부터 태어난 년도를 입력받아 띠를 리턴해주는 프로그램을 작성\n",
    "\n",
    "animal = \"원숭이, 닭, 개, 돼지, 쥐, 소, 호랑이, 토끼, 용, 뱀, 말, 양\"\n",
    "split_animal = animal.split()\n",
    "zodiac = 0\n",
    "\n",
    "input_data = int(input(\"태어난 년도를 입력하세요: \"))\n",
    "\n",
    "birth = input_data % 12\n",
    "\n",
    "zodiac = split_animal[birth]\n",
    "print(f\"사용자는 {input_data}생이며, {zodiac}띠입니다.\")\n"
   ]
  },
  {
   "cell_type": "code",
   "execution_count": null,
   "metadata": {},
   "outputs": [],
   "source": [
    "# 👍유일심\n",
    "str_input = input(\"태어난 년도를 입력하시오 : \")\n",
    "year_data = int(str_input)\n",
    "remainder = year_data % 12\n",
    "\n",
    "#띠\n",
    "sign = \"\"\n",
    "print(f\"나머지: {remainder}\")\n",
    "\n",
    "if remainder == 0:\n",
    "    sign = \"원숭이\"\n",
    "elif remainder == 1:\n",
    "    sign = \"닭\"\n",
    "elif remainder == 2:\n",
    "    sign = \"개\"\n",
    "elif remainder == 3:\n",
    "    sign = \"돼지\"\n",
    "elif remainder == 4:\n",
    "   sign = \"쥐\"\n",
    "elif remainder == 5:\n",
    "    sign = \"소\"\n",
    "elif remainder == 6:\n",
    "    sign = \"호랑이\"\n",
    "elif remainder == 7:\n",
    "    sign = \"토끼\"\n",
    "elif remainder == 8:\n",
    "    sign = \"용\"\n",
    "elif remainder == 9:\n",
    "    sign = \"뱀\"\n",
    "elif remainder == 10:\n",
    "    sign = \"말\"\n",
    "elif remainder == 11:\n",
    "    sign = \"양\"\n",
    "\n",
    "print(f\"당신은 {sign}띠 입니다.\")"
   ]
  },
  {
   "cell_type": "code",
   "execution_count": 25,
   "metadata": {},
   "outputs": [
    {
     "name": "stdout",
     "output_type": "stream",
     "text": [
      "잘못입력했습니다.\n"
     ]
    }
   ],
   "source": [
    "# 👍류제우\n",
    "zodiac = ['원숭이', '닭', '개', '돼지', '쥐', '소', '호랑이', '토끼', '용', '뱀', '말', '양']\n",
    "try:\n",
    "    print(f\"당신의 띠는 {zodiac[int(input('태어난 해를 입력하세요'))%12]} 입니다.\")\n",
    "except:\n",
    "    print(\"잘못입력했습니다.\")"
   ]
  },
  {
   "cell_type": "code",
   "execution_count": null,
   "metadata": {},
   "outputs": [],
   "source": [
    "# 👍반건우\n",
    "dat = [\"원숭이\", \"닭\", \"개\", \"돼지\", \"쥐\", \"소\", \"호랑이\", \"토끼\", '용', \"뱀\", \"말\", '양']\n",
    "\n",
    "year = input(\"태어난 날짜를 입력하세요: \")\n",
    "year = int(year)\n",
    "number = year % 12\n",
    "\n",
    "# 0 ~ 11을 돈다.\n",
    "for a in range(len(dat)):\n",
    "    if number == a:\n",
    "        print(dat[a])"
   ]
  },
  {
   "cell_type": "code",
   "execution_count": null,
   "metadata": {},
   "outputs": [],
   "source": [
    "# 👍보균\n",
    "dat = [\"원숭이\", \"닭\", \"개\", \"돼지\", \"쥐\", \"소\", \"호랑이\", \"토끼\", '용', \"뱀\", \"말\", '양']\n",
    "\n",
    "input_data = input(\"태어난 날짜를 입력하세요: \")\n",
    "year = int(input_data)\n",
    "\n",
    "num = year % 12\n",
    "\n",
    "for i in range(len(dat)):\n",
    "    if num == i:\n",
    "        print(f\"태어난 년도 : {input_data}, 띠 : {dat[num]}\")\n",
    "\n"
   ]
  },
  {
   "cell_type": "markdown",
   "metadata": {},
   "source": [
    ">현재 계절을 리턴해주는 프로그램 작성"
   ]
  },
  {
   "cell_type": "code",
   "execution_count": null,
   "metadata": {},
   "outputs": [],
   "source": [
    "# 👍보균\n",
    "import datetime\n",
    "\n",
    "input_data = datetime.datetime.now().month\n",
    "season = \"\"\n",
    "\n",
    "for i in range(input_data):\n",
    "    if 3 <= i <= 5:\n",
    "        season = \"봄\"\n",
    "    elif 6 <= i <= 8:\n",
    "        season = \"여름\"\n",
    "    elif 9 <= i <= 11:\n",
    "        season = \"가을\"\n",
    "    else:\n",
    "        season = \"겨울\"\n",
    "\n",
    "print(f\"현재 {season}입니다.\")"
   ]
  },
  {
   "cell_type": "code",
   "execution_count": 36,
   "metadata": {},
   "outputs": [
    {
     "name": "stdout",
     "output_type": "stream",
     "text": [
      "여름\n"
     ]
    }
   ],
   "source": [
    "# 📃😢보균\n",
    "import datetime\n",
    "\n",
    "str_input = input(\"월을 입력하세요: \")\n",
    "season = int(str_input)\n",
    "\n",
    "\n",
    "if season <= 3:\n",
    "    print(\"봄\")\n",
    "\n",
    "elif season <= 6:\n",
    "    print(\"여름\")\n",
    "\n",
    "elif season <= 9:\n",
    "    print(\"가을\")\n",
    "\n",
    "elif season <= 12:\n",
    "    print(\"겨울\")\n"
   ]
  },
  {
   "cell_type": "code",
   "execution_count": null,
   "metadata": {},
   "outputs": [],
   "source": [
    "#👍장남준\n",
    "\n",
    "import datetime\n",
    "month = datetime.datetime.now().month\n",
    "if 3 <= month <= 5 : print(\"봄\")\n",
    "elif 6 <= month <= 8 : print(\"여름\")\n",
    "elif 9 <= month <= 11 : print(\"가을\")\n",
    "else : print(\"겨울\")"
   ]
  },
  {
   "cell_type": "markdown",
   "metadata": {},
   "source": [
    "> 짝수, 홀수 구분하는 프로그램"
   ]
  },
  {
   "cell_type": "code",
   "execution_count": null,
   "metadata": {},
   "outputs": [],
   "source": [
    "input_data = input(\"정수를 입력하시오: \")\n",
    "\n",
    "# 마지막 자리 숫자 추출 > [인덱스-1]\n",
    "last_char = input_data[-1]\n",
    "\n",
    "# 숫자로 변환\n",
    "number = int(last_char)\n",
    "\n",
    "if number == 0 or number == 2 or number == 4 or number == 6 or number == 8:\n",
    "    print(\"짝수입니다.\")\n",
    "else:\n",
    "    print(\"홀수입니다.\")"
   ]
  },
  {
   "cell_type": "code",
   "execution_count": 48,
   "metadata": {},
   "outputs": [
    {
     "name": "stdout",
     "output_type": "stream",
     "text": [
      "홀수입니다.\n"
     ]
    }
   ],
   "source": [
    "input_data = input(\"정수를 입력하시오: \")\n",
    "\n",
    "# 마지막 자리 숫자 추출 > [인덱스-1]\n",
    "last_char = input_data[-1]\n",
    "\n",
    "if last_char in \"02468\":\n",
    "    print(\"짝수입니다.\")\n",
    "else:\n",
    "    print(\"홀수입니다.\")"
   ]
  },
  {
   "cell_type": "code",
   "execution_count": null,
   "metadata": {},
   "outputs": [],
   "source": [
    "# % 연산자 사용\n",
    "if number % 2 == 0:\n",
    "    print(\"짝수입니다.\")\n",
    "else:\n",
    "    print(\"홀수입니다.\")"
   ]
  }
 ],
 "metadata": {
  "interpreter": {
   "hash": "054c0b5073ae8ed56926c5c67113945079b283bacf1a269ae7086b3d9eebd60c"
  },
  "kernelspec": {
   "display_name": "Python 3.10.1 64-bit",
   "language": "python",
   "name": "python3"
  },
  "language_info": {
   "codemirror_mode": {
    "name": "ipython",
    "version": 3
   },
   "file_extension": ".py",
   "mimetype": "text/x-python",
   "name": "python",
   "nbconvert_exporter": "python",
   "pygments_lexer": "ipython3",
   "version": "3.8.10"
  },
  "orig_nbformat": 4
 },
 "nbformat": 4,
 "nbformat_minor": 2
}
