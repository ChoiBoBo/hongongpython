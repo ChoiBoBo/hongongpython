{
 "cells": [
  {
   "cell_type": "markdown",
   "metadata": {},
   "source": [
    "### 04-1 리스트와 반복문\n",
    "---\n",
    "#### 시작하기 전에\n",
    "**리스트**란 '목록'이며 여러가지 자료를 저장할 수 있는 자료이다. 숫자, 문자열 등의 자료를 모아서 사용하는 자료"
   ]
  },
  {
   "cell_type": "code",
   "execution_count": 10,
   "metadata": {},
   "outputs": [
    {
     "data": {
      "text/plain": [
       "273"
      ]
     },
     "execution_count": 10,
     "metadata": {},
     "output_type": "execute_result"
    }
   ],
   "source": [
    "# 리스트이름 = [요소1, 요소2, 요소3, 요소4 ...]\n",
    "li = [273, 32, 0, \"문자열\", True, False]\n",
    "li[0] #인덱싱이 가능하다. 선형데이터구조 -> 쭉~ 줄세워서 뽑아쓴다."
   ]
  },
  {
   "cell_type": "markdown",
   "metadata": {},
   "source": [
    ">리스트 선언하고 요소(element)에 접근하기 : 리스트 인덱싱(indexing)과 슬라이싱(slicing)"
   ]
  },
  {
   "cell_type": "code",
   "execution_count": 12,
   "metadata": {},
   "outputs": [
    {
     "data": {
      "text/plain": [
       "['변경', 2, 3, 4, 5]"
      ]
     },
     "execution_count": 12,
     "metadata": {},
     "output_type": "execute_result"
    }
   ],
   "source": [
    "il = [1, 2, 3, 4, 5]\n",
    "sl = [\"안\", \"녕\", \"하\", \"세\", \"요\"]\n",
    "tl = [273, 32, 103, \"문자열\",[True, False], \"Hello\"]\n",
    "\n",
    "sl[2]\n",
    "tl[-2][0] # 배열의 배열(2차원 배열)\n",
    "\n",
    "il[0] = \"변경\"\n",
    "il\n",
    "\n",
    "# 대한민국 = [[[신사동, [삼성, 푸르지오]]강남구, 강동구], 인천, 대구, 부산] #4차원 배열\n"
   ]
  },
  {
   "cell_type": "code",
   "execution_count": 20,
   "metadata": {},
   "outputs": [
    {
     "data": {
      "text/plain": [
       "['변경', 32, 0, '문자', True, False]"
      ]
     },
     "execution_count": 20,
     "metadata": {},
     "output_type": "execute_result"
    }
   ],
   "source": [
    "str_data = \"Life is too short, You need Python\"\n",
    "str_data[-6] #p\n",
    "str_data[0:3 + 1] #Life\n",
    "\n",
    "li = [273, 32, 0, \"문자\", True, False]\n",
    "\n",
    "#슬라이싱\n",
    "li[:3]\n",
    "\n",
    "# 리스트의 특정 요소 변경\n",
    "li[0] = \"변경\"\n",
    "li"
   ]
  },
  {
   "cell_type": "markdown",
   "metadata": {},
   "source": [
    "> 리스트에서의 IndexError(예외)"
   ]
  },
  {
   "cell_type": "code",
   "execution_count": null,
   "metadata": {},
   "outputs": [],
   "source": [
    "a = [273, 32, 103]\n",
    "a[0]\n",
    "a[3] #Error\n",
    "\n",
    "# IndexError 내가 범위(선)을 넘었다라고 생각해라."
   ]
  },
  {
   "cell_type": "markdown",
   "metadata": {},
   "source": [
    "> 리스트 연산자 : +, *, len()"
   ]
  },
  {
   "cell_type": "code",
   "execution_count": 25,
   "metadata": {},
   "outputs": [
    {
     "name": "stdout",
     "output_type": "stream",
     "text": [
      "[1, 2, 3, 4, 5, 6]\n",
      "[1, 2, 3, 1, 2, 3, 1, 2, 3]\n",
      "9\n"
     ]
    }
   ],
   "source": [
    "a = [1, 2, 3]\n",
    "b = [4, 5, 6]\n",
    "c = a + b\n",
    "print(c)\n",
    "\n",
    "d = a * 3\n",
    "print(d)\n",
    "\n",
    "print(len(d))"
   ]
  },
  {
   "cell_type": "markdown",
   "metadata": {},
   "source": [
    "> 리스트에 요소 추가하기 : append, insert"
   ]
  },
  {
   "cell_type": "code",
   "execution_count": null,
   "metadata": {},
   "outputs": [],
   "source": [
    "# 리스트.append(요소) : 리스트 맨 뒤에 요소가 추가\n",
    "# 리스트.insert(위치, 요소) : 리스트의 지정위치에 요소를 추가\n",
    "\n",
    "data = [1, 2, 3]\n",
    "data.append(4)\n",
    "data.append(5)\n",
    "print(data)\n",
    "\n",
    "data = []\n",
    "# 0~29까지 30번 반복\n",
    "for i in range(30):\n",
    "    data.append(i+1) #1~30까지 하고 싶다 // 위에 30은 되도록 건드리자마. 명시적인 약속이다. // 30번 반복이다 라는 직관적이기 때문에\n",
    "print(data)\n",
    "\n",
    "data.insert(5, \"a\")\n",
    "print(data)\n",
    "data[5] #a\n",
    "\n",
    "#리스트.extend(리스트) : 해당 리스트를 확장\n",
    "li_a = ['a', 'b', 'c']\n",
    "li_b = ['e', 'f', 'g']\n",
    "li_c = li_a + li_b\n",
    "print(li_c)\n",
    "\n",
    "li_c.extend(['h', 'i'])\n",
    "print(li_c)\n"
   ]
  },
  {
   "cell_type": "code",
   "execution_count": null,
   "metadata": {},
   "outputs": [],
   "source": [
    "data = [1, 2, 3]\n",
    "data.append(4)\n",
    "data\n",
    "\n",
    "data = []\n",
    "for i in range(30):\n",
    "    data.append(i + 1)\n",
    "\n",
    "print(data)"
   ]
  },
  {
   "cell_type": "markdown",
   "metadata": {},
   "source": [
    "> 리스트에 요소 제거하기 : 인덱스로 제거, 값으로 제거"
   ]
  },
  {
   "cell_type": "code",
   "execution_count": null,
   "metadata": {},
   "outputs": [],
   "source": [
    "# 1. 인덱스사용\n",
    "li = ['a', 'b', 'c', 'e', 'd', 'f']\n",
    "\n",
    "# 1. del()\n",
    "# del li #li 리스트를 자체 삭제함\n",
    "# li\n",
    "\n",
    "del li[1]\n",
    "print(li)\n",
    "\n",
    "del li[:2]\n",
    "print(li)\n",
    "\n",
    "# 2. 리스트.pop(인덱스)\n",
    "print(\"삭제요소:\", li.pop(2))\n",
    "print(li)\n",
    "print(\"삭제요소:\", li.pop()) #지정하지 않으면, 맨 마지막꺼를 출력하고 삭제함.\n",
    "print(li)"
   ]
  },
  {
   "cell_type": "code",
   "execution_count": null,
   "metadata": {},
   "outputs": [],
   "source": [
    "li = ['a', 'b', 'c', 'e', 'd', 'f']\n",
    "\n",
    "del li[1]\n",
    "print(li) #['a', 'c', 'e', 'd', 'f']\n",
    "\n",
    "\n",
    "print(\"pop 요소\", li.pop(0)) # a\n",
    "print(li) # ['c', 'e', 'd', 'f']"
   ]
  },
  {
   "cell_type": "code",
   "execution_count": null,
   "metadata": {},
   "outputs": [],
   "source": [
    "# 값으로 제거\n",
    "\n",
    "# 리스트.remove(값)\n",
    "li = [1, 2, 1, 2]\n",
    "print(li)\n",
    "\n",
    "li.remove(2) # 리스트 내부에 해당하는 값이 여러개 있어도 가장 *먼저 발견*되는 *하나*만 제거\n",
    "print(li) \n",
    "li.remove(2) \n",
    "print(li) # 이제 모두 제거 // 나중에 반복문을 돌려라"
   ]
  },
  {
   "cell_type": "code",
   "execution_count": null,
   "metadata": {},
   "outputs": [],
   "source": [
    "# 모두 제거 : clear()\n",
    "\n",
    "li = [0, 1, 2, 3, 4, 5]\n",
    "print(li)\n",
    "\n",
    "li.remove(0)\n",
    "print(li)\n",
    "\n",
    "li.clear() \n",
    "print(li) # 다 비우기"
   ]
  },
  {
   "cell_type": "markdown",
   "metadata": {},
   "source": [
    "> 리스트 내부에 있는지 없는지 확인하기 : in / not in 연산자"
   ]
  },
  {
   "cell_type": "code",
   "execution_count": null,
   "metadata": {},
   "outputs": [],
   "source": [
    "print('c' in \"abcdefg\")\n",
    "print('cg' in \"abcdefg\")\n",
    "\n",
    "list_n = [273, 32, 103, 57]\n",
    "\n",
    "print(273 in list_n)\n",
    "print(99 not in list_n)\n",
    "\n",
    "val = 103\n",
    "if val not in list_n:\n",
    "    list_n.append(val)\n",
    "\n",
    "print(list_n)"
   ]
  },
  {
   "cell_type": "markdown",
   "metadata": {},
   "source": [
    ">for 반복문(looping)"
   ]
  }
 ],
 "metadata": {
  "interpreter": {
   "hash": "054c0b5073ae8ed56926c5c67113945079b283bacf1a269ae7086b3d9eebd60c"
  },
  "kernelspec": {
   "display_name": "Python 3.10.1 64-bit",
   "language": "python",
   "name": "python3"
  },
  "language_info": {
   "codemirror_mode": {
    "name": "ipython",
    "version": 3
   },
   "file_extension": ".py",
   "mimetype": "text/x-python",
   "name": "python",
   "nbconvert_exporter": "python",
   "pygments_lexer": "ipython3",
   "version": "3.8.10"
  },
  "orig_nbformat": 4
 },
 "nbformat": 4,
 "nbformat_minor": 2
}
