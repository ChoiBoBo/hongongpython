{
 "cells": [
  {
   "cell_type": "markdown",
   "metadata": {},
   "source": [
    "### 04-4 문자열, 리스트, 딕셔너리 관련된 기본 함수\n",
    "---\n",
    "***파이썬스런*** 고유 기능 살펴보기 : enumerate() 👍리스트 내포(List comprehension)"
   ]
  },
  {
   "cell_type": "markdown",
   "metadata": {},
   "source": [
    "> 리스트에 적용할 수 있는 기본함수 : min(), max(), sum()"
   ]
  },
  {
   "cell_type": "code",
   "execution_count": 14,
   "metadata": {},
   "outputs": [
    {
     "name": "stdout",
     "output_type": "stream",
     "text": [
      "최고점: 98\n",
      "최저점: 56\n",
      "총  점: 400\n",
      "평균: 80.0\n",
      "[56, 63, 87, 96, 98]\n",
      "최고점: 98\n",
      "최저점: 56\n"
     ]
    }
   ],
   "source": [
    "# 1 ~ 10 까지의 합\n",
    "li = list(range(1, 10 + 1))\n",
    "sum(li)\n",
    "\n",
    "scores = [96, 87 , 98, 63, 56]\n",
    "print(\"최고점:\", max(scores))\n",
    "print(\"최저점:\", min(scores))\n",
    "print(\"총  점:\", sum(scores))\n",
    "print(\"평균:\", sum(scores) / len(scores))\n",
    "\n",
    "scores.sort() # 요소가 오름차순 정렬\n",
    "print(scores)\n",
    "print(\"최고점:\", scores[-1])\n",
    "print(\"최저점:\", scores[0])"
   ]
  },
  {
   "cell_type": "markdown",
   "metadata": {},
   "source": [
    "> reversed() : 리스트 뒤집기"
   ]
  },
  {
   "cell_type": "code",
   "execution_count": 15,
   "metadata": {},
   "outputs": [
    {
     "data": {
      "text/plain": [
       "[1, 2, 3, 4, 5]"
      ]
     },
     "execution_count": 15,
     "metadata": {},
     "output_type": "execute_result"
    }
   ],
   "source": [
    "list_a = list(range(1, 5 + 1))\n",
    "list_a"
   ]
  }
 ],
 "metadata": {
  "interpreter": {
   "hash": "054c0b5073ae8ed56926c5c67113945079b283bacf1a269ae7086b3d9eebd60c"
  },
  "kernelspec": {
   "display_name": "Python 3.10.1 64-bit",
   "language": "python",
   "name": "python3"
  },
  "language_info": {
   "codemirror_mode": {
    "name": "ipython",
    "version": 3
   },
   "file_extension": ".py",
   "mimetype": "text/x-python",
   "name": "python",
   "nbconvert_exporter": "python",
   "pygments_lexer": "ipython3",
   "version": "3.8.10"
  },
  "orig_nbformat": 4
 },
 "nbformat": 4,
 "nbformat_minor": 2
}
