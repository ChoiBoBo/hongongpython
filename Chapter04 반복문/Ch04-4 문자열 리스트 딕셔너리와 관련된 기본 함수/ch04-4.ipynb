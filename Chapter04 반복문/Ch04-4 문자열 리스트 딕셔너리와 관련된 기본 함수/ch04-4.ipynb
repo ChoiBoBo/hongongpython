{
 "cells": [
  {
   "cell_type": "markdown",
   "metadata": {},
   "source": [
    "### 04-4 문자열, 리스트, 딕셔너리 관련된 기본 함수\n",
    "---\n",
    "***파이썬스런*** 고유 기능 살펴보기 : enumerate() 👍리스트 내포(List comprehension)"
   ]
  },
  {
   "cell_type": "markdown",
   "metadata": {},
   "source": [
    "> 리스트에 적용할 수 있는 기본함수 : min(), max(), sum()"
   ]
  },
  {
   "cell_type": "code",
   "execution_count": 14,
   "metadata": {},
   "outputs": [
    {
     "name": "stdout",
     "output_type": "stream",
     "text": [
      "최고점: 98\n",
      "최저점: 56\n",
      "총  점: 400\n",
      "평균: 80.0\n",
      "[56, 63, 87, 96, 98]\n",
      "최고점: 98\n",
      "최저점: 56\n"
     ]
    }
   ],
   "source": [
    "# 1 ~ 10 까지의 합\n",
    "li = list(range(1, 10 + 1))\n",
    "sum(li)\n",
    "\n",
    "scores = [96, 87 , 98, 63, 56]\n",
    "print(\"최고점:\", max(scores))\n",
    "print(\"최저점:\", min(scores))\n",
    "print(\"총  점:\", sum(scores))\n",
    "print(\"평균:\", sum(scores) / len(scores))\n",
    "\n",
    "scores.sort() # 요소가 오름차순 정렬\n",
    "print(scores)\n",
    "print(\"최고점:\", scores[-1])\n",
    "print(\"최저점:\", scores[0])"
   ]
  },
  {
   "cell_type": "markdown",
   "metadata": {},
   "source": [
    "> reversed() : 리스트 뒤집기"
   ]
  },
  {
   "cell_type": "code",
   "execution_count": 3,
   "metadata": {},
   "outputs": [
    {
     "name": "stdout",
     "output_type": "stream",
     "text": [
      "<list_reverseiterator object at 0x0000029FBB2E82E0>\n",
      "5\n",
      "4\n",
      "3\n",
      "2\n",
      "1\n"
     ]
    },
    {
     "data": {
      "text/plain": [
       "[]"
      ]
     },
     "execution_count": 3,
     "metadata": {},
     "output_type": "execute_result"
    }
   ],
   "source": [
    "list_a = list(range(1, 5 + 1))\n",
    "list_reversed = reversed(list_a)\n",
    "\n",
    "print(list_reversed)\n",
    "\n",
    "# 반복문 적용\n",
    "for i in list_reversed:\n",
    "    print(i)\n",
    "\n",
    "li = list(list_reversed)\n",
    "li"
   ]
  },
  {
   "cell_type": "markdown",
   "metadata": {},
   "source": [
    "> 확장(stop) 슬라이싱 으로 리스트 뒤집기"
   ]
  },
  {
   "cell_type": "code",
   "execution_count": 4,
   "metadata": {},
   "outputs": [
    {
     "ename": "SyntaxError",
     "evalue": "invalid syntax (Temp/ipykernel_2368/3186810526.py, line 3)",
     "output_type": "error",
     "traceback": [
      "\u001b[1;36m  File \u001b[1;32m\"C:\\Users\\LG\\AppData\\Local\\Temp/ipykernel_2368/3186810526.py\"\u001b[1;36m, line \u001b[1;32m3\u001b[0m\n\u001b[1;33m    numbers[-1: :: -1] #-1부터 끝까지 -1으로 이동\u001b[0m\n\u001b[1;37m                 ^\u001b[0m\n\u001b[1;31mSyntaxError\u001b[0m\u001b[1;31m:\u001b[0m invalid syntax\n"
     ]
    }
   ],
   "source": [
    "numbers = [1, 2, 3, 4, 5]\n",
    "# 확인 필요\n",
    "numbers[-1: :: -1] #-1부터 끝까지 -1으로 이동\n"
   ]
  },
  {
   "cell_type": "markdown",
   "metadata": {},
   "source": [
    "> 이터레이터(Iterator)"
   ]
  },
  {
   "cell_type": "code",
   "execution_count": 10,
   "metadata": {},
   "outputs": [
    {
     "name": "stdout",
     "output_type": "stream",
     "text": [
      "a a b b c c d d e e f f \n",
      "<class 'list_iterator'>\n"
     ]
    }
   ],
   "source": [
    "# [\"문자열\",3,True,..] # 자료형이 일치 하지 않아\n",
    "# __iter__() #이놈들 장치를 구현해두면 자료형 상관없이 작동\n",
    "\n",
    "# Iterable 객체 : 반복 가능한 객체('str', 'list', 'dic', 'tuple', 'range', 'enumerate' ...)\n",
    "for i in 'abcdef':\n",
    "    print(i, end = ' ')\n",
    "    print(i, end = ' ')\n",
    "print()\n",
    "# Iterator 객체 : 값을 차례대로 꺼낼 수 있는 객체\n",
    "\n",
    "li = [1,2,3]\n",
    "# dir(li)\n",
    "#__iter__\n",
    "li_it = iter(li) #__iter__를 호출하는 것과 같음 // 이걸하면 반복자가 리턴이 된다.\n",
    "print(type(li_it))\n",
    "\n",
    "# next() 내장함수로 차례대로 값을 꺼내기\n",
    "print(next(li_it)) #1\n",
    "print(next(li_it)) #2\n",
    "print(next(li_it)) #3\n",
    "print(next(li_it)) #StopIteration\n",
    "\n",
    "#        [0.. ~ .. 99] (x) 이게 아니야 // 위에 next 처럼 1나오고 i넣고 2나오면 i 넣고 즉 메모리를 차지하지 않음.\n",
    "for i in range(100):\n",
    "    "
   ]
  },
  {
   "cell_type": "markdown",
   "metadata": {},
   "source": [
    "> enumerate() 함수와 반복문 조합하기"
   ]
  },
  {
   "cell_type": "code",
   "execution_count": null,
   "metadata": {},
   "outputs": [],
   "source": [
    "# enum : 열거형 상수(열거한 숫자이다.)\n",
    "# 부서코드 : 관리부(012)..\n",
    "\n",
    "alpas = ['a', 'b', 'c', 'd']\n",
    "enum_li = enumerate(alpas)\n",
    "print(\"enumerated{} = {}\".format(alpas, enum_li))\n",
    "print(\"enumerated{} = {}\".format(alpas, list(enum_li)))\n",
    "\n",
    "# 아래를 출력하고 싶은데 index 번호도 같이 출력하고 싶은거야.\n",
    "# 그 전의 불편함.\n",
    "for i in range(len(alpas)):\n",
    "    print(i , alpas[i])\n",
    "\n",
    "print(\"=\" * 10)\n",
    "\n",
    "# enumerate 사용함.\n",
    "for i, e in enumerate(alpas):\n",
    "    print(i, \"=\", e)"
   ]
  },
  {
   "cell_type": "code",
   "execution_count": null,
   "metadata": {},
   "outputs": [],
   "source": [
    "a = ['a', 'b', 'c', 'd']\n",
    "# enum_li = enumerate(a)\n",
    "# # print(list(enum_li))\n",
    "# 결과 [(0, 'a'), (1, 'b'), (2, 'c'), (3, 'd')]\n",
    "\n",
    "for i, e in enumerate(a):\n",
    "    print(i, \"=\", e)\n"
   ]
  },
  {
   "cell_type": "markdown",
   "metadata": {},
   "source": [
    "> 딕셔너리의 items() 함수와 반복문 조합하기"
   ]
  },
  {
   "cell_type": "code",
   "execution_count": null,
   "metadata": {},
   "outputs": [],
   "source": [
    "di = {\"A+\":95, \"A\":90, \"B+\":85, \"B\":80, \"D\":60}\n",
    "for e in di:\n",
    "    print(e) # key만 찍힘\n",
    "\n",
    "print(\"=\" * 20)\n",
    "\n",
    "# 결과 dict_items([('A+', 95), ('A', 90), ('B+', 85), ('B', 80), ('D', 60)])\n",
    "print(di.items())\n",
    "\n",
    "for k, v in di.items():\n",
    "    print(\"키:{}, 값:{}\".format(k, v))\n"
   ]
  },
  {
   "cell_type": "markdown",
   "metadata": {},
   "source": [
    "> 리스트 내포(List comprehension)"
   ]
  },
  {
   "cell_type": "code",
   "execution_count": 62,
   "metadata": {},
   "outputs": [
    {
     "name": "stdout",
     "output_type": "stream",
     "text": [
      "li_1 = [0, 1, 2, 3, 4, 5, 6, 7, 8, 9]\n",
      "li_2 = [0, 1, 2, 3, 4, 5, 6, 7, 8, 9]\n",
      "li_3 = [0, 100, 200, 300, 400, 500, 600, 700, 800, 900]\n",
      "li_4 = [1, 1, 4, 27, 256, 3125, 46656, 823543, 16777216, 387420489]\n",
      "li_5 = [0, 2, 4, 6, 8]\n",
      "li_6 = [0, 2, 4, 6, 8]\n"
     ]
    }
   ],
   "source": [
    "# [ ] 리스트 안에 식, for 반복문, if 조건문 등을 지정하여 리스트를 생성하는 것\n",
    "# [ 식 for 변수 in 반복자료형 if 조건식 ]\n",
    "# list(식 for 변수 in 반복자료형 if 조건식) # 식 생성\n",
    "\n",
    "li_1 = list(range(10))\n",
    "print(\"li_1 =\", li_1)\n",
    "\n",
    "# 왜 위에처럼 하면 되는데, 굳이 만들까?\n",
    "# 답은 아래\n",
    "li_2 = [i for i in range(10)]\n",
    "print(\"li_2 =\", li_2)\n",
    "\n",
    "# li_1은 딱 그것만할 수 있어.\n",
    "# 물론 코드 변경하면 가능함\n",
    "# 하지만 아래처럼 작성하면 직관적이며 쉬워짐.\n",
    "# 응용 1\n",
    "li_3 = [i * 100 for i in range(10)]\n",
    "print(\"li_3 =\", li_3)\n",
    "\n",
    "# 응용 2\n",
    "li_4 = [i ** i for i in range(10)] #각 수의 제곱\n",
    "print(\"li_4 =\", li_4)\n",
    "\n",
    "# 👀문제\n",
    "# 결과 li_5 = [0, 2, 4, 6, 8] // 짝수 리스트\n",
    "li_5 = []\n",
    "for i in range(10):\n",
    "    if i % 2 == 0:\n",
    "        li_5.append(i)\n",
    "print(\"li_5 =\", li_5)\n",
    "\n",
    "# 위와 같은 코드\n",
    "li_6 = [i for i in range(10) if i % 2 == 0]\n",
    "print(\"li_6 =\", li_6)\n",
    "\n"
   ]
  },
  {
   "cell_type": "code",
   "execution_count": 66,
   "metadata": {},
   "outputs": [
    {
     "name": "stdout",
     "output_type": "stream",
     "text": [
      "2175313866960\n",
      "2175313870240\n"
     ]
    }
   ],
   "source": [
    "# 😢보균\n",
    "presidents = [\"이승만\", \"박정희\", \"전두환\", \"최규하\", \"노태우\", \"김영삼\", \"김대중\", \"노무현\", \"이명학\", \"문재인\"]\n",
    "\n",
    "# 성이 '김', '이', '박' 인 대통령을 추출하여 리스트를 생성하라.\n",
    "output = []\n",
    "print(\"output =\", output)\n",
    "\n",
    "\n"
   ]
  },
  {
   "cell_type": "code",
   "execution_count": 67,
   "metadata": {},
   "outputs": [
    {
     "name": "stdout",
     "output_type": "stream",
     "text": [
      "['이승만', '박정희', '김영삼', '김대중', '이명학'] "
     ]
    }
   ],
   "source": [
    "# 류제우 \n",
    "output = [name for name in presidents if name[0] in '김이박']\n",
    "print(output, end=' ')"
   ]
  },
  {
   "cell_type": "code",
   "execution_count": 70,
   "metadata": {},
   "outputs": [
    {
     "name": "stdout",
     "output_type": "stream",
     "text": [
      "['이승만 대통령', '박정희 대통령', '김영삼 대통령', '김대중 대통령', '이명학 대통령'] "
     ]
    }
   ],
   "source": [
    "# 강사님\n",
    "output = [name + \" 대통령\" for name in presidents if name[0] in '김이박']\n",
    "print(output, end=' ')"
   ]
  },
  {
   "cell_type": "markdown",
   "metadata": {},
   "source": [
    "> 구구단 출력 프로그램 작성"
   ]
  },
  {
   "cell_type": "code",
   "execution_count": null,
   "metadata": {},
   "outputs": [],
   "source": [
    "multi_list = []\n",
    "for i in range(2, 9 + 1):\n",
    "    for j in range(1, 9 + 1):\n",
    "        k = i * j\n",
    "        print(\"{}x{}={:02}\".format(i, j, k), end = \" \")\n",
    "        multi_list.append(k)\n",
    "    print()\n",
    "print()\n",
    "print(\"multi_list =\", multi_list)\n",
    "\n",
    "\n",
    "# 😢도전해야함! 다른 학생 꺼\n",
    "# multi_list2 = []\n",
    "# print(\"multi_list2 =\", multi_list2)\n",
    "\n",
    "multi_list2 = [i * j for i in range(2, 9 + 1) for j in range(1, 9 + 1)]\n",
    "print(\"multi_list2 =\", multi_list2)"
   ]
  },
  {
   "cell_type": "markdown",
   "metadata": {},
   "source": [
    "> 문자열 join() 함수"
   ]
  },
  {
   "cell_type": "code",
   "execution_count": 82,
   "metadata": {},
   "outputs": [
    {
     "data": {
      "text/plain": [
       "'C:\\\\Program Files\\\\Git\\\\tmp'"
      ]
     },
     "execution_count": 82,
     "metadata": {},
     "output_type": "execute_result"
    }
   ],
   "source": [
    "# 문자열.join(무자열로 구성된 리스트)\n",
    "\n",
    "phone =  '-'.join(['010', '1234', '5678'])\n",
    "phone\n",
    "path = \"\\\\\".join([\"C:\", \"Program Files\", \"Git\", \"tmp\"])\n",
    "path"
   ]
  }
 ],
 "metadata": {
  "interpreter": {
   "hash": "054c0b5073ae8ed56926c5c67113945079b283bacf1a269ae7086b3d9eebd60c"
  },
  "kernelspec": {
   "display_name": "Python 3.10.1 64-bit",
   "language": "python",
   "name": "python3"
  },
  "language_info": {
   "codemirror_mode": {
    "name": "ipython",
    "version": 3
   },
   "file_extension": ".py",
   "mimetype": "text/x-python",
   "name": "python",
   "nbconvert_exporter": "python",
   "pygments_lexer": "ipython3",
   "version": "3.8.10"
  },
  "orig_nbformat": 4
 },
 "nbformat": 4,
 "nbformat_minor": 2
}
