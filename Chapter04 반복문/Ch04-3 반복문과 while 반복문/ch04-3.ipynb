{
 "cells": [
  {
   "cell_type": "markdown",
   "metadata": {},
   "source": [
    "> 반복문 : break / continue"
   ]
  },
  {
   "cell_type": "code",
   "execution_count": null,
   "metadata": {},
   "outputs": [],
   "source": [
    "# 주사위 던지기\n",
    "import random\n",
    "\n",
    "while True:\n",
    "    user_key = input(\"아무 키나 입력하세요(종료키: Q/q)> \")\n",
    "    if user_key in['Q', 'q']:\n",
    "        break # 반복문 빠져나가기\n",
    "    else:\n",
    "        dice = int(random.random() * 6) + 1\n",
    "        print(\"● \" * dice)\n",
    "print(\"주사위 던지기를 종료합니다. Good Bye~\")\n",
    "    \n"
   ]
  },
  {
   "cell_type": "code",
   "execution_count": null,
   "metadata": {},
   "outputs": [],
   "source": [
    "# continue : 실행을 건너뛰고 반복조건으로 되돌리기\n",
    "\n",
    "# 369 게임\n",
    "# 3, 6, 9 : '🙌'\n",
    "\n",
    "user = input(\"369게임 숫자 범위를 입력(예:1-10)\")\n",
    "li = user.split('-')\n",
    "start = int(li[0])\n",
    "stop = int(li[-1])\n",
    "\n",
    "# start,2,3,4,5,6,7..stop\n",
    "for num in range(start, stop + 1):\n",
    "    count = 0 # 초기화\n",
    "    for ch in str(num): # ch = \"1230679\" for 돌면서 있으면 count에 1개씩 추가// 그래서 최종 3개면 3번 박수 치면 돼\n",
    "        if ch in ['3', '6', '9']:\n",
    "            count += 1\n",
    "\n",
    "        if count == 0: \n",
    "            continue # 행을 건너뛰고 반복조건으로 되돌리기 // 다시 맨위 for으로 감 // for num in range(start, stop + 1):\n",
    "        else:\n",
    "            print(\"{:3d}: {}\".format(num, '🙌' * count))"
   ]
  },
  {
   "cell_type": "code",
   "execution_count": null,
   "metadata": {},
   "outputs": [],
   "source": [
    "# 😢보균) 1-100 정수 중 3의 배수만 출력하는 프로그램을 작성\n",
    "\n",
    "input_data = input(\"1-100 정수를 입력: \")\n",
    "li = input_data.split(\"-\")\n",
    "start = int(li[0])\n",
    "end = int(li[-1])\n",
    "\n",
    "for num in range(start, end -1):\n",
    "    count = 0\n",
    "    for ch in str(num)\n",
    "\n",
    "    "
   ]
  },
  {
   "cell_type": "code",
   "execution_count": null,
   "metadata": {},
   "outputs": [],
   "source": [
    "# 👍양주원 학생\n",
    "for num in range(0, 101):\n",
    "    if num % 3 == 0:\n",
    "        print(num)\n",
    "    else:\n",
    "        continue"
   ]
  }
 ],
 "metadata": {
  "interpreter": {
   "hash": "054c0b5073ae8ed56926c5c67113945079b283bacf1a269ae7086b3d9eebd60c"
  },
  "kernelspec": {
   "display_name": "Python 3.10.1 64-bit",
   "language": "python",
   "name": "python3"
  },
  "language_info": {
   "codemirror_mode": {
    "name": "ipython",
    "version": 3
   },
   "file_extension": ".py",
   "mimetype": "text/x-python",
   "name": "python",
   "nbconvert_exporter": "python",
   "pygments_lexer": "ipython3",
   "version": "3.8.10"
  },
  "orig_nbformat": 4
 },
 "nbformat": 4,
 "nbformat_minor": 2
}
